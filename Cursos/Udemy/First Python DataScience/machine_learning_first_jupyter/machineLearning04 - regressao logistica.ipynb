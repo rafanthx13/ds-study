{
 "cells": [
  {
   "cell_type": "markdown",
   "metadata": {},
   "source": [
    "# machineLearning - Regressao Logistica\n",
    "+ Compreende Seçao 4 à 3.2 do Statitical Learnig\n",
    "+ Regressâo logistica é um MÉTODO DE CLASSIFICAÇÂO\n",
    "+ Podemos Fazer: Filtro de emails (spam ou nao), diagnotitico de  doença (tem doença ou nao), cliente inadiplemnte (inadiplente ou nao\n",
    "+ A regressao lienar revolve para problemas de valores continuos (de -inifnito a mais infito, para qualquer valor real. A Regressão Logística será útil resolver problemas de valores discrteos \n",
    "    + Dado uma entrada, queremos sebaer se ela é 0 ou 1, e nao uma funçao. Assim é classificaçao de categorias discretas(0 e 1)\n",
    "\n",
    "##### Por que nao usar a regressoa linear?\n",
    "+ o modelo linear cria  uma funçao, que pode ir de - inifito a + inifrito, entao, nao é boa para classificar se algo é ou não\n",
    "+ Na regressao logisca, usamso funçao de intervalo \\[0,1\\] assim sabemos melhor. Se comporta melhor com probabilidade\n",
    "+ USAMOS SIGMOIDE (de \\[0,1\\]), muito usada em redes neurais\n",
    "    + Podmos colocar funçoes de regressao lienar dentro da Sigmoide\n",
    "    \n",
    "##### Como avalair a Regressao Logistica?\n",
    "+ Usmaaos matriz de confusão\n",
    "+ Para calssifciaçao Binaria (0 ou 1), um valor previsto pode ser\n",
    "    + T = TRUE (Acertou), P = POSITIVE, F = FALSE (Errou), N = NEGATIVE\n",
    "    + TP\n",
    "    + TN \n",
    "    + FP = Erro do tipo 1\n",
    "    + FN = Erro do tipo 2\n",
    "+ Com esses indices, podemos medir para saber o quanto acertou ou nao,"
   ]
  },
  {
   "cell_type": "markdown",
   "metadata": {},
   "source": [
    "# Regressão logística com Python\n",
    "\n",
    "Para esta aula, estaremos trabalhando com o [Conjunto de dados do Titanic da Kaggle](https://www.kaggle.com/c/titanic). Este é um conjunto de dados muito famoso e muitas vezes é o primeiro passo em Machine Learning!\n",
    "\n",
    "Vamos tentar montar um algoritmo de classificação sobrevivente ou falecido utilizando regressão logística no Python.\n",
    "\n",
    "Usaremos uma versão \"semi-limpa\" do conjunto de dados do Titanic. Se você usar o conjunto de dados hospedado diretamente no Kaggle, talvez seja necessário fazer uma limpeza adicional não mostrada neste notebook.\n",
    "\n",
    "## Importar bibliotecas\n",
    "Vamos importar algumas bibliotecas para começar!"
   ]
  },
  {
   "cell_type": "code",
   "execution_count": null,
   "metadata": {},
   "outputs": [],
   "source": []
  }
 ],
 "metadata": {
  "kernelspec": {
   "display_name": "Python 3",
   "language": "python",
   "name": "python3"
  },
  "language_info": {
   "codemirror_mode": {
    "name": "ipython",
    "version": 3
   },
   "file_extension": ".py",
   "mimetype": "text/x-python",
   "name": "python",
   "nbconvert_exporter": "python",
   "pygments_lexer": "ipython3",
   "version": "3.6.4"
  }
 },
 "nbformat": 4,
 "nbformat_minor": 2
}
