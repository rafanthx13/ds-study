{
 "cells": [
  {
   "cell_type": "markdown",
   "metadata": {},
   "source": [
    "# Mahcine Learing\n",
    "+ Usaremos o Livro Introduction to Statitical Learing (Gareth James)"
   ]
  },
  {
   "cell_type": "markdown",
   "metadata": {},
   "source": [
    "---\n",
    "## O que é Machine Learning\n",
    "+ Método para análise de Dados que automzatiza criação de modelos\n",
    "+ Com algortimos, aprendem sobre os dados, encontrando pasrôes escondidos e muias outras coisas\n",
    "    + Assim pode encontrar padrões e relações que você nem sabia que existiam\n",
    "### Usado em\n",
    "+ Detecçao de fraude (criando perfil/padrao do consumidor e detectando cquando há uma discrepancia muito grande)\n",
    "+ Anuncios Automáticos\n",
    "+ Previção (cotações/séries tempoarais\n",
    "+ Sistema de Recomendaçao (Spotify, Netflix, Google e Fcaeboook são top nisso)\n",
    "\n",
    "### Processo básico\n",
    "1. Aquisioção de Dados\n",
    "    + Parte muito importante\n",
    "2. Limpeza de Dados\n",
    "    + Tem que dar um pré-processamento\n",
    "3. Separa os dados em \n",
    "    + 3.1 Dados de Teste\n",
    "        + Vai aprender com esses dados\n",
    "    + 3.2 Dados de treinamento para construir o modelo\n",
    "        + Conseguimos saber se o modelo aprendeu mesmo\n",
    "4. Testa o modelo\n",
    "    + Fica no loop de 2 à 4 até ficar bom e entâo\n",
    "5. Usa o modelo na prática\n",
    "\n",
    "#### Tipos de Algortitmos de ML (MachineLearning)\n",
    "\n",
    "###### Supervisione Learning\n",
    "+ Voce já sabe os significdos semânticos dos dados\n",
    "+ O algoritmo recebe daos e na saida, como sabe se está certo ou errado, ele adapata seu modelo a partir do conjunto de teste\n",
    "\n",
    "###### Unsupervisined Learning\n",
    "+ Qunado não sabe, nao tem classificação prévias\n",
    "+ Entaô queremos que a ML faça clusterização\n",
    "+ Principais Técnicas\n",
    "    + k-means\n",
    "    + clustering\n",
    "    + singular value decomposition\n",
    "    \n",
    "##### Reinforcement Learning\n",
    "+ Aprende de acrodo com as expereicencias anteriores\n",
    "+ Usado para robotica e jogos, nao estudaremos nese curso\n",
    "  + Em resumo, voce consegue fazer com que ele aprenda por tentativa e erro\n",
    "  + Relacionado à otimização de função"
   ]
  },
  {
   "cell_type": "code",
   "execution_count": null,
   "metadata": {},
   "outputs": [],
   "source": []
  }
 ],
 "metadata": {
  "kernelspec": {
   "display_name": "Python 3",
   "language": "python",
   "name": "python3"
  },
  "language_info": {
   "codemirror_mode": {
    "name": "ipython",
    "version": 3
   },
   "file_extension": ".py",
   "mimetype": "text/x-python",
   "name": "python",
   "nbconvert_exporter": "python",
   "pygments_lexer": "ipython3",
   "version": "3.6.4"
  }
 },
 "nbformat": 4,
 "nbformat_minor": 2
}
