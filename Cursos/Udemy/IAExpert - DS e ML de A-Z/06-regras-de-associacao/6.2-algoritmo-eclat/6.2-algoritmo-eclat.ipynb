{
 "cells": [
  {
   "cell_type": "markdown",
   "metadata": {},
   "source": [
    "# Algoritmo ECLAT\n",
    "\n",
    "Mais informação\n",
    "\n",
    "````\n",
    "Capítulo The Eclat Algorithm do livro Learning Data Mining with Python de Robert Layton: bom material para mais informações sobre a teoria deste algoritmo\n",
    "````\n",
    "\n",
    "\n",
    "Versão mais simplificada do Apriori.\n",
    "\n",
    "Apriori gera regras e a importância das regras pode ser medida pela confiança e lift.\n",
    "\n",
    "Dos 3 conceitos do Apriori Suporte, Confiança e Lift, **UTILIZA APENAS O SUPORTE**\n",
    "\n",
    "Algoritmo\n",
    "1. O Usuário deve definir o suporte mínimo\n",
    "2. Extrair conjunto de itens que tenham o suporte mínimo\n",
    "3. Ordenar os dados de acordo com o suporte\n",
    "\n"
   ]
  },
  {
   "cell_type": "code",
   "execution_count": 2,
   "metadata": {
    "ExecuteTime": {
     "end_time": "2020-01-05T20:22:08.252154Z",
     "start_time": "2020-01-05T20:22:08.241145Z"
    }
   },
   "outputs": [],
   "source": [
    "file_path = \"../../files/\""
   ]
  },
  {
   "cell_type": "markdown",
   "metadata": {
    "ExecuteTime": {
     "end_time": "2020-01-05T20:25:45.668082Z",
     "start_time": "2020-01-05T20:25:45.657288Z"
    }
   },
   "source": [
    "Utilisamos um algoritmo já pronto no link abaixo\n",
    "\n",
    "Link com o alg do eclat: https://github.com/Vachik-Dave/Data-Mining/tree/master/Eclat%20Algorithm%20in%20Python"
   ]
  },
  {
   "cell_type": "markdown",
   "metadata": {},
   "source": [
    "## Formato do Meu Arquivo\n",
    "\n",
    "```\n",
    "4 leite cerveja pao manteiga\n",
    "3 cafe pao manteiga\n",
    "3 cafe pao manteiga\n",
    "4 leite cafe pao manteiga\n",
    "1 cerveja\n",
    "1 manteiga\n",
    "1 pao \n",
    "1 feijao\n",
    "2 arroz feijao\n",
    "1 arroz\n",
    "```\n",
    "\n",
    "Nesse arquivo, deve ter a seguinte formatação:\n",
    "1. A primeira coluna deve ser a quantidade de dados da lina\n",
    "2. A linha é separada por espaço\n",
    "3. Não precisa colocar valores 'nan'"
   ]
  },
  {
   "cell_type": "code",
   "execution_count": 5,
   "metadata": {
    "ExecuteTime": {
     "end_time": "2020-01-05T20:25:14.693535Z",
     "start_time": "2020-01-05T20:25:14.678104Z"
    }
   },
   "outputs": [
    {
     "name": "stdout",
     "output_type": "stream",
     "text": [
      "minsup = 3\n",
      "Computation time = 0.000218 Seconds\n",
      "Pattern\t\t : Tid_List\n",
      "cafe \t\t : [2, 3, 4]\n",
      "cafe manteiga\n",
      " \t\t : [2, 3, 4]\n",
      "cafe manteiga\n",
      " pao \t\t : [2, 3, 4]\n",
      "cafe pao \t\t : [2, 3, 4]\n",
      "manteiga\n",
      " \t\t : [1, 2, 3, 4, 6]\n",
      "manteiga\n",
      " pao \t\t : [1, 2, 3, 4]\n",
      "pao \t\t : [1, 2, 3, 4, 7]\n"
     ]
    }
   ],
   "source": [
    "import eclat  # importar  `eclat.py`\n",
    "# O único parÂmetro a ser definido é o suporte_mínimo: colocamos como 3\n",
    "# Ou seja, a quantidade mínima que aparece em toda a base\n",
    "eclat.main(file_path + 'mercado.txt', 3)"
   ]
  },
  {
   "cell_type": "markdown",
   "metadata": {},
   "source": [
    "**Ele é útil para identificar os itens que apareceme em conjunto**\n",
    "\n",
    "Os arrays indicam em quais registros aparecem os itens:\n",
    "\n",
    "Reescrevendo de outra forma\n",
    "````\n",
    "cafe \t\t       : [2, 3, 4] (aparece sozinho)\n",
    "cafe manteiga      : [2, 3, 4] (aparece os dois juntos)\n",
    "cafe manteiga pao  : [2, 3, 4] (aparece os 3 juntos)\n",
    "cafe pao \t\t   : [2, 3, 4] (aparece os dois juntos)\n",
    "manteiga           : [1, 2, 3, 4, 6] (aparece sozinho)\n",
    "manteiga pao \t   : [1, 2, 3, 4] (aparece os dois juntos)\n",
    "pao                : [1, 2, 3, 4, 7] (aparece sozinho)\n",
    "````"
   ]
  },
  {
   "cell_type": "code",
   "execution_count": null,
   "metadata": {},
   "outputs": [],
   "source": []
  }
 ],
 "metadata": {
  "kernelspec": {
   "display_name": "Python 3",
   "language": "python",
   "name": "python3"
  },
  "language_info": {
   "codemirror_mode": {
    "name": "ipython",
    "version": 3
   },
   "file_extension": ".py",
   "mimetype": "text/x-python",
   "name": "python",
   "nbconvert_exporter": "python",
   "pygments_lexer": "ipython3",
   "version": "3.7.5"
  }
 },
 "nbformat": 4,
 "nbformat_minor": 2
}
