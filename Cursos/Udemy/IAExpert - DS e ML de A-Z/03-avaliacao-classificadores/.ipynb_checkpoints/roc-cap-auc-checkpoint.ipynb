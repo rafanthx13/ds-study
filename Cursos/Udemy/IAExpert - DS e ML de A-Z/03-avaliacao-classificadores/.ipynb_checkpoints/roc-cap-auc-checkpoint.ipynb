{
 "cells": [
  {
   "cell_type": "markdown",
   "metadata": {},
   "source": [
    "# ROC, CAP, AUC\n",
    "\n",
    "## Links\n",
    "\n",
    "+ https://medium.com/bio-data-blog/entenda-o-que-%C3%A9-auc-e-roc-nos-modelos-de-machine-learning-8191fb4df772\n",
    "\n",
    "+ https://medium.com/@arthurlambletvaz/model-validation-data-science-3084bb3a4ff8\n",
    "\n",
    "+"
   ]
  },
  {
   "cell_type": "code",
   "execution_count": 1,
   "metadata": {
    "ExecuteTime": {
     "end_time": "2020-01-03T11:54:15.661462Z",
     "start_time": "2020-01-03T11:53:47.969278Z"
    }
   },
   "outputs": [],
   "source": [
    "import pandas as pd\n",
    "import numpy as np\n",
    "import matplotlib.pyplot as plt\n",
    "from matplotlib import pyplot\n",
    "file_path = \"../files/\""
   ]
  },
  {
   "cell_type": "markdown",
   "metadata": {},
   "source": [
    "## PréProcessamento\n",
    "\n",
    "### Base de dados de crédito\n",
    "\n",
    "Base com registro de 2.000 cliente contendo idade, renda e empréstimo.\n",
    "\n",
    "O desafio é: Dado essas features prever se será capaz ou não de pagar o empréstimo.\n",
    "\n",
    "+ `clientid`: Um ID para o cliente\n",
    "    - Variável Categórica Nominal\n",
    "+ `income`: Salário/Renda da pessoa no formato Anual\n",
    "    - Variável Numérica Contínua\n",
    "+ `age`: Idade da pessoa\n",
    "    - Variável Numérica Contínua ou pode ser convertida para Discreta\n",
    "+ `loan`: Quantidade de empréstimo realizado\n",
    "    - Variável Numérica Contínua Classe a ser Prevista\n",
    "+ `default`: (classe)\n",
    "    - 0: Não foi capaz de pagar o empréstimo\n",
    "    - 1: Foi capas de pagar"
   ]
  },
  {
   "cell_type": "code",
   "execution_count": 2,
   "metadata": {
    "ExecuteTime": {
     "end_time": "2020-01-03T11:54:49.005632Z",
     "start_time": "2020-01-03T11:54:48.626044Z"
    }
   },
   "outputs": [
    {
     "data": {
      "text/html": [
       "<div>\n",
       "<style scoped>\n",
       "    .dataframe tbody tr th:only-of-type {\n",
       "        vertical-align: middle;\n",
       "    }\n",
       "\n",
       "    .dataframe tbody tr th {\n",
       "        vertical-align: top;\n",
       "    }\n",
       "\n",
       "    .dataframe thead th {\n",
       "        text-align: right;\n",
       "    }\n",
       "</style>\n",
       "<table border=\"1\" class=\"dataframe\">\n",
       "  <thead>\n",
       "    <tr style=\"text-align: right;\">\n",
       "      <th></th>\n",
       "      <th>i#clientid</th>\n",
       "      <th>income</th>\n",
       "      <th>age</th>\n",
       "      <th>loan</th>\n",
       "      <th>c#default</th>\n",
       "    </tr>\n",
       "  </thead>\n",
       "  <tbody>\n",
       "    <tr>\n",
       "      <th>0</th>\n",
       "      <td>1</td>\n",
       "      <td>66155.925095</td>\n",
       "      <td>59.017015</td>\n",
       "      <td>8106.532131</td>\n",
       "      <td>0</td>\n",
       "    </tr>\n",
       "    <tr>\n",
       "      <th>1</th>\n",
       "      <td>2</td>\n",
       "      <td>34415.153966</td>\n",
       "      <td>48.117153</td>\n",
       "      <td>6564.745018</td>\n",
       "      <td>0</td>\n",
       "    </tr>\n",
       "    <tr>\n",
       "      <th>2</th>\n",
       "      <td>3</td>\n",
       "      <td>57317.170063</td>\n",
       "      <td>63.108049</td>\n",
       "      <td>8020.953296</td>\n",
       "      <td>0</td>\n",
       "    </tr>\n",
       "    <tr>\n",
       "      <th>3</th>\n",
       "      <td>4</td>\n",
       "      <td>42709.534201</td>\n",
       "      <td>45.751972</td>\n",
       "      <td>6103.642260</td>\n",
       "      <td>0</td>\n",
       "    </tr>\n",
       "    <tr>\n",
       "      <th>4</th>\n",
       "      <td>5</td>\n",
       "      <td>66952.688845</td>\n",
       "      <td>18.584336</td>\n",
       "      <td>8770.099235</td>\n",
       "      <td>1</td>\n",
       "    </tr>\n",
       "  </tbody>\n",
       "</table>\n",
       "</div>"
      ],
      "text/plain": [
       "   i#clientid        income        age         loan  c#default\n",
       "0           1  66155.925095  59.017015  8106.532131          0\n",
       "1           2  34415.153966  48.117153  6564.745018          0\n",
       "2           3  57317.170063  63.108049  8020.953296          0\n",
       "3           4  42709.534201  45.751972  6103.642260          0\n",
       "4           5  66952.688845  18.584336  8770.099235          1"
      ]
     },
     "execution_count": 2,
     "metadata": {},
     "output_type": "execute_result"
    }
   ],
   "source": [
    "base = pd.read_csv(file_path + 'credit_data.csv')\n",
    "base.head()"
   ]
  },
  {
   "cell_type": "code",
   "execution_count": 3,
   "metadata": {
    "ExecuteTime": {
     "end_time": "2020-01-03T11:55:08.942331Z",
     "start_time": "2020-01-03T11:54:52.290044Z"
    }
   },
   "outputs": [],
   "source": [
    "# Colocando a média\n",
    "base.loc[base.age < 0, 'age'] = 40.92\n",
    "    \n",
    "# Dividindo as features das classes\n",
    "previsores = base.iloc[:, 1:4].values\n",
    "classe = base.iloc[:, 4].values\n",
    "\n",
    "# Atribuindo a média aos valores NaN\n",
    "from sklearn.impute import SimpleImputer\n",
    "imputer = SimpleImputer(missing_values = np.nan, strategy = 'mean')\n",
    "imputer = imputer.fit(previsores[:, 1:4])\n",
    "previsores[:, 1:4] = imputer.transform(previsores[:, 1:4])\n",
    "\n",
    "# Escalonamento\n",
    "from sklearn.preprocessing import StandardScaler\n",
    "scaler = StandardScaler()\n",
    "previsores = scaler.fit_transform(previsores)\n",
    "\n",
    "# Divisão de 75% da base para treino, e 25% para teste\n",
    "from sklearn.model_selection import train_test_split\n",
    "x_train, x_test, y_train, y_test = train_test_split(\n",
    "    previsores, classe, test_size=0.25, random_state=0)"
   ]
  },
  {
   "cell_type": "markdown",
   "metadata": {},
   "source": [
    "## Curva ROC - Receiver Operating Characteristic\n",
    "\n",
    "<img src=\"img-roc-auc-cap-01.png\" width=400px>\n",
    "\n",
    "A Curva ROC avalia o quão bom está o modelo para classificar em uma única classe.\n",
    "\n",
    "Quanto mais próximo a curva do seu modelo da diagonal, pior será o desempenho do modelo e quando mais curvado, melhor será o resultado.\n",
    "\n",
    "Possui dois parâmetros que são taxas \\[0,1\\]:\n",
    "\n",
    "<img src='img-roc-auc-cap-02.png' width=300px>\n",
    "\n",
    "+ TPR (true Positive Rate - Taxa de Verdadeiro Positivo) também chamado de **Sensibilidade**\n",
    "\n",
    "+ FPR (false Positve Rate - Taxa de Falso Positivo) também chamado de **Especidade**\n",
    "\n",
    "<img src='img-roc-auc-cap-03.png' width=500px>\n",
    "    \n",
    "    \n"
   ]
  },
  {
   "cell_type": "markdown",
   "metadata": {
    "ExecuteTime": {
     "end_time": "2020-01-03T11:59:03.078704Z",
     "start_time": "2020-01-03T11:59:03.060602Z"
    }
   },
   "source": [
    "## AUC (Area Under The Curve)\n",
    "\n",
    "AUC (área debaixo da curva) ou AUCROC (Area Under the Receiver Operating Characteristics)\n",
    "\n",
    "AUC é o valor da integral da curva ROC. É um valor numérico entre \\[0,1\\].\n",
    "\n",
    "É feito apartir do e TPR e FPR\n",
    "\n",
    "Assim, quanto maior o valor melhor será o modelo.\n",
    "\n",
    "O interessante do AUC é que a métrica é invariante em escala, uma vez que trabalha com precisão das classificações ao invés de seus valores absolutos. Além disso, também mede a qualidade das previsões do modelo, independentemente do limiar de classificação.\n",
    "\n",
    "<img src='img-roc-auc-cap-04.png' width=700px>\n",
    "\n",
    "\n"
   ]
  },
  {
   "cell_type": "markdown",
   "metadata": {},
   "source": [
    "### Definindo os classificadores"
   ]
  },
  {
   "cell_type": "code",
   "execution_count": null,
   "metadata": {},
   "outputs": [],
   "source": [
    "# CLASSIFICADOR E TREINAMENTO\n",
    "classificador = ...Classify()\n",
    "classificador.fit(previsores_treinamento, classe_treinamento)\n",
    "previsoes = classificador.predict(previsores_teste)\n",
    "\n",
    "# AVALIANDO\n",
    "from sklearn.metrics import confusion_matrix, accuracy_score, classification_report\n",
    "precisao = accuracy_score(classe_teste, previsoes)\n",
    "matriz = confusion_matrix(classe_teste, previsoes)"
   ]
  },
  {
   "cell_type": "code",
   "execution_count": 42,
   "metadata": {
    "ExecuteTime": {
     "end_time": "2020-01-03T12:34:42.016970Z",
     "start_time": "2020-01-03T12:34:40.434931Z"
    }
   },
   "outputs": [
    {
     "name": "stdout",
     "output_type": "stream",
     "text": [
      "NaiveBayes 0.938\n",
      "DecisionTree 0.982\n"
     ]
    },
    {
     "name": "stderr",
     "output_type": "stream",
     "text": [
      "/home/rhavel/anaconda3/lib/python3.7/site-packages/sklearn/neural_network/_multilayer_perceptron.py:571: ConvergenceWarning: Stochastic Optimizer: Maximum iterations (100) reached and the optimization hasn't converged yet.\n",
      "  % self.max_iter, ConvergenceWarning)\n"
     ]
    },
    {
     "data": {
      "text/plain": [
       "MLPClassifier(activation='relu', alpha=0.0001, batch_size=200, beta_1=0.9,\n",
       "              beta_2=0.999, early_stopping=False, epsilon=1e-08,\n",
       "              hidden_layer_sizes=100, learning_rate='constant',\n",
       "              learning_rate_init=0.001, max_fun=15000, max_iter=100,\n",
       "              momentum=0.9, n_iter_no_change=10, nesterovs_momentum=True,\n",
       "              power_t=0.5, random_state=None, shuffle=True, solver='adam',\n",
       "              tol=0.0001, validation_fraction=0.1, verbose=False,\n",
       "              warm_start=False)"
      ]
     },
     "execution_count": 42,
     "metadata": {},
     "output_type": "execute_result"
    }
   ],
   "source": [
    "from sklearn.metrics import accuracy_score\n",
    "\n",
    "# Classificador NaiveBaye\n",
    "from sklearn.naive_bayes import GaussianNB\n",
    "model_naive_bayes = GaussianNB()\n",
    "model_naive_bayes.fit(x_train, y_train)\n",
    "predicts = model_naive_bayes.predict(x_test)\n",
    "print(\"NaiveBayes\", accuracy_score(y_test, predicts))\n",
    "\n",
    "# Classificador Árvore de Decisão\n",
    "from sklearn.tree import DecisionTreeClassifier\n",
    "model_decision_tree = DecisionTreeClassifier()\n",
    "model_decision_tree.fit(x_train, y_train)\n",
    "predicts = model_decision_tree.predict(x_test)\n",
    "print(\"DecisionTree\", accuracy_score(y_test, predicts))\n",
    "\n",
    "# Classificador Regressão Logística\n",
    "from sklearn.linear_model import LogisticRegression\n",
    "model_logistc_regression = LogisticRegression()\n",
    "model_logistc_regression.fit(x_train, y_train)\n",
    "\n",
    "# Classificador SVM\n",
    "from sklearn.svm import SVC\n",
    "model_svm = SVC(kernel = 'rbf', random_state = 1, C = 2.0, probability=True)\n",
    "model_svm.fit(x_train, y_train)\n",
    "\n",
    "# Classificador KNN\n",
    "from sklearn.neighbors import KNeighborsClassifier\n",
    "model_knn = KNeighborsClassifier(n_neighbors=5, metric='minkowski', p = 2)\n",
    "model_knn.fit(x_train, y_train)\n",
    "\n",
    "# Classificador Floresta Randômica\n",
    "from sklearn.ensemble import RandomForestClassifier\n",
    "model_random_forest = RandomForestClassifier(n_estimators=40, criterion='entropy', random_state=0)\n",
    "model_random_forest.fit(x_train, y_train)\n",
    "\n",
    "# Classificador Redes Neurais Múltiplas camadas\n",
    "from sklearn.neural_network import MLPClassifier\n",
    "model_neural_net = MLPClassifier( max_iter = 100,\n",
    "                      tol = 0.00010, solver='adam',\n",
    "                      hidden_layer_sizes=(100), activation = 'relu',\n",
    "                      batch_size=200, learning_rate_init=0.001)\n",
    "model_neural_net.fit(x_train, y_train)"
   ]
  },
  {
   "cell_type": "code",
   "execution_count": 6,
   "metadata": {
    "ExecuteTime": {
     "end_time": "2020-01-03T11:56:53.884765Z",
     "start_time": "2020-01-03T11:56:53.876302Z"
    }
   },
   "outputs": [],
   "source": [
    "models_list = [model_naive_bayes, model_decision_tree, model_svm, model_knn, \n",
    "               model_random_forest, model_neural_net]"
   ]
  },
  {
   "cell_type": "markdown",
   "metadata": {},
   "source": [
    "### Como fazer o gráfico ROC no python\n",
    "\n",
    "Utiliza `classifiacdor.predict_proba(x_train)`, ou seja, calcula a probabildiade que dá para as classes"
   ]
  },
  {
   "cell_type": "code",
   "execution_count": 16,
   "metadata": {
    "ExecuteTime": {
     "end_time": "2020-01-03T02:23:03.899008Z",
     "start_time": "2020-01-03T02:23:03.852325Z"
    }
   },
   "outputs": [
    {
     "name": "stdout",
     "output_type": "stream",
     "text": [
      "[0.08396251 0.91603749]\n"
     ]
    },
    {
     "data": {
      "text/plain": [
       "0.9160374945884953"
      ]
     },
     "execution_count": 16,
     "metadata": {},
     "output_type": "execute_result"
    }
   ],
   "source": [
    "# Retorna a probabilidade para ambas as classes, 0 e 1\n",
    "probs = model_naive_bayes.predict_proba(x_test)\n",
    "print(probs[0]) # Possui váris pares de probabilidades para 0 e 1\n",
    "\n",
    "# Vamos fazer a ROC para a classe 1\n",
    "classe_roc = 1\n",
    "probs = probs[:, classe_roc]\n",
    "probs[0] # Filtramos somente as probabiliadde para dar classe 1"
   ]
  },
  {
   "cell_type": "markdown",
   "metadata": {},
   "source": [
    "### Calculando fpr, tpr e auc\n",
    "\n",
    "[`sklearn.metrics.roc_curve()`](https://scikit-learn.org/stable/modules/generated/sklearn.metrics.roc_curve.html#sklearn.metrics.roc_curve)"
   ]
  },
  {
   "cell_type": "code",
   "execution_count": 21,
   "metadata": {
    "ExecuteTime": {
     "end_time": "2020-01-03T02:26:57.645975Z",
     "start_time": "2020-01-03T02:26:57.610677Z"
    }
   },
   "outputs": [
    {
     "data": {
      "text/plain": [
       "0.9685708142201835"
      ]
     },
     "execution_count": 21,
     "metadata": {},
     "output_type": "execute_result"
    }
   ],
   "source": [
    "from sklearn.metrics import roc_curve, auc\n",
    "\n",
    "fpr, tpr, thresholds = roc_curve(y_test, probs)\n",
    "roc_auc = auc(fpr, tpr)\n",
    "roc_auc"
   ]
  },
  {
   "cell_type": "markdown",
   "metadata": {},
   "source": [
    "### Criando Gráfico ROC"
   ]
  },
  {
   "cell_type": "code",
   "execution_count": 23,
   "metadata": {
    "ExecuteTime": {
     "end_time": "2020-01-03T02:30:57.045341Z",
     "start_time": "2020-01-03T02:30:56.166266Z"
    }
   },
   "outputs": [
    {
     "data": {
      "text/plain": [
       "<matplotlib.legend.Legend at 0x7fc586a8be50>"
      ]
     },
     "execution_count": 23,
     "metadata": {},
     "output_type": "execute_result"
    },
    {
     "data": {
      "image/png": "[encoded data removed]",
      "text/plain": [
       "<Figure size 432x288 with 1 Axes>"
      ]
     },
     "metadata": {
      "needs_background": "light"
     },
     "output_type": "display_data"
    }
   ],
   "source": [
    "# Legendas Individuais de cada Modelo\n",
    "label = 'NaiveBayes AUC:' + ' {0:.2f}'.format(roc_auc)\n",
    "plt.plot(fpr, tpr, c = 'g', label = label, linewidth = 4)\n",
    "\n",
    "# Legendas Gerais\n",
    "plt.xlabel('False Positive Rate', fontsize = 14)\n",
    "plt.ylabel('True Positive Rate', fontsize = 14)\n",
    "plt.title('ROC', fontsize = 16)\n",
    "plt.legend(loc = 'lower right', fontsize = 14)"
   ]
  },
  {
   "cell_type": "markdown",
   "metadata": {},
   "source": [
    "### Definindo Função para plotar ROC e AUC"
   ]
  },
  {
   "cell_type": "code",
   "execution_count": 37,
   "metadata": {
    "ExecuteTime": {
     "end_time": "2020-01-03T12:27:59.492226Z",
     "start_time": "2020-01-03T12:27:59.472460Z"
    }
   },
   "outputs": [],
   "source": [
    "from sklearn.metrics import roc_curve, auc\n",
    "\n",
    "def plot_roc_auc(y_test, probs, name_model=\"\", color=\"g\"):\n",
    "    fpr, tpr, _ = roc_curve(y_test, probs)\n",
    "    roc_auc = auc(fpr, tpr)\n",
    "    label = name_model + ' {0:.2f}'.format(roc_auc)\n",
    "    plt.plot(fpr, tpr, c = color, label = label, linewidth = 4)\n",
    "    \n",
    "def get_probs_to_class(model, x_test, class_to_roc = 1):\n",
    "    probs = model.predict_proba(x_test)\n",
    "    probs = probs[:, class_to_roc]\n",
    "    return probs\n",
    "\n",
    "def plot_legends(font=14):\n",
    "    \n",
    "    # random predictions curve\n",
    "    plt.plot([0, 1], [0, 1], color = 'r', label = \"Random \" + ' {0:.2f}'.format(0.5), linestyle ='--')  \n",
    "    \n",
    "    # Plot information\n",
    "    plt.xlabel('False Positive Rate', fontsize = font)\n",
    "    plt.ylabel('True Positive Rate', fontsize = font)\n",
    "    plt.title('ROC', fontsize = font)\n",
    "    plt.legend(loc = 'lower right', fontsize = font)"
   ]
  },
  {
   "cell_type": "code",
   "execution_count": 43,
   "metadata": {
    "ExecuteTime": {
     "end_time": "2020-01-03T12:35:02.392383Z",
     "start_time": "2020-01-03T12:35:01.966655Z"
    }
   },
   "outputs": [
    {
     "data": {
      "image/png": "[encoded data removed]",
      "text/plain": [
       "<Figure size 400x400 with 1 Axes>"
      ]
     },
     "metadata": {
      "needs_background": "light"
     },
     "output_type": "display_data"
    }
   ],
   "source": [
    "plt.figure(figsize=(5, 5), dpi=80)\n",
    "\n",
    "probs = get_probs_to_class(model_svm, x_test, class_to_roc = 1)\n",
    "plot_roc_auc(y_test, probs, \"svm\", \"b\")\n",
    "\n",
    "probs = get_probs_to_class(model_logistc_regression, x_test, class_to_roc = 1)\n",
    "plot_roc_auc(y_test, probs, \"logistic\", \"g\")\n",
    "\n",
    "probs = get_probs_to_class(model_random_forest, x_test, class_to_roc = 1)\n",
    "plot_roc_auc(y_test, probs, \"random_forest\", \"orange\")\n",
    "\n",
    "probs = get_probs_to_class(model_naive_bayes, x_test, class_to_roc = 1)\n",
    "plot_roc_auc(y_test, probs, \"naive_bayes\", \"purple\")\n",
    "\n",
    "probs = get_probs_to_class(model_decision_tree, x_test, class_to_roc = 1)\n",
    "plot_roc_auc(y_test, probs, \"decision_tree\", \"black\")\n",
    "\n",
    "plot_legends()"
   ]
  },
  {
   "cell_type": "code",
   "execution_count": null,
   "metadata": {},
   "outputs": [],
   "source": []
  }
 ],
 "metadata": {
  "kernelspec": {
   "display_name": "Python 3",
   "language": "python",
   "name": "python3"
  },
  "language_info": {
   "codemirror_mode": {
    "name": "ipython",
    "version": 3
   },
   "file_extension": ".py",
   "mimetype": "text/x-python",
   "name": "python",
   "nbconvert_exporter": "python",
   "pygments_lexer": "ipython3",
   "version": "3.7.5"
  }
 },
 "nbformat": 4,
 "nbformat_minor": 2
}
