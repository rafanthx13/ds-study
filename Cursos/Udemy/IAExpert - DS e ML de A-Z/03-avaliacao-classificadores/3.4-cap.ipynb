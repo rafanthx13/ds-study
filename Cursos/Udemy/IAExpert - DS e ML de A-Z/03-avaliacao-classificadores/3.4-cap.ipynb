{
 "cells": [
  {
   "cell_type": "markdown",
   "metadata": {},
   "source": [
    "# CAP - Cumulative Accuracy Profile\n",
    "\n",
    "links:\n",
    "+ https://www.geeksforgeeks.org/python-cap-cumulative-accuracy-profile-analysis/\n",
    "+ https://en.wikipedia.org/wiki/Cumulative_accuracy_profile\n",
    "+ https://medium.com/@lotass/classification-models-performance-evaluation-c3a91562793"
   ]
  },
  {
   "cell_type": "markdown",
   "metadata": {},
   "source": [
    "## O que é CAP\n",
    "\n",
    "<img src='../../tree/imgs/img-roc-auc-cap-05.jpg' width=600px>\n",
    "\n",
    "Popularmente chamado de Cumulatie Accuracy Profile (CAP) ou, em contexto de marketing Cumulative Gain Curve ou somente Gain Curve é um gráfico usado para avaliar modelos de classificação.\n",
    "\n",
    "O CAP de um modelo representa o número cumulativo de resultados positivos ao longo do eixo y  (o seja, a classificação correta do modelo para amabas as classes)versus o número cumulativo correspondente de feaures, o eixo x.\n",
    "\n",
    "### Diferença entre ROC e CAP\n",
    "\n",
    "\n",
    "O CAP é distinto da característica de operação do receptor (ROC), que representa a taxa de verdadeiro positivo em relação à taxa de falso positivo.\n",
    "\n",
    "### Significado da plotagem do CAP de `Random Model`\n",
    "\n",
    "O `random plot` é feito sob a suposição de que plotamos o número total de pontos que variam de 0 ao número total de pontos de dados no conjunto de dados. O eixo y foi mantido como o número total de pontos para os quais a variável dependente do nosso conjunto de dados tem o resultado como 1. O gráfico aleatório pode ser entendido como um relacionamento que aumenta linearmente. \n",
    "\n",
    "Um exemplo é um modelo que prevê se um produto é comprado (resultado positivo) por cada indivíduo de um grupo de pessoas (parâmetro de classificação) com base em fatores como sexo, idade, renda etc. Se os membros do grupo forem contatados aleatoriamente, o número acumulado de produtos vendidos aumentaria linearmente em direção a um valor máximo correspondente ao número total de compradores dentro do grupo. \n",
    "\n",
    "Essa distribuição é chamada de `random CAP`.\n",
    "\n",
    "### Significado da plotagem do CAP de `Perfect Model`\n",
    "\n",
    "Em seguida, traçamos o `perfect plot` (ou a linha ideal). \n",
    "\n",
    "Uma previsão perfeita determina exatamente quais membros do grupo comprarão o produto, de modo que o número máximo de produtos vendidos seja alcançado com um número mínimo de chamadas. \n",
    "\n",
    "Isso produz uma linha íngreme na curva CAP que permanece plana quando o máximo é atingido (entrar em contato com todos os outros membros do grupo não levará a mais produtos vendidos), que é o CAP “perfeito”.\n",
    "\n",
    "Um modelo perfeito encontra resultados positivos no mesmo número de tentativas que o número de resultados positivos\n",
    "\n",
    "### Final Analysis\n",
    "\n",
    "#### Content 1\n",
    "\n",
    "In any case, our classifier algorithm should not produce a line that lies under the random line. It is considered to be a really bad model in that case. Since the plotted classifier line is close to the ideal line we can say that our model is a really good fit. Take the area under the perfect plot and call it aP. Take the area under the prediction model and call it aR. Then take the ratio as aR/aP. This ratio is called the Accuracy Rate. The closer is the value to 1, the better the model. This is one way to analyse it.\n",
    "\n",
    "Another way to analyse it would be to project a line from about 50% from the axis on the prediction model and project it on the y-axis. Let us say that we obtain the projection value as X%.\n",
    "\n",
    "Outra maneira de analisar isso seria projetar uma linha a cerca de 50% do eixo no modelo de previsão e projetá-la no eixo y. Digamos que obtemos o valor da projeção em X%.\n",
    "\n",
    "----\n",
    "\n",
    "##### Analisãndo pelo Cálculo (nâo usado)\n",
    "Pegue a área sob a trama perfeita e chame-a de AP. Pegue a área sob o modelo de previsão e chame-a de AR. Então tome a proporção como aR / aP. Essa proporção é chamada de taxa de precisão. Quanto mais próximo o valor de 1, melhor o modelo. Esta é uma maneira de analisá-lo.\n",
    "\n",
    "> The CAP can be used to evaluate a model by comparing the curve to the perfect CAP in which the maximum number of positive outcomes is achieved directly and to the random CAP in which the positive outcomes are distributed equally. A good model will have a CAP between the perfect CAP and the random CAP with a better model tending to the perfect CAP.\n",
    "The accuracy ratio (AR) is defined as the ratio of the area between the model CAP and the random CAP and the area between the perfect CAP and the random CAP.[1] For a successful model the AR has values between zero and one, with a higher value for a stronger model.\n",
    "\n",
    "\n",
    "#### Analisando pelo ponto de 50% no CAP (mais usado)\n",
    "\n",
    "Outra maneira de analisar isso seria projetar uma linha a cerca de 50% do eixo no modelo de previsão e projetá-la no eixo y. Digamos que obtemos o valor da projeção em X%.\n",
    "\n",
    "````\n",
    "-> 60%        : it is a really bad model\n",
    "-> 60%<X<70%  : it is still a bad model but better than the first case obviously\n",
    "-> 70%<X<80%  : it is a good model\n",
    "-> 80%<X<90%  : it is a very good model\n",
    "-> 90%<X<100% : it is extraordinarily good and might be one of the overfitting cases.\n",
    "So according to this analysis, we can determine how accurate our model is.\n",
    "````\n",
    "\n",
    "> Another indication of the model strength is given by the cumulative number of positive outcomes at 50% of the classifying parameter. For a successful model this value should lie between 50% and 100% of the maximum, with a higher percentage for stronger models.\n",
    "\n",
    "<img src='../../tree/imgs/img-roc-auc-cap-06.png' width=600px>\n",
    "\n",
    "\n",
    "\n"
   ]
  },
  {
   "cell_type": "code",
   "execution_count": 2,
   "metadata": {
    "ExecuteTime": {
     "end_time": "2020-01-08T19:25:14.265270Z",
     "start_time": "2020-01-08T19:25:14.256427Z"
    }
   },
   "outputs": [],
   "source": [
    "import pandas as pd\n",
    "import numpy as np\n",
    "import matplotlib.pyplot as plt\n",
    "from matplotlib import pyplot\n",
    "file_path = \"../files/\""
   ]
  },
  {
   "cell_type": "markdown",
   "metadata": {},
   "source": [
    "## PréProcessamento\n",
    "\n",
    "### Base de dados de crédito\n",
    "\n",
    "Base com registro de 2.000 cliente contendo idade, renda e empréstimo.\n",
    "\n",
    "O desafio é: Dado essas features prever se será capaz ou não de pagar o empréstimo.\n",
    "\n",
    "+ `clientid`: Um ID para o cliente\n",
    "    - Variável Categórica Nominal\n",
    "+ `income`: Salário/Renda da pessoa no formato Anual\n",
    "    - Variável Numérica Contínua\n",
    "+ `age`: Idade da pessoa\n",
    "    - Variável Numérica Contínua ou pode ser convertida para Discreta\n",
    "+ `loan`: Quantidade de empréstimo realizado\n",
    "    - Variável Numérica Contínua Classe a ser Prevista\n",
    "+ `default`: (classe)\n",
    "    - 0: Não foi capaz de pagar o empréstimo\n",
    "    - 1: Foi capas de pagar"
   ]
  },
  {
   "cell_type": "code",
   "execution_count": 3,
   "metadata": {
    "ExecuteTime": {
     "end_time": "2020-01-08T19:25:24.154202Z",
     "start_time": "2020-01-08T19:25:23.887112Z"
    }
   },
   "outputs": [
    {
     "data": {
      "text/html": [
       "<div>\n",
       "<style scoped>\n",
       "    .dataframe tbody tr th:only-of-type {\n",
       "        vertical-align: middle;\n",
       "    }\n",
       "\n",
       "    .dataframe tbody tr th {\n",
       "        vertical-align: top;\n",
       "    }\n",
       "\n",
       "    .dataframe thead th {\n",
       "        text-align: right;\n",
       "    }\n",
       "</style>\n",
       "<table border=\"1\" class=\"dataframe\">\n",
       "  <thead>\n",
       "    <tr style=\"text-align: right;\">\n",
       "      <th></th>\n",
       "      <th>i#clientid</th>\n",
       "      <th>income</th>\n",
       "      <th>age</th>\n",
       "      <th>loan</th>\n",
       "      <th>c#default</th>\n",
       "    </tr>\n",
       "  </thead>\n",
       "  <tbody>\n",
       "    <tr>\n",
       "      <th>0</th>\n",
       "      <td>1</td>\n",
       "      <td>66155.925095</td>\n",
       "      <td>59.017015</td>\n",
       "      <td>8106.532131</td>\n",
       "      <td>0</td>\n",
       "    </tr>\n",
       "    <tr>\n",
       "      <th>1</th>\n",
       "      <td>2</td>\n",
       "      <td>34415.153966</td>\n",
       "      <td>48.117153</td>\n",
       "      <td>6564.745018</td>\n",
       "      <td>0</td>\n",
       "    </tr>\n",
       "    <tr>\n",
       "      <th>2</th>\n",
       "      <td>3</td>\n",
       "      <td>57317.170063</td>\n",
       "      <td>63.108049</td>\n",
       "      <td>8020.953296</td>\n",
       "      <td>0</td>\n",
       "    </tr>\n",
       "    <tr>\n",
       "      <th>3</th>\n",
       "      <td>4</td>\n",
       "      <td>42709.534201</td>\n",
       "      <td>45.751972</td>\n",
       "      <td>6103.642260</td>\n",
       "      <td>0</td>\n",
       "    </tr>\n",
       "    <tr>\n",
       "      <th>4</th>\n",
       "      <td>5</td>\n",
       "      <td>66952.688845</td>\n",
       "      <td>18.584336</td>\n",
       "      <td>8770.099235</td>\n",
       "      <td>1</td>\n",
       "    </tr>\n",
       "  </tbody>\n",
       "</table>\n",
       "</div>"
      ],
      "text/plain": [
       "   i#clientid        income        age         loan  c#default\n",
       "0           1  66155.925095  59.017015  8106.532131          0\n",
       "1           2  34415.153966  48.117153  6564.745018          0\n",
       "2           3  57317.170063  63.108049  8020.953296          0\n",
       "3           4  42709.534201  45.751972  6103.642260          0\n",
       "4           5  66952.688845  18.584336  8770.099235          1"
      ]
     },
     "execution_count": 3,
     "metadata": {},
     "output_type": "execute_result"
    }
   ],
   "source": [
    "base = pd.read_csv(file_path + 'credit_data.csv')\n",
    "base.head()"
   ]
  },
  {
   "cell_type": "code",
   "execution_count": 4,
   "metadata": {
    "ExecuteTime": {
     "end_time": "2020-01-08T19:25:45.857073Z",
     "start_time": "2020-01-08T19:25:40.201352Z"
    }
   },
   "outputs": [],
   "source": [
    "# Colocando a média\n",
    "base.loc[base.age < 0, 'age'] = 40.92\n",
    "    \n",
    "# Dividindo as features das classes\n",
    "previsores = base.iloc[:, 1:4].values\n",
    "classe = base.iloc[:, 4].values\n",
    "\n",
    "# Atribuindo a média aos valores NaN\n",
    "from sklearn.impute import SimpleImputer\n",
    "imputer = SimpleImputer(missing_values = np.nan, strategy = 'mean')\n",
    "imputer = imputer.fit(previsores[:, 1:4])\n",
    "previsores[:, 1:4] = imputer.transform(previsores[:, 1:4])\n",
    "\n",
    "# Escalonamento\n",
    "from sklearn.preprocessing import StandardScaler\n",
    "scaler = StandardScaler()\n",
    "previsores = scaler.fit_transform(previsores)\n",
    "\n",
    "# Divisão de 75% da base para treino, e 25% para teste\n",
    "from sklearn.model_selection import train_test_split\n",
    "x_train, x_test, y_train, y_test = train_test_split(\n",
    "    previsores, classe, test_size=0.25, random_state=0)"
   ]
  },
  {
   "cell_type": "markdown",
   "metadata": {},
   "source": [
    "### Classificadores e seus respsctivos terinamentos"
   ]
  },
  {
   "cell_type": "code",
   "execution_count": 5,
   "metadata": {
    "ExecuteTime": {
     "end_time": "2020-01-08T19:26:10.493656Z",
     "start_time": "2020-01-08T19:26:06.407489Z"
    }
   },
   "outputs": [
    {
     "name": "stdout",
     "output_type": "stream",
     "text": [
      "NaiveBayes 0.938\n",
      "DecisionTree 0.98\n",
      "LogisticRegression 0.946\n",
      "SVM 0.988\n",
      "KNN 0.986\n",
      "RandomForest 0.984\n",
      "MultiLayerNeuralNet 0.99\n"
     ]
    },
    {
     "name": "stderr",
     "output_type": "stream",
     "text": [
      "/home/rhavel/anaconda3/lib/python3.7/site-packages/sklearn/neural_network/_multilayer_perceptron.py:571: ConvergenceWarning: Stochastic Optimizer: Maximum iterations (200) reached and the optimization hasn't converged yet.\n",
      "  % self.max_iter, ConvergenceWarning)\n"
     ]
    }
   ],
   "source": [
    "from sklearn.metrics import accuracy_score\n",
    "\n",
    "# Classificador NaiveBaye\n",
    "from sklearn.naive_bayes import GaussianNB\n",
    "model_naive_bayes = GaussianNB()\n",
    "model_naive_bayes.fit(x_train, y_train)\n",
    "predicts = model_naive_bayes.predict(x_test)\n",
    "print(\"NaiveBayes\", accuracy_score(y_test, predicts))\n",
    "\n",
    "# Classificador Árvore de Decisão\n",
    "from sklearn.tree import DecisionTreeClassifier\n",
    "model_decision_tree = DecisionTreeClassifier()\n",
    "model_decision_tree.fit(x_train, y_train)\n",
    "predicts = model_decision_tree.predict(x_test)\n",
    "print(\"DecisionTree\", accuracy_score(y_test, predicts))\n",
    "\n",
    "# Classificador Regressão Logística\n",
    "from sklearn.linear_model import LogisticRegression\n",
    "model_logistc_regression = LogisticRegression()\n",
    "model_logistc_regression.fit(x_train, y_train)\n",
    "predicts = model_logistc_regression.predict(x_test)\n",
    "print(\"LogisticRegression\", accuracy_score(y_test, predicts))\n",
    "\n",
    "# Classificador SVM\n",
    "from sklearn.svm import SVC\n",
    "model_svm = SVC(kernel = 'rbf', random_state = 1, C = 2.0, probability=True)\n",
    "model_svm.fit(x_train, y_train)\n",
    "predicts = model_svm.predict(x_test)\n",
    "print(\"SVM\", accuracy_score(y_test, predicts))\n",
    "\n",
    "# Classificador KNN\n",
    "from sklearn.neighbors import KNeighborsClassifier\n",
    "model_knn = KNeighborsClassifier(n_neighbors=5, metric='minkowski', p = 2)\n",
    "model_knn.fit(x_train, y_train)\n",
    "predicts = model_knn.predict(x_test)\n",
    "print(\"KNN\", accuracy_score(y_test, predicts))\n",
    "\n",
    "# Classificador Floresta Randômica\n",
    "from sklearn.ensemble import RandomForestClassifier\n",
    "model_random_forest = RandomForestClassifier(n_estimators=40, criterion='entropy', random_state=0)\n",
    "model_random_forest.fit(x_train, y_train)\n",
    "predicts = model_random_forest.predict(x_test)\n",
    "print(\"RandomForest\", accuracy_score(y_test, predicts))\n",
    "\n",
    "# Classificador Redes Neurais Múltiplas camadas\n",
    "from sklearn.neural_network import MLPClassifier\n",
    "model_neural_net = MLPClassifier( max_iter = 200,\n",
    "                      tol = 0.00010, solver='adam',\n",
    "                      hidden_layer_sizes=(100), activation = 'relu',\n",
    "                      batch_size=200, learning_rate_init=0.001, verbose = False)\n",
    "model_neural_net.fit(x_train, y_train)\n",
    "predicts = model_neural_net.predict(x_test)\n",
    "print(\"MultiLayerNeuralNet\", accuracy_score(y_test, predicts))\n",
    "\n",
    "# Join de todos os classificadores\n",
    "models_list = [model_naive_bayes, model_decision_tree, model_svm, model_knn, \n",
    "               model_random_forest, model_neural_net]"
   ]
  },
  {
   "cell_type": "markdown",
   "metadata": {},
   "source": [
    "## Fazendo CAP Individual"
   ]
  },
  {
   "cell_type": "code",
   "execution_count": 18,
   "metadata": {
    "ExecuteTime": {
     "end_time": "2020-01-08T21:42:58.510747Z",
     "start_time": "2020-01-08T21:42:58.499441Z"
    }
   },
   "outputs": [
    {
     "name": "stdout",
     "output_type": "stream",
     "text": [
      "total: 500\n",
      "class_1_count: 64\n",
      "class_0_count: 436\n"
     ]
    }
   ],
   "source": [
    "# Calcular quantidade de elementos de cada classe (as classe sâo numéricas)\n",
    "\n",
    "total = len(y_test)\n",
    "print(\"total:\", total)\n",
    "\n",
    "class_1_count = np.sum(y_test)\n",
    "print(\"class_1_count:\", class_1_count)\n",
    "\n",
    "class_0_count = total - class_1_count\n",
    "print(\"class_0_count:\", class_0_count)"
   ]
  },
  {
   "cell_type": "code",
   "execution_count": 19,
   "metadata": {
    "ExecuteTime": {
     "end_time": "2020-01-08T21:42:59.090293Z",
     "start_time": "2020-01-08T21:42:59.073767Z"
    }
   },
   "outputs": [],
   "source": [
    "# Preparando dados para Reta do Classificador\n",
    "probs = model_naive_bayes.predict_proba(x_test)\n",
    "probs = probs[:, 1]\n",
    "model_y = [y for _, y in sorted(zip(probs, y_test), reverse = True)]\n",
    "y_values = np.append([0], np.cumsum(model_y))\n",
    "x_values = np.arange(0, total + 1)"
   ]
  },
  {
   "cell_type": "code",
   "execution_count": 21,
   "metadata": {
    "ExecuteTime": {
     "end_time": "2020-01-08T21:43:10.528489Z",
     "start_time": "2020-01-08T21:43:10.155081Z"
    }
   },
   "outputs": [
    {
     "data": {
      "text/plain": [
       "<matplotlib.legend.Legend at 0x7f205a9d5510>"
      ]
     },
     "execution_count": 21,
     "metadata": {},
     "output_type": "execute_result"
    },
    {
     "data": {
      "image/png": "[encoded data removed]",
      "text/plain": [
       "<Figure size 432x288 with 1 Axes>"
      ]
     },
     "metadata": {
      "needs_background": "light"
     },
     "output_type": "display_data"
    }
   ],
   "source": [
    "# Plot Random Model\n",
    "plt.plot([0, total], [0, class_1_count], \n",
    "         c = 'black', linewidth = 2, label = 'Random Model', linestyle = '--')\n",
    "\n",
    "# Plot Perfect Model\n",
    "plt.plot([0, class_1_count, total], [0, class_1_count, class_1_count], \n",
    "         c = 'grey', linewidth = 2, label = 'Perfect Model')\n",
    "\n",
    "# Plot My Model\n",
    "plt.plot(x_values, y_values, \n",
    "         c = 'b',  linewidth = 4, label = 'Support Vector Classifier')\n",
    "\n",
    "# Plot information\n",
    "plt.xlabel('Total observations', fontsize = 16)\n",
    "plt.ylabel('Class 1 observations', fontsize = 16)\n",
    "plt.title('Cumulative Accuracy Profile', fontsize = 16)\n",
    "plt.legend(loc = 'lower right', fontsize = 16)"
   ]
  },
  {
   "cell_type": "code",
   "execution_count": 22,
   "metadata": {
    "ExecuteTime": {
     "end_time": "2020-01-08T22:18:20.905153Z",
     "start_time": "2020-01-08T22:18:20.892471Z"
    }
   },
   "outputs": [],
   "source": [
    "def x_y_cap_data(model, x_test, y_test, total, classe = 1):\n",
    "    probs = model_naive_bayes.predict_proba(x_test)\n",
    "    probs = probs[:, 1]\n",
    "    model_y = [y for _, y in sorted(zip(probs, y_test), reverse = True)]\n",
    "    y_values = np.append([0], np.cumsum(model_y))\n",
    "    x_values = np.arange(0, total + 1)\n",
    "    return x_values, y_values    \n",
    "\n",
    "def plot_cap(model, x_test, y_test, total, classe = 1, class_count, color = \"b\", label):\n",
    "    x_value, y_value = x_y_cap_data(model, x_test, y_test, total, classe)\n",
    "    return \n",
    "    # Plot Perfect Model\n",
    "plt.plot([0, class_count, total], [0, class_count, class_1_count], \n",
    "         c = 'grey', linewidth = 2, label = 'Perfect Model')"
   ]
  },
  {
   "cell_type": "code",
   "execution_count": 23,
   "metadata": {
    "ExecuteTime": {
     "end_time": "2020-01-08T22:18:44.711162Z",
     "start_time": "2020-01-08T22:18:44.683215Z"
    }
   },
   "outputs": [
    {
     "data": {
      "text/plain": [
       "(array([  0,   1,   2,   3,   4,   5,   6,   7,   8,   9,  10,  11,  12,\n",
       "         13,  14,  15,  16,  17,  18,  19,  20,  21,  22,  23,  24,  25,\n",
       "         26,  27,  28,  29,  30,  31,  32,  33,  34,  35,  36,  37,  38,\n",
       "         39,  40,  41,  42,  43,  44,  45,  46,  47,  48,  49,  50,  51,\n",
       "         52,  53,  54,  55,  56,  57,  58,  59,  60,  61,  62,  63,  64,\n",
       "         65,  66,  67,  68,  69,  70,  71,  72,  73,  74,  75,  76,  77,\n",
       "         78,  79,  80,  81,  82,  83,  84,  85,  86,  87,  88,  89,  90,\n",
       "         91,  92,  93,  94,  95,  96,  97,  98,  99, 100, 101, 102, 103,\n",
       "        104, 105, 106, 107, 108, 109, 110, 111, 112, 113, 114, 115, 116,\n",
       "        117, 118, 119, 120, 121, 122, 123, 124, 125, 126, 127, 128, 129,\n",
       "        130, 131, 132, 133, 134, 135, 136, 137, 138, 139, 140, 141, 142,\n",
       "        143, 144, 145, 146, 147, 148, 149, 150, 151, 152, 153, 154, 155,\n",
       "        156, 157, 158, 159, 160, 161, 162, 163, 164, 165, 166, 167, 168,\n",
       "        169, 170, 171, 172, 173, 174, 175, 176, 177, 178, 179, 180, 181,\n",
       "        182, 183, 184, 185, 186, 187, 188, 189, 190, 191, 192, 193, 194,\n",
       "        195, 196, 197, 198, 199, 200, 201, 202, 203, 204, 205, 206, 207,\n",
       "        208, 209, 210, 211, 212, 213, 214, 215, 216, 217, 218, 219, 220,\n",
       "        221, 222, 223, 224, 225, 226, 227, 228, 229, 230, 231, 232, 233,\n",
       "        234, 235, 236, 237, 238, 239, 240, 241, 242, 243, 244, 245, 246,\n",
       "        247, 248, 249, 250, 251, 252, 253, 254, 255, 256, 257, 258, 259,\n",
       "        260, 261, 262, 263, 264, 265, 266, 267, 268, 269, 270, 271, 272,\n",
       "        273, 274, 275, 276, 277, 278, 279, 280, 281, 282, 283, 284, 285,\n",
       "        286, 287, 288, 289, 290, 291, 292, 293, 294, 295, 296, 297, 298,\n",
       "        299, 300, 301, 302, 303, 304, 305, 306, 307, 308, 309, 310, 311,\n",
       "        312, 313, 314, 315, 316, 317, 318, 319, 320, 321, 322, 323, 324,\n",
       "        325, 326, 327, 328, 329, 330, 331, 332, 333, 334, 335, 336, 337,\n",
       "        338, 339, 340, 341, 342, 343, 344, 345, 346, 347, 348, 349, 350,\n",
       "        351, 352, 353, 354, 355, 356, 357, 358, 359, 360, 361, 362, 363,\n",
       "        364, 365, 366, 367, 368, 369, 370, 371, 372, 373, 374, 375, 376,\n",
       "        377, 378, 379, 380, 381, 382, 383, 384, 385, 386, 387, 388, 389,\n",
       "        390, 391, 392, 393, 394, 395, 396, 397, 398, 399, 400, 401, 402,\n",
       "        403, 404, 405, 406, 407, 408, 409, 410, 411, 412, 413, 414, 415,\n",
       "        416, 417, 418, 419, 420, 421, 422, 423, 424, 425, 426, 427, 428,\n",
       "        429, 430, 431, 432, 433, 434, 435, 436, 437, 438, 439, 440, 441,\n",
       "        442, 443, 444, 445, 446, 447, 448, 449, 450, 451, 452, 453, 454,\n",
       "        455, 456, 457, 458, 459, 460, 461, 462, 463, 464, 465, 466, 467,\n",
       "        468, 469, 470, 471, 472, 473, 474, 475, 476, 477, 478, 479, 480,\n",
       "        481, 482, 483, 484, 485, 486, 487, 488, 489, 490, 491, 492, 493,\n",
       "        494, 495, 496, 497, 498, 499, 500]),\n",
       " array([ 0,  1,  2,  3,  4,  5,  6,  7,  8,  9, 10, 11, 12, 13, 14, 15, 16,\n",
       "        17, 18, 19, 20, 21, 22, 23, 24, 25, 26, 27, 28, 29, 30, 30, 31, 32,\n",
       "        33, 34, 35, 35, 36, 37, 38, 39, 39, 39, 39, 39, 40, 40, 41, 41, 41,\n",
       "        42, 42, 43, 43, 44, 44, 45, 45, 45, 46, 47, 48, 48, 48, 49, 50, 50,\n",
       "        50, 50, 51, 52, 52, 52, 52, 52, 53, 53, 53, 53, 54, 54, 54, 54, 55,\n",
       "        55, 55, 55, 55, 55, 55, 55, 55, 55, 56, 56, 56, 56, 56, 56, 56, 56,\n",
       "        56, 56, 56, 56, 56, 57, 57, 58, 58, 58, 58, 58, 58, 58, 59, 59, 59,\n",
       "        59, 59, 59, 59, 59, 59, 59, 59, 59, 59, 59, 59, 59, 60, 60, 60, 60,\n",
       "        60, 61, 61, 61, 61, 62, 62, 62, 62, 62, 62, 62, 62, 62, 62, 62, 62,\n",
       "        62, 62, 62, 62, 62, 62, 62, 62, 63, 64, 64, 64, 64, 64, 64, 64, 64,\n",
       "        64, 64, 64, 64, 64, 64, 64, 64, 64, 64, 64, 64, 64, 64, 64, 64, 64,\n",
       "        64, 64, 64, 64, 64, 64, 64, 64, 64, 64, 64, 64, 64, 64, 64, 64, 64,\n",
       "        64, 64, 64, 64, 64, 64, 64, 64, 64, 64, 64, 64, 64, 64, 64, 64, 64,\n",
       "        64, 64, 64, 64, 64, 64, 64, 64, 64, 64, 64, 64, 64, 64, 64, 64, 64,\n",
       "        64, 64, 64, 64, 64, 64, 64, 64, 64, 64, 64, 64, 64, 64, 64, 64, 64,\n",
       "        64, 64, 64, 64, 64, 64, 64, 64, 64, 64, 64, 64, 64, 64, 64, 64, 64,\n",
       "        64, 64, 64, 64, 64, 64, 64, 64, 64, 64, 64, 64, 64, 64, 64, 64, 64,\n",
       "        64, 64, 64, 64, 64, 64, 64, 64, 64, 64, 64, 64, 64, 64, 64, 64, 64,\n",
       "        64, 64, 64, 64, 64, 64, 64, 64, 64, 64, 64, 64, 64, 64, 64, 64, 64,\n",
       "        64, 64, 64, 64, 64, 64, 64, 64, 64, 64, 64, 64, 64, 64, 64, 64, 64,\n",
       "        64, 64, 64, 64, 64, 64, 64, 64, 64, 64, 64, 64, 64, 64, 64, 64, 64,\n",
       "        64, 64, 64, 64, 64, 64, 64, 64, 64, 64, 64, 64, 64, 64, 64, 64, 64,\n",
       "        64, 64, 64, 64, 64, 64, 64, 64, 64, 64, 64, 64, 64, 64, 64, 64, 64,\n",
       "        64, 64, 64, 64, 64, 64, 64, 64, 64, 64, 64, 64, 64, 64, 64, 64, 64,\n",
       "        64, 64, 64, 64, 64, 64, 64, 64, 64, 64, 64, 64, 64, 64, 64, 64, 64,\n",
       "        64, 64, 64, 64, 64, 64, 64, 64, 64, 64, 64, 64, 64, 64, 64, 64, 64,\n",
       "        64, 64, 64, 64, 64, 64, 64, 64, 64, 64, 64, 64, 64, 64, 64, 64, 64,\n",
       "        64, 64, 64, 64, 64, 64, 64, 64, 64, 64, 64, 64, 64, 64, 64, 64, 64,\n",
       "        64, 64, 64, 64, 64, 64, 64, 64, 64, 64, 64, 64, 64, 64, 64, 64, 64,\n",
       "        64, 64, 64, 64, 64, 64, 64, 64]))"
      ]
     },
     "execution_count": 23,
     "metadata": {},
     "output_type": "execute_result"
    }
   ],
   "source": [
    "x_y_cap_data(model_random_forest, x_test, y_test, total, 1)"
   ]
  },
  {
   "cell_type": "markdown",
   "metadata": {},
   "source": [
    "## Descrevendo o Gráfico CAP\n",
    "\n",
    "X = O número de Observações:\n",
    "Y = Classes 1 da base"
   ]
  }
 ],
 "metadata": {
  "kernelspec": {
   "display_name": "Python 3",
   "language": "python",
   "name": "python3"
  },
  "language_info": {
   "codemirror_mode": {
    "name": "ipython",
    "version": 3
   },
   "file_extension": ".py",
   "mimetype": "text/x-python",
   "name": "python",
   "nbconvert_exporter": "python",
   "pygments_lexer": "ipython3",
   "version": "3.7.5"
  }
 },
 "nbformat": 4,
 "nbformat_minor": 2
}
