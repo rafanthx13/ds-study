{
 "cells": [
  {
   "cell_type": "markdown",
   "metadata": {},
   "source": [
    "# Avaliar Algoritmos de Classificação"
   ]
  },
  {
   "cell_type": "code",
   "execution_count": 2,
   "metadata": {
    "ExecuteTime": {
     "end_time": "2020-01-02T20:59:13.686592Z",
     "start_time": "2020-01-02T20:59:08.866267Z"
    }
   },
   "outputs": [],
   "source": [
    "import pandas as pd\n",
    "import numpy as np\n",
    "import matplotlib.pyplot as plt\n",
    "file_path = \"../files/\""
   ]
  },
  {
   "cell_type": "markdown",
   "metadata": {},
   "source": [
    "## Fazendo Avaliação Cruzada"
   ]
  },
  {
   "cell_type": "code",
   "execution_count": 5,
   "metadata": {
    "ExecuteTime": {
     "end_time": "2020-01-02T17:58:06.203758Z",
     "start_time": "2020-01-02T17:58:04.408402Z"
    }
   },
   "outputs": [],
   "source": [
    "base = pd.read_csv(file_path + 'credit_data.csv')\n",
    "base.loc[base.age < 0, 'age'] = 40.92\n",
    "               \n",
    "previsores = base.iloc[:, 1:4].values\n",
    "classe = base.iloc[:, 4].values\n",
    "\n",
    "from sklearn.impute import SimpleImputer\n",
    "imputer = SimpleImputer(missing_values = np.nan, strategy = 'mean')\n",
    "imputer = imputer.fit(previsores[:, 1:4])\n",
    "previsores[:, 1:4] = imputer.transform(previsores[:, 1:4])\n",
    "\n",
    "from sklearn.preprocessing import StandardScaler\n",
    "scaler = StandardScaler()\n",
    "previsores = scaler.fit_transform(previsores)"
   ]
  },
  {
   "cell_type": "code",
   "execution_count": 6,
   "metadata": {
    "ExecuteTime": {
     "end_time": "2020-01-02T17:58:29.165505Z",
     "start_time": "2020-01-02T17:58:29.031522Z"
    }
   },
   "outputs": [],
   "source": [
    "# Classificador\n",
    "from sklearn.naive_bayes import GaussianNB\n",
    "classificador = GaussianNB()"
   ]
  },
  {
   "cell_type": "markdown",
   "metadata": {},
   "source": [
    "### Realizando o CrossValidation\n",
    "\n",
    "Ele mesmo faz as predições e só retorna o valor da acurácia delas"
   ]
  },
  {
   "cell_type": "code",
   "execution_count": 10,
   "metadata": {
    "ExecuteTime": {
     "end_time": "2020-01-02T18:00:07.410695Z",
     "start_time": "2020-01-02T18:00:07.247355Z"
    }
   },
   "outputs": [
    {
     "name": "stdout",
     "output_type": "stream",
     "text": [
      "Precisao para cada teste:\n",
      " [0.905 0.92  0.955 0.92  0.91  0.96  0.93  0.92  0.89  0.93 ]\n",
      "Media dos testes:\n",
      " 0.924\n",
      "Desvio Padrao:\n",
      " 0.020223748416156664\n"
     ]
    }
   ],
   "source": [
    "from sklearn.model_selection import cross_val_score\n",
    "resultados = cross_val_score(classificador, previsores, classe, cv = 10)\n",
    "\n",
    "print(\"Precisao para cada teste:\\n\", resultados)\n",
    "print(\"Media dos testes:\\n\", resultados.mean())\n",
    "print(\"Desvio Padrao:\\n\", resultados.std())"
   ]
  },
  {
   "cell_type": "markdown",
   "metadata": {
    "ExecuteTime": {
     "end_time": "2020-01-02T18:10:42.249930Z",
     "start_time": "2020-01-02T18:10:42.239615Z"
    }
   },
   "source": [
    "## Stratified K-Fold\n",
    "\n",
    "**PROCESSO DE ESTRATIFICAÇÃO**: Garante que as bases que vai pegar sejam bons representantes do todo"
   ]
  },
  {
   "cell_type": "code",
   "execution_count": 12,
   "metadata": {
    "ExecuteTime": {
     "end_time": "2020-01-02T18:11:54.942042Z",
     "start_time": "2020-01-02T18:11:54.866971Z"
    }
   },
   "outputs": [],
   "source": [
    "base = pd.read_csv(file_path + 'credit_data.csv')\n",
    "base.loc[base.age < 0, 'age'] = 40.92\n",
    "               \n",
    "previsores = base.iloc[:, 1:4].values\n",
    "classe = base.iloc[:, 4].values\n",
    "\n",
    "from sklearn.impute import SimpleImputer\n",
    "imputer = SimpleImputer(missing_values = np.nan, strategy = 'mean')\n",
    "imputer = imputer.fit(previsores[:, 1:4])\n",
    "previsores[:, 1:4] = imputer.transform(previsores[:, 1:4])\n",
    "\n",
    "from sklearn.preprocessing import StandardScaler\n",
    "scaler = StandardScaler()\n",
    "previsores = scaler.fit_transform(previsores)\n",
    "\n",
    "from sklearn.naive_bayes import GaussianNB"
   ]
  },
  {
   "cell_type": "code",
   "execution_count": 13,
   "metadata": {
    "ExecuteTime": {
     "end_time": "2020-01-02T18:18:31.674216Z",
     "start_time": "2020-01-02T18:18:31.659462Z"
    }
   },
   "outputs": [],
   "source": [
    "from sklearn.model_selection import StratifiedKFold\n",
    "from sklearn.metrics import accuracy_score, confusion_matrix\n",
    "kfold = StratifiedKFold(n_splits = 10, shuffle = True, random_state = 3)"
   ]
  },
  {
   "cell_type": "code",
   "execution_count": 16,
   "metadata": {
    "ExecuteTime": {
     "end_time": "2020-01-02T18:21:53.938933Z",
     "start_time": "2020-01-02T18:21:53.758213Z"
    }
   },
   "outputs": [],
   "source": [
    "resultados = []\n",
    "matrizes = []\n",
    "for indice_treinamento, indice_teste in kfold.split(previsores,\n",
    "                                                    np.zeros(shape=(previsores.shape[0], 1))):\n",
    "    # print('==>Índice treinamento: ', indice_treinamento, '\\n Índice teste: ', indice_teste)\n",
    "    classificador = GaussianNB()\n",
    "    classificador.fit(previsores[indice_treinamento], classe[indice_treinamento]) \n",
    "    previsoes = classificador.predict(previsores[indice_teste])\n",
    "    precisao = accuracy_score(classe[indice_teste], previsoes)\n",
    "    matrizes.append(confusion_matrix(classe[indice_teste], previsoes))\n",
    "    resultados.append(precisao)"
   ]
  },
  {
   "cell_type": "code",
   "execution_count": 18,
   "metadata": {
    "ExecuteTime": {
     "end_time": "2020-01-02T18:22:34.636705Z",
     "start_time": "2020-01-02T18:22:34.602196Z"
    }
   },
   "outputs": [
    {
     "data": {
      "text/plain": [
       "array([[168. ,   3.7],\n",
       "       [ 11.3,  17. ]])"
      ]
     },
     "execution_count": 18,
     "metadata": {},
     "output_type": "execute_result"
    }
   ],
   "source": [
    "# Fazemos a média das 10 matrizes de confunsão em uma só\n",
    "matriz_final = np.mean(matrizes, axis = 0)\n",
    "matriz_final"
   ]
  },
  {
   "cell_type": "code",
   "execution_count": 17,
   "metadata": {
    "ExecuteTime": {
     "end_time": "2020-01-02T18:22:32.473869Z",
     "start_time": "2020-01-02T18:22:32.441879Z"
    }
   },
   "outputs": [
    {
     "name": "stdout",
     "output_type": "stream",
     "text": [
      "0.925\n",
      "0.017175564037317643\n"
     ]
    }
   ],
   "source": [
    "resultados = np.asarray(resultados)\n",
    "print(resultados.mean())\n",
    "print(resultados.std())"
   ]
  },
  {
   "cell_type": "markdown",
   "metadata": {},
   "source": [
    "## Fazendo 300 testes por :: K=10 CrossValidation variando 30 Seed\n",
    "\n",
    "Demora muito mesmo com um NaiveBayes. Deve-se executar em somente um tipo de classificador por vez"
   ]
  },
  {
   "cell_type": "code",
   "execution_count": null,
   "metadata": {
    "ExecuteTime": {
     "start_time": "2020-01-02T18:30:32.929Z"
    }
   },
   "outputs": [],
   "source": [
    "from sklearn.model_selection import StratifiedKFold\n",
    "from sklearn.metrics import accuracy_score\n",
    "\n",
    "from sklearn.tree import DecisionTreeClassifier\n",
    "from sklearn.naive_bayes import GaussianNB\n",
    "from sklearn.linear_model import LogisticRegression\n",
    "from sklearn.svm import SVC\n",
    "from sklearn.neighbors import KNeighborsClassifier\n",
    "from sklearn.ensemble import RandomForestClassifier\n",
    "from sklearn.neural_network import MLPClassifier\n",
    "\n",
    "resultados30 = []\n",
    "for i in range(30):\n",
    "    kfold = StratifiedKFold(n_splits=10, shuffle=True, random_state = i)\n",
    "    resultados1 = []\n",
    "    for indice_treinamento, indice_teste in kfold.split(previsores, np.zeros(shape=(classe.shape[0], 1))):\n",
    "        \n",
    "        ########## Selecione um único classificador por vez\n",
    "        classificador = GaussianNB()\n",
    "        #classificador = DecisionTreeClassifier()\n",
    "        #classificador = LogisticRegression()\n",
    "        #classificador = SVC(kernel = 'rbf', random_state = 1, C = 2.0)\n",
    "        #classificador = KNeighborsClassifier(n_neighbors=5, metric='minkowski', p = 2)\n",
    "        #classificador = RandomForestClassifier(n_estimators=40, criterion='entropy', random_state=0)\n",
    "        #classificador = MLPClassifier(verbose = True, max_iter = 1000,\n",
    "        #                       tol = 0.000010, solver='adam',\n",
    "        #                       hidden_layer_sizes=(100), activation = 'relu',\n",
    "        #                       batch_size=200, learning_rate_init=0.001)\n",
    "        ##########\n",
    "        classificador.fit(previsores[indice_treinamento], classe[indice_treinamento])\n",
    "        previsoes = classificador.predict(previsores[indice_teste])\n",
    "        precisao = accuracy_score(classe[indice_teste], previsoes)\n",
    "        resultados1.append(precisao)\n",
    "        \n",
    "    resultados1 = np.asarray(resultados1)\n",
    "    media = resultados1.mean()\n",
    "    resultados30.append(media)\n",
    "    \n",
    "resultados30 = np.asarray(resultados30)    \n",
    "resultados30.mean()\n",
    "for i in range(resultados30.size):\n",
    "    print(str(resultados30[i]).replace('.', ','))"
   ]
  },
  {
   "cell_type": "markdown",
   "metadata": {},
   "source": [
    "## Curva ROC"
   ]
  },
  {
   "cell_type": "code",
   "execution_count": 7,
   "metadata": {
    "ExecuteTime": {
     "end_time": "2020-01-02T21:03:27.025386Z",
     "start_time": "2020-01-02T21:03:26.926184Z"
    }
   },
   "outputs": [],
   "source": [
    "base = pd.read_csv(file_path + 'credit_data.csv')\n",
    "base.loc[base.age < 0, 'age'] = 40.92\n",
    "               \n",
    "previsores = base.iloc[:, 1:4].values\n",
    "classe = base.iloc[:, 4].values\n",
    "\n",
    "from sklearn.impute import SimpleImputer\n",
    "imputer = SimpleImputer(missing_values = np.nan, strategy = 'mean')\n",
    "imputer = imputer.fit(previsores[:, 1:4])\n",
    "previsores[:, 1:4] = imputer.transform(previsores[:, 1:4])\n",
    "\n",
    "from sklearn.preprocessing import StandardScaler\n",
    "scaler = StandardScaler()\n",
    "previsores = scaler.fit_transform(previsores)\n",
    "\n",
    "from sklearn.model_selection import train_test_split\n",
    "previsores_treinamento, previsores_teste, classe_treinamento, classe_teste = train_test_split(\n",
    "    previsores, classe, test_size=0.25, random_state=0)\n",
    "\n",
    "from sklearn.naive_bayes import GaussianNB\n",
    "\n",
    "classificador = GaussianNB()\n",
    "classificador.fit(previsores_treinamento, classe_treinamento)"
   ]
  },
  {
   "cell_type": "markdown",
   "metadata": {},
   "source": [
    "### Preparando dados para fazer a curva roc"
   ]
  },
  {
   "cell_type": "code",
   "execution_count": 9,
   "metadata": {
    "ExecuteTime": {
     "end_time": "2020-01-02T21:03:53.863833Z",
     "start_time": "2020-01-02T21:03:53.788779Z"
    }
   },
   "outputs": [],
   "source": [
    "probs = classificador.predict_proba(previsores_teste)\n",
    "probs = probs[:, 1]\n",
    "\n",
    "fpr, tpr, thresholds = roc_curve(classe_teste, probs)\n",
    "roc_auc = auc(fpr, tpr)"
   ]
  },
  {
   "cell_type": "code",
   "execution_count": 28,
   "metadata": {
    "ExecuteTime": {
     "end_time": "2020-01-02T21:33:25.031561Z",
     "start_time": "2020-01-02T21:33:23.640418Z"
    }
   },
   "outputs": [
    {
     "data": {
      "text/plain": [
       "<matplotlib.legend.Legend at 0x7faaece7ff50>"
      ]
     },
     "execution_count": 28,
     "metadata": {},
     "output_type": "execute_result"
    },
    {
     "data": {
      "image/png": "[encoded data removed]",
      "text/plain": [
       "<Figure size 432x288 with 1 Axes>"
      ]
     },
     "metadata": {
      "needs_background": "light"
     },
     "output_type": "display_data"
    }
   ],
   "source": [
    "label = 'Support Vector Classifier AUC:' + ' {0:.2f}'.format(roc_auc)\n",
    "plt.plot(fpr, tpr, c = 'g', label = label, linewidth = 4)\n",
    "plt.xlabel('False Positive Rate', fontsize = 16)\n",
    "plt.ylabel('True Positive Rate', fontsize = 16)\n",
    "plt.title('Receiver Operating Characteristic - ROC', fontsize = 16)\n",
    "plt.legend(loc = 'lower right', fontsize = 14)"
   ]
  },
  {
   "cell_type": "markdown",
   "metadata": {},
   "source": [
    "## CURVA CAP\n",
    "\n",
    "## Dados para fazer Curva CAP"
   ]
  },
  {
   "cell_type": "code",
   "execution_count": 15,
   "metadata": {
    "ExecuteTime": {
     "end_time": "2020-01-02T21:07:33.653465Z",
     "start_time": "2020-01-02T21:07:33.605246Z"
    }
   },
   "outputs": [
    {
     "name": "stdout",
     "output_type": "stream",
     "text": [
      "total: 500\n",
      "class_1_count 64\n",
      "class_0_count 436\n"
     ]
    }
   ],
   "source": [
    "# Calcular quantidade de elementos de cada classe (as classe sâo numéricas)\n",
    "\n",
    "total = len(classe_teste)\n",
    "print(\"total:\", total)\n",
    "\n",
    "class_1_count = np.sum(classe_teste)\n",
    "print(\"class_1_count:\", class_1_count)\n",
    "\n",
    "class_0_count = total - class_1_count\n",
    "print(\"class_0_count:\", class_0_count)"
   ]
  },
  {
   "cell_type": "markdown",
   "metadata": {},
   "source": [
    "### Fazendo Curva CAP"
   ]
  },
  {
   "cell_type": "code",
   "execution_count": 17,
   "metadata": {
    "ExecuteTime": {
     "end_time": "2020-01-02T21:13:01.987774Z",
     "start_time": "2020-01-02T21:13:00.256931Z"
    }
   },
   "outputs": [
    {
     "data": {
      "text/plain": [
       "<matplotlib.legend.Legend at 0x7faaed054110>"
      ]
     },
     "execution_count": 17,
     "metadata": {},
     "output_type": "execute_result"
    },
    {
     "data": {
      "image/png": "[encoded data removed]",
      "text/plain": [
       "<Figure size 1440x864 with 1 Axes>"
      ]
     },
     "metadata": {
      "needs_background": "light"
     },
     "output_type": "display_data"
    }
   ],
   "source": [
    "plt.figure(figsize = (20, 12))\n",
    "\n",
    "plt.plot([0, total], [0, class_1_count], c = 'r', linestyle = '--', label = 'Random Model')\n",
    "\n",
    "plt.plot([0, class_1_count, total], \n",
    "         [0, class_1_count, class_1_count], \n",
    "         c = 'grey', \n",
    "         linewidth = 2, \n",
    "         label = 'Perfect Model')\n",
    "\n",
    "probs = classificador.predict_proba(previsores_teste)\n",
    "# probs = supportVectorClassifier.predict_proba(X_test)\n",
    "probs = probs[:, 1]\n",
    "model_y = [y for _, y in sorted(zip(probs, classe_teste), reverse = True)]\n",
    "y_values = np.append([0], np.cumsum(model_y))\n",
    "x_values = np.arange(0, total + 1)\n",
    "\n",
    "plt.plot(x_values, \n",
    "         y_values, \n",
    "         c = 'b', \n",
    "         label = 'Support Vector Classifier', \n",
    "         linewidth = 4)\n",
    "\n",
    "# Plot information\n",
    "plt.xlabel('Total observations', fontsize = 16)\n",
    "plt.ylabel('Class 1 observations', fontsize = 16)\n",
    "plt.title('Cumulative Accuracy Profile', fontsize = 16)\n",
    "plt.legend(loc = 'lower right', fontsize = 16)"
   ]
  },
  {
   "cell_type": "markdown",
   "metadata": {},
   "source": [
    "### Calculando valor AUC da curva CAP"
   ]
  },
  {
   "cell_type": "code",
   "execution_count": 30,
   "metadata": {
    "ExecuteTime": {
     "end_time": "2020-01-02T21:35:46.245827Z",
     "start_time": "2020-01-02T21:35:46.206078Z"
    }
   },
   "outputs": [
    {
     "name": "stdout",
     "output_type": "stream",
     "text": [
      "Accuracy Rate for CLASSIFY: 0.937141628440367\n"
     ]
    }
   ],
   "source": [
    "# https://www.geeksforgeeks.org/python-cap-cumulative-accuracy-profile-analysis/\n",
    "\n",
    "# Area under Random Model\n",
    "a = auc([0, total], [0, class_1_count])\n",
    "\n",
    "# Area between Perfect and Random Model\n",
    "aP = auc([0, class_1_count, total], [0, class_1_count, class_1_count]) - a\n",
    "\n",
    "# Area between Trained and Random Model\n",
    "aR = auc(x_values, y_values) - a\n",
    "\n",
    "print(\"Accuracy Rate for CLASSIFY: {}\".format(aR / aP))\n",
    "## Accuracy Rate for Support Vector Classifier: 0.9688542825361512"
   ]
  }
 ],
 "metadata": {
  "kernelspec": {
   "display_name": "Python 3",
   "language": "python",
   "name": "python3"
  },
  "language_info": {
   "codemirror_mode": {
    "name": "ipython",
    "version": 3
   },
   "file_extension": ".py",
   "mimetype": "text/x-python",
   "name": "python",
   "nbconvert_exporter": "python",
   "pygments_lexer": "ipython3",
   "version": "3.7.5"
  }
 },
 "nbformat": 4,
 "nbformat_minor": 2
}
