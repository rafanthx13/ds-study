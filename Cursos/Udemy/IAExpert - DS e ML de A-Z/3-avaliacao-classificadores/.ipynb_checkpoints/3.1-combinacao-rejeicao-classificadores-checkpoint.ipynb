{
 "cells": [
  {
   "cell_type": "markdown",
   "metadata": {},
   "source": [
    "# Combinação e Rejeição de Classificadores"
   ]
  },
  {
   "cell_type": "markdown",
   "metadata": {
    "ExecuteTime": {
     "end_time": "2020-01-02T20:03:52.994263Z",
     "start_time": "2020-01-02T20:03:52.958849Z"
    }
   },
   "source": [
    "## Combinação\n",
    "\n",
    "A ideia é usar mais de um classificador para ter certeza da resposta"
   ]
  },
  {
   "cell_type": "code",
   "execution_count": 7,
   "metadata": {
    "ExecuteTime": {
     "end_time": "2020-01-02T19:50:00.442511Z",
     "start_time": "2020-01-02T19:50:00.384196Z"
    }
   },
   "outputs": [],
   "source": [
    "import pandas as pd\n",
    "import numpy as np\n",
    "import matplotlib.pyplot as plt\n",
    "import pickle\n",
    "from sklearn.preprocessing import StandardScaler\n",
    "file_path = \"../files/\""
   ]
  },
  {
   "cell_type": "code",
   "execution_count": 5,
   "metadata": {
    "ExecuteTime": {
     "end_time": "2020-01-02T19:49:54.046400Z",
     "start_time": "2020-01-02T19:49:53.948038Z"
    }
   },
   "outputs": [],
   "source": [
    "# LOAD Classificadores\n",
    "svm = pickle.load(open('svm_finalizado.sav', 'rb'))\n",
    "random_forest = pickle.load(open('random_forest_finalizado.sav', 'rb'))\n",
    "mlp = pickle.load(open('mlp_finalizado.sav', 'rb'))"
   ]
  },
  {
   "cell_type": "code",
   "execution_count": 8,
   "metadata": {
    "ExecuteTime": {
     "end_time": "2020-01-02T19:50:02.767527Z",
     "start_time": "2020-01-02T19:50:02.715279Z"
    }
   },
   "outputs": [],
   "source": [
    "novo_registro = [[50000, 40, 5000]]\n",
    "novo_registro = np.asarray(novo_registro)\n",
    "novo_registro = novo_registro.reshape(-1, 1)\n",
    "scaler = StandardScaler()\n",
    "novo_registro = scaler.fit_transform(novo_registro)\n",
    "novo_registro = novo_registro.reshape(-1, 3)"
   ]
  },
  {
   "cell_type": "code",
   "execution_count": 10,
   "metadata": {
    "ExecuteTime": {
     "end_time": "2020-01-02T19:51:08.731644Z",
     "start_time": "2020-01-02T19:51:08.668040Z"
    }
   },
   "outputs": [],
   "source": [
    "#resposta_svm = svm.predict(novo_registro) ## Nao ta funcionando\n",
    "resposta_random_forest = random_forest.predict(novo_registro)\n",
    "resposta_mlp = mlp.predict(novo_registro)"
   ]
  },
  {
   "cell_type": "code",
   "execution_count": 12,
   "metadata": {
    "ExecuteTime": {
     "end_time": "2020-01-02T19:51:37.091322Z",
     "start_time": "2020-01-02T19:51:36.986984Z"
    }
   },
   "outputs": [
    {
     "name": "stdout",
     "output_type": "stream",
     "text": [
      "Cliente não pagará o empréstimo\n",
      "paga 0 nao_paga 2\n"
     ]
    }
   ],
   "source": [
    "paga = 0\n",
    "nao_paga = 0\n",
    "\n",
    "# if resposta_svm[0] == 1:\n",
    "#     paga += 1\n",
    "# else:\n",
    "#     nao_paga += 1\n",
    "    \n",
    "if resposta_random_forest[0] == 1:\n",
    "    paga += 1\n",
    "else:\n",
    "    nao_paga += 1\n",
    "    \n",
    "if resposta_mlp[0] == 1:\n",
    "    paga += 1\n",
    "else:\n",
    "    nao_paga += 1\n",
    "    \n",
    "if paga > nao_paga:\n",
    "    print('Cliente pagará o empréstimo')\n",
    "elif paga == nao_paga:\n",
    "    print('Resultado empatado')\n",
    "else:\n",
    "    print('Cliente não pagará o empréstimo')\n",
    "    \n",
    "print(\"paga\", paga, \"nao_paga\", nao_paga)    "
   ]
  },
  {
   "cell_type": "markdown",
   "metadata": {},
   "source": [
    "## Rejeição de Classificadores\n",
    "\n",
    "É observar a probabildade das respostas para considerá-la ou não\n",
    "\n",
    "### Carregando modelos"
   ]
  },
  {
   "cell_type": "code",
   "execution_count": 25,
   "metadata": {
    "ExecuteTime": {
     "end_time": "2020-01-02T20:00:35.214511Z",
     "start_time": "2020-01-02T20:00:35.155604Z"
    }
   },
   "outputs": [],
   "source": [
    "#svm = pickle.load(open('svm_finalizado.sav', 'rb'))\n",
    "random_forest = pickle.load(open('random_forest_finalizado.sav', 'rb'))\n",
    "mlp = pickle.load(open('mlp_finalizado.sav', 'rb'))"
   ]
  },
  {
   "cell_type": "code",
   "execution_count": 14,
   "metadata": {
    "ExecuteTime": {
     "end_time": "2020-01-02T19:57:20.979898Z",
     "start_time": "2020-01-02T19:57:20.931888Z"
    }
   },
   "outputs": [],
   "source": [
    "novo_registro = [[50000, 40, 5000]]\n",
    "novo_registro = np.asarray(novo_registro)\n",
    "novo_registro = novo_registro.reshape(-1, 1)\n",
    "scaler = StandardScaler()\n",
    "novo_registro = scaler.fit_transform(novo_registro)\n",
    "novo_registro = novo_registro.reshape(-1, 3)"
   ]
  },
  {
   "cell_type": "code",
   "execution_count": 16,
   "metadata": {
    "ExecuteTime": {
     "end_time": "2020-01-02T19:57:36.875595Z",
     "start_time": "2020-01-02T19:57:36.779821Z"
    }
   },
   "outputs": [],
   "source": [
    "#resposta_svm = svm.predict(novo_registro)\n",
    "resposta_random_forest = random_forest.predict(novo_registro)\n",
    "resposta_mlp = mlp.predict(novo_registro)"
   ]
  },
  {
   "cell_type": "markdown",
   "metadata": {},
   "source": [
    "### Calculando as probabilidades"
   ]
  },
  {
   "cell_type": "code",
   "execution_count": 22,
   "metadata": {
    "ExecuteTime": {
     "end_time": "2020-01-02T19:59:37.452598Z",
     "start_time": "2020-01-02T19:59:37.330886Z"
    }
   },
   "outputs": [
    {
     "name": "stdout",
     "output_type": "stream",
     "text": [
      "0.975 de ser [0]\n"
     ]
    }
   ],
   "source": [
    "probabilidade_random_forest = random_forest.predict_proba(novo_registro)\n",
    "confianca_random_forest = probabilidade_random_forest.max()\n",
    "print(confianca_random_forest, \"de ser\", resposta_random_forest)"
   ]
  },
  {
   "cell_type": "code",
   "execution_count": 21,
   "metadata": {
    "ExecuteTime": {
     "end_time": "2020-01-02T19:59:21.831883Z",
     "start_time": "2020-01-02T19:59:21.774270Z"
    }
   },
   "outputs": [
    {
     "name": "stdout",
     "output_type": "stream",
     "text": [
      "1.0 de ser: [0]\n"
     ]
    }
   ],
   "source": [
    "probabilidade_mlp = mlp.predict_proba(novo_registro)\n",
    "confianca_mlp = probabilidade_mlp.max()\n",
    "print(confianca_mlp, \"de ser:\", resposta_mlp)"
   ]
  },
  {
   "cell_type": "markdown",
   "metadata": {
    "ExecuteTime": {
     "end_time": "2020-01-02T20:03:00.844388Z",
     "start_time": "2020-01-02T20:03:00.792601Z"
    }
   },
   "source": [
    "### Aplicando critério de rejeição\n",
    "\n",
    "As repostas sâo consideradas quando se tem acima de 99,99999%"
   ]
  },
  {
   "cell_type": "code",
   "execution_count": 23,
   "metadata": {
    "ExecuteTime": {
     "end_time": "2020-01-02T20:00:16.331141Z",
     "start_time": "2020-01-02T20:00:16.274275Z"
    }
   },
   "outputs": [
    {
     "name": "stdout",
     "output_type": "stream",
     "text": [
      "Cliente não pagará o empréstimo\n"
     ]
    }
   ],
   "source": [
    "paga = 0\n",
    "nao_paga = 0\n",
    "confianca_minima = 0.99999999\n",
    "\n",
    "# if confianca_svm >= confianca_minima:\n",
    "#     if resposta_svm[0] == 1:\n",
    "#         paga += 1\n",
    "#     else:\n",
    "#         nao_paga += 1\n",
    "    \n",
    "if confianca_random_forest >= confianca_minima:\n",
    "    if resposta_random_forest[0] == 1:\n",
    "        paga += 1\n",
    "    else:\n",
    "        nao_paga += 1\n",
    "    \n",
    "if confianca_mlp >= confianca_minima:\n",
    "    if resposta_mlp[0] == 1:\n",
    "        paga += 1\n",
    "    else:\n",
    "        nao_paga += 1\n",
    "    \n",
    "if paga > nao_paga:\n",
    "    print('Cliente pagará o empréstimo')\n",
    "elif paga == nao_paga:\n",
    "    print('Resultado empatado')\n",
    "else:\n",
    "    print('Cliente não pagará o empréstimo')"
   ]
  }
 ],
 "metadata": {
  "kernelspec": {
   "display_name": "Python 3",
   "language": "python",
   "name": "python3"
  },
  "language_info": {
   "codemirror_mode": {
    "name": "ipython",
    "version": 3
   },
   "file_extension": ".py",
   "mimetype": "text/x-python",
   "name": "python",
   "nbconvert_exporter": "python",
   "pygments_lexer": "ipython3",
   "version": "3.7.5"
  }
 },
 "nbformat": 4,
 "nbformat_minor": 2
}
