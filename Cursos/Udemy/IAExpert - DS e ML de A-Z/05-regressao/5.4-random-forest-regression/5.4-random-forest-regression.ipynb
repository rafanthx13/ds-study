{
 "cells": [
  {
   "cell_type": "markdown",
   "metadata": {},
   "source": [
    "# Random Forest Regression"
   ]
  },
  {
   "cell_type": "code",
   "execution_count": 1,
   "metadata": {
    "ExecuteTime": {
     "end_time": "2020-01-04T02:22:58.534433Z",
     "start_time": "2020-01-04T02:22:55.787540Z"
    }
   },
   "outputs": [],
   "source": [
    "import pandas as pd\n",
    "import numpy as np\n",
    "import matplotlib.pyplot as plt\n",
    "file_path = \"../../files/\""
   ]
  },
  {
   "cell_type": "markdown",
   "metadata": {},
   "source": [
    "## Base `plano_saude2`"
   ]
  },
  {
   "cell_type": "code",
   "execution_count": 2,
   "metadata": {
    "ExecuteTime": {
     "end_time": "2020-01-04T02:24:16.616115Z",
     "start_time": "2020-01-04T02:24:16.596668Z"
    }
   },
   "outputs": [],
   "source": [
    "base = pd.read_csv(file_path + 'plano_saude2.csv')\n",
    "\n",
    "X = base.iloc[:, 0:1].values\n",
    "y = base.iloc[:, 1].values"
   ]
  },
  {
   "cell_type": "code",
   "execution_count": 10,
   "metadata": {
    "ExecuteTime": {
     "end_time": "2020-01-04T02:25:29.961117Z",
     "start_time": "2020-01-04T02:25:29.900669Z"
    }
   },
   "outputs": [
    {
     "name": "stdout",
     "output_type": "stream",
     "text": [
      "Score no Treinamento: 0.9483646413211871\n"
     ]
    }
   ],
   "source": [
    "from sklearn.ensemble import RandomForestRegressor\n",
    "regressor = RandomForestRegressor(n_estimators = 10)\n",
    "regressor.fit(X, y)\n",
    "score = regressor.score(X, y)\n",
    "print(\"Score no Treinamento:\", score)"
   ]
  },
  {
   "cell_type": "code",
   "execution_count": 11,
   "metadata": {
    "ExecuteTime": {
     "end_time": "2020-01-04T02:25:33.053515Z",
     "start_time": "2020-01-04T02:25:33.038695Z"
    }
   },
   "outputs": [
    {
     "data": {
      "text/plain": [
       "array([1397.])"
      ]
     },
     "execution_count": 11,
     "metadata": {},
     "output_type": "execute_result"
    }
   ],
   "source": [
    "previsao = regressor.predict(np.array(40).reshape(1, -1))\n",
    "previsao"
   ]
  },
  {
   "cell_type": "code",
   "execution_count": 12,
   "metadata": {
    "ExecuteTime": {
     "end_time": "2020-01-04T02:25:36.739240Z",
     "start_time": "2020-01-04T02:25:36.425685Z"
    }
   },
   "outputs": [
    {
     "data": {
      "text/plain": [
       "Text(0, 0.5, 'Custo')"
      ]
     },
     "execution_count": 12,
     "metadata": {},
     "output_type": "execute_result"
    },
    {
     "data": {
      "image/png": "[encoded data removed]",
      "text/plain": [
       "<Figure size 432x288 with 1 Axes>"
      ]
     },
     "metadata": {
      "needs_background": "light"
     },
     "output_type": "display_data"
    }
   ],
   "source": [
    "import numpy as np\n",
    "X_teste = np.arange(min(X), max(X), 0.1)\n",
    "X_teste = X_teste.reshape(-1,1)\n",
    "\n",
    "import matplotlib.pyplot as plt\n",
    "plt.scatter(X, y)\n",
    "plt.plot(X_teste, regressor.predict(X_teste), color = 'red')\n",
    "plt.title('Regressão com random forest')\n",
    "plt.xlabel('Idade')\n",
    "plt.ylabel('Custo')"
   ]
  },
  {
   "cell_type": "markdown",
   "metadata": {},
   "source": [
    "## Base `house-prices`"
   ]
  },
  {
   "cell_type": "code",
   "execution_count": 25,
   "metadata": {
    "ExecuteTime": {
     "end_time": "2020-01-04T02:30:43.476099Z",
     "start_time": "2020-01-04T02:30:43.341576Z"
    }
   },
   "outputs": [],
   "source": [
    "base = pd.read_csv(file_path + 'house-prices.csv')\n",
    "\n",
    "X = base.iloc[:, 3:19].values\n",
    "y = base.iloc[:, 2].values\n",
    "\n",
    "from sklearn.model_selection import train_test_split\n",
    "X_treinamento, X_teste, y_treinamento, y_teste = train_test_split(\n",
    "    X, y, test_size = 0.3, random_state = 0)"
   ]
  },
  {
   "cell_type": "code",
   "execution_count": 26,
   "metadata": {
    "ExecuteTime": {
     "end_time": "2020-01-04T02:30:59.791040Z",
     "start_time": "2020-01-04T02:30:44.223828Z"
    }
   },
   "outputs": [
    {
     "data": {
      "text/plain": [
       "RandomForestRegressor(bootstrap=True, ccp_alpha=0.0, criterion='mse',\n",
       "                      max_depth=None, max_features='auto', max_leaf_nodes=None,\n",
       "                      max_samples=None, min_impurity_decrease=0.0,\n",
       "                      min_impurity_split=None, min_samples_leaf=1,\n",
       "                      min_samples_split=2, min_weight_fraction_leaf=0.0,\n",
       "                      n_estimators=100, n_jobs=None, oob_score=False,\n",
       "                      random_state=None, verbose=0, warm_start=False)"
      ]
     },
     "execution_count": 26,
     "metadata": {},
     "output_type": "execute_result"
    }
   ],
   "source": [
    "from sklearn.ensemble import RandomForestRegressor\n",
    "regressor = RandomForestRegressor(n_estimators = 100)\n",
    "regressor.fit(X_treinamento, y_treinamento)"
   ]
  },
  {
   "cell_type": "code",
   "execution_count": 27,
   "metadata": {
    "ExecuteTime": {
     "end_time": "2020-01-04T02:31:01.715879Z",
     "start_time": "2020-01-04T02:31:00.962281Z"
    }
   },
   "outputs": [
    {
     "name": "stdout",
     "output_type": "stream",
     "text": [
      "Score no Treinamento: 0.9804094276982857\n"
     ]
    }
   ],
   "source": [
    "previsoes = regressor.predict(X_teste)\n",
    "\n",
    "score = regressor.score(X_treinamento, y_treinamento)\n",
    "print(\"Score no Treinamento:\", score)"
   ]
  },
  {
   "cell_type": "code",
   "execution_count": 28,
   "metadata": {
    "ExecuteTime": {
     "end_time": "2020-01-04T02:31:03.967539Z",
     "start_time": "2020-01-04T02:31:03.954199Z"
    }
   },
   "outputs": [
    {
     "name": "stdout",
     "output_type": "stream",
     "text": [
      "MAE - MeanAbsoluteError ==> 67741.42737080285\n",
      "MSE - MeanSquareError   ==> 16280324675.807644\n"
     ]
    }
   ],
   "source": [
    "from sklearn.metrics import mean_absolute_error, mean_squared_error\n",
    "mae = mean_absolute_error(y_teste, previsoes)\n",
    "print(\"MAE - MeanAbsoluteError ==>\", mae)\n",
    "mse = mean_squared_error(y_teste, previsoes)\n",
    "print(\"MSE - MeanSquareError   ==>\", mse)"
   ]
  },
  {
   "cell_type": "code",
   "execution_count": 29,
   "metadata": {
    "ExecuteTime": {
     "end_time": "2020-01-04T02:31:07.315841Z",
     "start_time": "2020-01-04T02:31:07.061248Z"
    }
   },
   "outputs": [
    {
     "name": "stdout",
     "output_type": "stream",
     "text": [
      "Score no Teste: 0.8814182151122472\n"
     ]
    }
   ],
   "source": [
    "print(\"Score no Teste:\", regressor.score(X_teste, y_teste))"
   ]
  },
  {
   "cell_type": "code",
   "execution_count": 30,
   "metadata": {
    "ExecuteTime": {
     "end_time": "2020-01-04T02:31:17.305151Z",
     "start_time": "2020-01-04T02:31:15.645327Z"
    }
   },
   "outputs": [
    {
     "data": {
      "image/png": "[encoded data removed]",
      "text/plain": [
       "<Figure size 576x396 with 2 Axes>"
      ]
     },
     "metadata": {},
     "output_type": "display_data"
    },
    {
     "data": {
      "text/plain": [
       "<matplotlib.axes._subplots.AxesSubplot at 0x7fec395c10d0>"
      ]
     },
     "execution_count": 30,
     "metadata": {},
     "output_type": "execute_result"
    }
   ],
   "source": [
    "from yellowbrick.regressor import ResidualsPlot\n",
    "visualizer = ResidualsPlot(regressor)\n",
    "visualizer.score(X_teste, y_teste)\n",
    "visualizer.show()"
   ]
  },
  {
   "cell_type": "markdown",
   "metadata": {},
   "source": [
    "## Base `Position_Salaries`"
   ]
  },
  {
   "cell_type": "code",
   "execution_count": 33,
   "metadata": {
    "ExecuteTime": {
     "end_time": "2020-01-04T02:32:48.828262Z",
     "start_time": "2020-01-04T02:32:48.809036Z"
    }
   },
   "outputs": [
    {
     "data": {
      "text/plain": [
       "''"
      ]
     },
     "execution_count": 33,
     "metadata": {},
     "output_type": "execute_result"
    }
   ],
   "source": [
    "# Importing the dataset\n",
    "dataset = pd.read_csv(file_path + 'Position_Salaries.csv')\n",
    "X = dataset.iloc[:, 1:2].values\n",
    "y = dataset.iloc[:, 2].values\n",
    "\n",
    "# Splitting the dataset into the Training set and Test set\n",
    "\"\"\"from sklearn.model_selection import train_test_split\n",
    "X_train, X_test, y_train, y_test = train_test_split(X, y, test_size = 0.2, random_state = 0)\"\"\"\n",
    "\n",
    "# Feature Scaling\n",
    "\"\"\"from sklearn.preprocessing import StandardScaler\n",
    "sc_X = StandardScaler()\n",
    "X_train = sc_X.fit_transform(X_train)\n",
    "X_test = sc_X.transform(X_test)\n",
    "sc_y = StandardScaler()\n",
    "y_train = sc_y.fit_transform(y_train.reshape(-1,1))\n",
    "\"\"\"\n",
    "\n",
    "# pass\n",
    "\"\""
   ]
  },
  {
   "cell_type": "code",
   "execution_count": 34,
   "metadata": {
    "ExecuteTime": {
     "end_time": "2020-01-04T02:32:52.859888Z",
     "start_time": "2020-01-04T02:32:52.812939Z"
    }
   },
   "outputs": [
    {
     "data": {
      "text/plain": [
       "RandomForestRegressor(bootstrap=True, ccp_alpha=0.0, criterion='mse',\n",
       "                      max_depth=None, max_features='auto', max_leaf_nodes=None,\n",
       "                      max_samples=None, min_impurity_decrease=0.0,\n",
       "                      min_impurity_split=None, min_samples_leaf=1,\n",
       "                      min_samples_split=2, min_weight_fraction_leaf=0.0,\n",
       "                      n_estimators=10, n_jobs=None, oob_score=False,\n",
       "                      random_state=0, verbose=0, warm_start=False)"
      ]
     },
     "execution_count": 34,
     "metadata": {},
     "output_type": "execute_result"
    }
   ],
   "source": [
    "# Fitting Random Forest Regression to the dataset\n",
    "from sklearn.ensemble import RandomForestRegressor\n",
    "regressor = RandomForestRegressor(n_estimators = 10, random_state = 0)\n",
    "regressor.fit(X, y)"
   ]
  },
  {
   "cell_type": "code",
   "execution_count": 35,
   "metadata": {
    "ExecuteTime": {
     "end_time": "2020-01-04T02:32:53.874626Z",
     "start_time": "2020-01-04T02:32:53.865176Z"
    }
   },
   "outputs": [],
   "source": [
    "# Predicting a new result\n",
    "y_pred = regressor.predict([[6.5]])"
   ]
  },
  {
   "cell_type": "code",
   "execution_count": 36,
   "metadata": {
    "ExecuteTime": {
     "end_time": "2020-01-04T02:32:56.492783Z",
     "start_time": "2020-01-04T02:32:56.195486Z"
    }
   },
   "outputs": [
    {
     "data": {
      "image/png": "[encoded data removed]",
      "text/plain": [
       "<Figure size 576x396 with 1 Axes>"
      ]
     },
     "metadata": {},
     "output_type": "display_data"
    }
   ],
   "source": [
    "# Visualising the Random Forest Regression results (higher resolution)\n",
    "X_grid = np.arange(min(X), max(X), 0.01)\n",
    "X_grid = X_grid.reshape((len(X_grid), 1))\n",
    "plt.scatter(X, y, color = 'red')\n",
    "plt.plot(X_grid, regressor.predict(X_grid), color = 'blue')\n",
    "plt.title('Truth or Bluff (Random Forest Regression)')\n",
    "plt.xlabel('Position level')\n",
    "plt.ylabel('Salary')\n",
    "plt.show()"
   ]
  },
  {
   "cell_type": "markdown",
   "metadata": {},
   "source": [
    "## Questions English ML-AZ Random Forest Regression\n",
    "\n",
    "### Random Forest Regression Intuition\n",
    "\n",
    "What is the advantage and drawback of Random Forests compared to Decision Trees? \n",
    "\n",
    "Advantage: Random Forests can give you a better predictive power than Decision Trees.\n",
    "Drawback: Decision Tree will give you more interpretability than Random Forests, because you can plot the\n",
    "graph of a Decision Tree to see the different splits leading to the prediction, as seen in the Intuition Lecture.\n",
    "That’s something you can’t do with Random Forests.\n",
    "\n",
    "When to use Random Forest and when to use the other models?\n",
    "\n",
    "The best answer to that question is: try them all!\n",
    "Indeed, thanks to the templates it will only take you 10 minutes to try all the models, which is very little\n",
    "compared to the time dedicated to the other parts of a data science project (like Data Preprocessing for\n",
    "example). So just don’t be scared to try all the regression models and compare the results (through cross\n",
    "validation which we will see in Part 10). That’s we gave you the maximum models in this course for you to\n",
    "have in your toolkit and increase your chance of getting better results.\n",
    "However then, if you want some shortcuts, here are some rules of thumbs to help you decide which model to\n",
    "use:\n",
    "First, you need to figure out whether your problem is linear or non linear. You will learn how to do that in\n",
    "Part 10 - Model Selection. Then: If your problem is linear, you should go for Simple Linear Regression if\n",
    "you only have one feature, and Multiple Linear Regression if you have several features.\n",
    "If your problem is non linear, you should go for Polynomial Regression, SVR, Decision Tree or Random\n",
    "Forest. Then which one should you choose among these four? That you will learn in Part 10 - Model\n",
    "Selection. The method consists of using a very relevant technique that evaluates your models performance,\n",
    "called k-Fold Cross Validation, and then picking the model that shows the best results. Feel free to jump\n",
    "directly to Part 10 if you already want to learn how to do that.\n",
    "\n",
    "### Random Forest Regression in Python\n",
    "\n",
    "How do I know how many trees I should use?\n",
    "\n",
    "First, I would recommend to choose the number of trees by experimenting. It usually takes less time than\n",
    "we think to figure out a best value by tweaking and tuning your model manually. That’s actually what we\n",
    "do in general when we build a Machine Learning model: we do it in several shots, by experimenting several\n",
    "values of hyperparameters like the number of trees. However, also know that in Part 10 we will cover k-Fold\n",
    "Cross Validation and Grid Search, which are powerful techniques that you can use to find the optimal value\n",
    "of a hyperparameter, like here the number of trees."
   ]
  },
  {
   "cell_type": "code",
   "execution_count": null,
   "metadata": {},
   "outputs": [],
   "source": []
  }
 ],
 "metadata": {
  "kernelspec": {
   "display_name": "Python 3",
   "language": "python",
   "name": "python3"
  },
  "language_info": {
   "codemirror_mode": {
    "name": "ipython",
    "version": 3
   },
   "file_extension": ".py",
   "mimetype": "text/x-python",
   "name": "python",
   "nbconvert_exporter": "python",
   "pygments_lexer": "ipython3",
   "version": "3.7.5"
  }
 },
 "nbformat": 4,
 "nbformat_minor": 2
}
