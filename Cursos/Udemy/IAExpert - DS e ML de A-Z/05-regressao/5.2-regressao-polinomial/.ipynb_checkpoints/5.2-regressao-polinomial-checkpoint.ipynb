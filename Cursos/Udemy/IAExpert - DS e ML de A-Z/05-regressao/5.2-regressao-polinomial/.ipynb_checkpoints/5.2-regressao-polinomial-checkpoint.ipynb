{
 "cells": [
  {
   "cell_type": "markdown",
   "metadata": {},
   "source": [
    "# Regressão Linear Polinomial\n",
    "\n",
    "Para problemas não-linearmente separáveis\n",
    "\n",
    "````\n",
    "Capítulo 7 (Polynomial Regression Models) do livro Introduction to Linear Regression Analysis de G. Geoffrey Vining, Elizabeth A. Peck e Douglas C. Montgomery: mostra bastante sobre a teoria da regressão polinomial\n",
    "````"
   ]
  },
  {
   "cell_type": "code",
   "execution_count": 1,
   "metadata": {
    "ExecuteTime": {
     "end_time": "2020-01-03T15:21:28.639578Z",
     "start_time": "2020-01-03T15:21:15.277822Z"
    }
   },
   "outputs": [],
   "source": [
    "import pandas as pd\n",
    "import numpy as np\n",
    "import matplotlib.pyplot as plt\n",
    "file_path = \"../../files/\""
   ]
  },
  {
   "cell_type": "markdown",
   "metadata": {},
   "source": [
    "## Comparando Polinomiale Simples em `plano_saude2.csv`"
   ]
  },
  {
   "cell_type": "code",
   "execution_count": 32,
   "metadata": {
    "ExecuteTime": {
     "end_time": "2020-01-03T15:41:59.350083Z",
     "start_time": "2020-01-03T15:41:59.327332Z"
    }
   },
   "outputs": [
    {
     "data": {
      "text/html": [
       "<div>\n",
       "<style scoped>\n",
       "    .dataframe tbody tr th:only-of-type {\n",
       "        vertical-align: middle;\n",
       "    }\n",
       "\n",
       "    .dataframe tbody tr th {\n",
       "        vertical-align: top;\n",
       "    }\n",
       "\n",
       "    .dataframe thead th {\n",
       "        text-align: right;\n",
       "    }\n",
       "</style>\n",
       "<table border=\"1\" class=\"dataframe\">\n",
       "  <thead>\n",
       "    <tr style=\"text-align: right;\">\n",
       "      <th></th>\n",
       "      <th>idade</th>\n",
       "      <th>custo</th>\n",
       "    </tr>\n",
       "  </thead>\n",
       "  <tbody>\n",
       "    <tr>\n",
       "      <th>0</th>\n",
       "      <td>18</td>\n",
       "      <td>470</td>\n",
       "    </tr>\n",
       "    <tr>\n",
       "      <th>1</th>\n",
       "      <td>23</td>\n",
       "      <td>520</td>\n",
       "    </tr>\n",
       "    <tr>\n",
       "      <th>2</th>\n",
       "      <td>28</td>\n",
       "      <td>630</td>\n",
       "    </tr>\n",
       "    <tr>\n",
       "      <th>3</th>\n",
       "      <td>33</td>\n",
       "      <td>830</td>\n",
       "    </tr>\n",
       "    <tr>\n",
       "      <th>4</th>\n",
       "      <td>38</td>\n",
       "      <td>1150</td>\n",
       "    </tr>\n",
       "  </tbody>\n",
       "</table>\n",
       "</div>"
      ],
      "text/plain": [
       "   idade  custo\n",
       "0     18    470\n",
       "1     23    520\n",
       "2     28    630\n",
       "3     33    830\n",
       "4     38   1150"
      ]
     },
     "execution_count": 32,
     "metadata": {},
     "output_type": "execute_result"
    }
   ],
   "source": [
    "base = pd.read_csv(file_path + 'plano_saude2.csv')\n",
    "base.head()"
   ]
  },
  {
   "cell_type": "code",
   "execution_count": 33,
   "metadata": {
    "ExecuteTime": {
     "end_time": "2020-01-03T15:42:00.242064Z",
     "start_time": "2020-01-03T15:42:00.234346Z"
    }
   },
   "outputs": [],
   "source": [
    "X = base.iloc[:, 0:1].values\n",
    "y = base.iloc[:, 1].values"
   ]
  },
  {
   "cell_type": "markdown",
   "metadata": {},
   "source": [
    "### Regressão Simples"
   ]
  },
  {
   "cell_type": "code",
   "execution_count": 34,
   "metadata": {
    "ExecuteTime": {
     "end_time": "2020-01-03T15:42:01.578236Z",
     "start_time": "2020-01-03T15:42:01.561986Z"
    }
   },
   "outputs": [
    {
     "data": {
      "text/plain": [
       "array([2463.18787879])"
      ]
     },
     "execution_count": 34,
     "metadata": {},
     "output_type": "execute_result"
    }
   ],
   "source": [
    "from sklearn.linear_model import LinearRegression\n",
    "regressor1 = LinearRegression()\n",
    "regressor1.fit(X, y)"
   ]
  },
  {
   "cell_type": "code",
   "execution_count": 35,
   "metadata": {
    "ExecuteTime": {
     "end_time": "2020-01-03T15:42:02.008091Z",
     "start_time": "2020-01-03T15:42:02.000027Z"
    }
   },
   "outputs": [
    {
     "name": "stdout",
     "output_type": "stream",
     "text": [
      "Score da Linear: 0.6722701203412687\n"
     ]
    }
   ],
   "source": [
    "print(\"Score da Linear:\", regressor1.score(X, y))"
   ]
  },
  {
   "cell_type": "code",
   "execution_count": 36,
   "metadata": {
    "ExecuteTime": {
     "end_time": "2020-01-03T15:42:22.969305Z",
     "start_time": "2020-01-03T15:42:22.955598Z"
    }
   },
   "outputs": [
    {
     "data": {
      "text/plain": [
       "array([2463.18787879])"
      ]
     },
     "execution_count": 36,
     "metadata": {},
     "output_type": "execute_result"
    }
   ],
   "source": [
    "# Predizer o Custo para uma pessoa de 40 anos\n",
    "regressor1.predict(np.array(40).reshape(1, -1)) # R$ 2.463,00"
   ]
  },
  {
   "cell_type": "code",
   "execution_count": 9,
   "metadata": {
    "ExecuteTime": {
     "end_time": "2020-01-03T15:24:48.440839Z",
     "start_time": "2020-01-03T15:24:47.966669Z"
    }
   },
   "outputs": [
    {
     "data": {
      "text/plain": [
       "Text(0, 0.5, 'Custo')"
      ]
     },
     "execution_count": 9,
     "metadata": {},
     "output_type": "execute_result"
    },
    {
     "data": {
      "image/png": "[encoded data removed]",
      "text/plain": [
       "<Figure size 432x288 with 1 Axes>"
      ]
     },
     "metadata": {
      "needs_background": "light"
     },
     "output_type": "display_data"
    }
   ],
   "source": [
    "# Plotando gráfico da Regressão Linear\n",
    "import matplotlib.pyplot as plt\n",
    "plt.scatter(X, y)\n",
    "plt.plot(X, regressor1.predict(X), color = 'red')\n",
    "plt.title('Regressão linear')\n",
    "plt.xlabel('Idade')\n",
    "plt.ylabel('Custo')"
   ]
  },
  {
   "cell_type": "markdown",
   "metadata": {},
   "source": [
    "### Regressão Polinomial\n",
    "\n",
    "A regressão Polinomail será \n",
    "\n",
    "**GERAR MAIS FEATURES POLINOMIAIS** para isso usamos `PolynomialFeatures`"
   ]
  },
  {
   "cell_type": "code",
   "execution_count": 37,
   "metadata": {
    "ExecuteTime": {
     "end_time": "2020-01-03T15:45:45.624697Z",
     "start_time": "2020-01-03T15:45:45.609462Z"
    }
   },
   "outputs": [
    {
     "data": {
      "text/plain": [
       "array([1.00000e+00, 1.80000e+01, 3.24000e+02, 5.83200e+03, 1.04976e+05])"
      ]
     },
     "execution_count": 37,
     "metadata": {},
     "output_type": "execute_result"
    }
   ],
   "source": [
    "from sklearn.preprocessing import PolynomialFeatures\n",
    "poly = PolynomialFeatures(degree = 4) # Elevar até a 4\n",
    "X_poly = poly.fit_transform(X)\n",
    "X_poly[0] \n",
    "# Perceba que agora tem x^0 , x^1, x^2, x^3, x^4\n",
    "# x^0 :: constante, depdendneo da lib usada, ode ser útil, entâo deixamos"
   ]
  },
  {
   "cell_type": "markdown",
   "metadata": {
    "ExecuteTime": {
     "end_time": "2020-01-03T16:17:42.041465Z",
     "start_time": "2020-01-03T16:17:42.034475Z"
    }
   },
   "source": [
    "Com mais features polinomiais, aplicamos **O MESMO LinearRegression**"
   ]
  },
  {
   "cell_type": "code",
   "execution_count": 39,
   "metadata": {
    "ExecuteTime": {
     "end_time": "2020-01-03T16:18:05.724904Z",
     "start_time": "2020-01-03T16:18:05.711609Z"
    }
   },
   "outputs": [
    {
     "data": {
      "text/plain": [
       "LinearRegression(copy_X=True, fit_intercept=True, n_jobs=None, normalize=False)"
      ]
     },
     "execution_count": 39,
     "metadata": {},
     "output_type": "execute_result"
    }
   ],
   "source": [
    "regressor2 = LinearRegression()\n",
    "regressor2.fit(X_poly, y)"
   ]
  },
  {
   "cell_type": "code",
   "execution_count": 40,
   "metadata": {
    "ExecuteTime": {
     "end_time": "2020-01-03T16:18:06.095012Z",
     "start_time": "2020-01-03T16:18:06.086864Z"
    }
   },
   "outputs": [
    {
     "name": "stdout",
     "output_type": "stream",
     "text": [
      "Score da Polinomial: 0.997649414732199\n"
     ]
    }
   ],
   "source": [
    "print(\"Score da Polinomial:\", regressor2.score(X_poly, y))"
   ]
  },
  {
   "cell_type": "code",
   "execution_count": 45,
   "metadata": {
    "ExecuteTime": {
     "end_time": "2020-01-03T17:20:01.033864Z",
     "start_time": "2020-01-03T17:20:01.019162Z"
    }
   },
   "outputs": [
    {
     "name": "stdout",
     "output_type": "stream",
     "text": [
      "[[40]]\n",
      "Valor 40 tranformado em x^0, x^1, x^2, x^3\n",
      " [[1.00e+00 4.00e+01 1.60e+03 6.40e+04 2.56e+06]]\n"
     ]
    }
   ],
   "source": [
    "# Exemplo da criação de features\n",
    "valor_40 = np.array(40).reshape(1, -1)\n",
    "print(valor_40)\n",
    "example_poly = poly.fit_transform(np.array(40).reshape(1, -1))\n",
    "print(\"Valor 40 tranformado em x^0, x^1, x^2, x^3\\n\", example_poly)"
   ]
  },
  {
   "cell_type": "code",
   "execution_count": null,
   "metadata": {},
   "outputs": [],
   "source": [
    "# Predizer o Custo para uma pessoa de 40 anos\n",
    "regressor2.predict(poly.transform(np.array(40).reshape(1, -1)))"
   ]
  },
  {
   "cell_type": "code",
   "execution_count": 14,
   "metadata": {
    "ExecuteTime": {
     "end_time": "2020-01-03T15:26:02.271891Z",
     "start_time": "2020-01-03T15:26:01.949521Z"
    }
   },
   "outputs": [
    {
     "data": {
      "text/plain": [
       "Text(0, 0.5, 'Custo')"
      ]
     },
     "execution_count": 14,
     "metadata": {},
     "output_type": "execute_result"
    },
    {
     "data": {
      "image/png": "[encoded data removed]",
      "text/plain": [
       "<Figure size 432x288 with 1 Axes>"
      ]
     },
     "metadata": {
      "needs_background": "light"
     },
     "output_type": "display_data"
    }
   ],
   "source": [
    "plt.scatter(X, y)\n",
    "plt.plot(X, regressor2.predict(poly.fit_transform(X)), color = 'red')\n",
    "plt.title('Regressão polinomial')\n",
    "plt.xlabel('Idade')\n",
    "plt.ylabel('Custo')"
   ]
  },
  {
   "cell_type": "markdown",
   "metadata": {},
   "source": [
    "## Regresão Polinomial `house_price`"
   ]
  },
  {
   "cell_type": "code",
   "execution_count": 18,
   "metadata": {
    "ExecuteTime": {
     "end_time": "2020-01-03T15:30:09.429875Z",
     "start_time": "2020-01-03T15:30:09.290685Z"
    }
   },
   "outputs": [],
   "source": [
    "base = pd.read_csv(file_path + 'house-prices.csv')\n",
    "\n",
    "X = base.iloc[:, 3:19].values\n",
    "y = base.iloc[:, 2].values\n",
    "\n",
    "from sklearn.model_selection import train_test_split\n",
    "X_treinamento, X_teste, y_treinamento, y_teste = train_test_split(\n",
    "    X, y, test_size = 0.3, random_state = 0)"
   ]
  },
  {
   "cell_type": "code",
   "execution_count": 19,
   "metadata": {
    "ExecuteTime": {
     "end_time": "2020-01-03T15:30:26.299865Z",
     "start_time": "2020-01-03T15:30:26.216743Z"
    }
   },
   "outputs": [],
   "source": [
    "from sklearn.preprocessing import PolynomialFeatures\n",
    "poly = PolynomialFeatures(degree = 2)\n",
    "X_treinamento_poly = poly.fit_transform(X_treinamento)\n",
    "X_teste_poly = poly.transform(X_teste)"
   ]
  },
  {
   "cell_type": "code",
   "execution_count": 20,
   "metadata": {
    "ExecuteTime": {
     "end_time": "2020-01-03T15:30:41.975745Z",
     "start_time": "2020-01-03T15:30:41.447663Z"
    }
   },
   "outputs": [
    {
     "data": {
      "text/plain": [
       "0.817934723341486"
      ]
     },
     "execution_count": 20,
     "metadata": {},
     "output_type": "execute_result"
    }
   ],
   "source": [
    "from sklearn.linear_model import LinearRegression\n",
    "regressor = LinearRegression()\n",
    "regressor.fit(X_treinamento_poly, y_treinamento)\n",
    "previsoes = regressor.predict(X_teste_poly)\n",
    "score = regressor.score(X_treinamento_poly, y_treinamento)\n",
    "score"
   ]
  },
  {
   "cell_type": "code",
   "execution_count": 21,
   "metadata": {
    "ExecuteTime": {
     "end_time": "2020-01-03T15:30:49.953591Z",
     "start_time": "2020-01-03T15:30:49.947193Z"
    }
   },
   "outputs": [],
   "source": [
    "from sklearn.metrics import mean_absolute_error\n",
    "mae = mean_absolute_error(y_teste, previsoes)"
   ]
  },
  {
   "cell_type": "markdown",
   "metadata": {},
   "source": [
    "## Polinomyal Line Regression English ML-AZ"
   ]
  },
  {
   "cell_type": "code",
   "execution_count": 22,
   "metadata": {
    "ExecuteTime": {
     "end_time": "2020-01-03T15:32:21.568274Z",
     "start_time": "2020-01-03T15:32:21.549180Z"
    }
   },
   "outputs": [
    {
     "data": {
      "text/plain": [
       "'from sklearn.preprocessing import StandardScaler\\nsc_X = StandardScaler()\\nX_train = sc_X.fit_transform(X_train)\\nX_test = sc_X.transform(X_test)'"
      ]
     },
     "execution_count": 22,
     "metadata": {},
     "output_type": "execute_result"
    }
   ],
   "source": [
    "# Importing the dataset\n",
    "dataset = pd.read_csv(file_path + 'Position_Salaries.csv')\n",
    "X = dataset.iloc[:, 1:2].values\n",
    "y = dataset.iloc[:, 2].values\n",
    "\n",
    "# Splitting the dataset into the Training set and Test set\n",
    "\"\"\"from sklearn.model_selection import train_test_split\n",
    "X_train, X_test, y_train, y_test = train_test_split(X, y, test_size = 0.2, random_state = 0)\"\"\"\n",
    "\n",
    "# Feature Scaling\n",
    "\"\"\"from sklearn.preprocessing import StandardScaler\n",
    "sc_X = StandardScaler()\n",
    "X_train = sc_X.fit_transform(X_train)\n",
    "X_test = sc_X.transform(X_test)\"\"\"\n"
   ]
  },
  {
   "cell_type": "code",
   "execution_count": 23,
   "metadata": {
    "ExecuteTime": {
     "end_time": "2020-01-03T15:32:39.939740Z",
     "start_time": "2020-01-03T15:32:39.874130Z"
    }
   },
   "outputs": [
    {
     "data": {
      "text/plain": [
       "LinearRegression(copy_X=True, fit_intercept=True, n_jobs=None, normalize=False)"
      ]
     },
     "execution_count": 23,
     "metadata": {},
     "output_type": "execute_result"
    }
   ],
   "source": [
    "# Fitting Linear Regression to the dataset\n",
    "from sklearn.linear_model import LinearRegression\n",
    "lin_reg = LinearRegression()\n",
    "lin_reg.fit(X, y)\n",
    "\n",
    "# Fitting Polynomial Regression to the dataset\n",
    "from sklearn.preprocessing import PolynomialFeatures\n",
    "poly_reg = PolynomialFeatures(degree = 4)\n",
    "X_poly = poly_reg.fit_transform(X)\n",
    "poly_reg.fit(X_poly, y)\n",
    "lin_reg_2 = LinearRegression()\n",
    "lin_reg_2.fit(X_poly, y)"
   ]
  },
  {
   "cell_type": "code",
   "execution_count": 24,
   "metadata": {
    "ExecuteTime": {
     "end_time": "2020-01-03T15:32:45.453516Z",
     "start_time": "2020-01-03T15:32:45.103015Z"
    }
   },
   "outputs": [
    {
     "data": {
      "image/png": "[encoded data removed]",
      "text/plain": [
       "<Figure size 576x396 with 1 Axes>"
      ]
     },
     "metadata": {},
     "output_type": "display_data"
    }
   ],
   "source": [
    "# Visualising the Linear Regression results\n",
    "plt.scatter(X, y, color = 'red')\n",
    "plt.plot(X, lin_reg.predict(X), color = 'blue')\n",
    "plt.title('Truth or Bluff (Linear Regression)')\n",
    "plt.xlabel('Position level')\n",
    "plt.ylabel('Salary')\n",
    "plt.show()"
   ]
  },
  {
   "cell_type": "code",
   "execution_count": 25,
   "metadata": {
    "ExecuteTime": {
     "end_time": "2020-01-03T15:32:51.586493Z",
     "start_time": "2020-01-03T15:32:51.296616Z"
    }
   },
   "outputs": [
    {
     "data": {
      "image/png": "[encoded data removed]",
      "text/plain": [
       "<Figure size 576x396 with 1 Axes>"
      ]
     },
     "metadata": {},
     "output_type": "display_data"
    }
   ],
   "source": [
    "# Visualising the Polynomial Regression results\n",
    "plt.scatter(X, y, color = 'red')\n",
    "plt.plot(X, lin_reg_2.predict(poly_reg.fit_transform(X)), color = 'blue')\n",
    "plt.title('Truth or Bluff (Polynomial Regression)')\n",
    "plt.xlabel('Position level')\n",
    "plt.ylabel('Salary')\n",
    "plt.show()"
   ]
  },
  {
   "cell_type": "code",
   "execution_count": 26,
   "metadata": {
    "ExecuteTime": {
     "end_time": "2020-01-03T15:32:57.811591Z",
     "start_time": "2020-01-03T15:32:57.515205Z"
    }
   },
   "outputs": [
    {
     "data": {
      "image/png": "[encoded data removed]",
      "text/plain": [
       "<Figure size 576x396 with 1 Axes>"
      ]
     },
     "metadata": {},
     "output_type": "display_data"
    }
   ],
   "source": [
    "# Visualising the Polynomial Regression results (for higher resolution and smoother curve)\n",
    "X_grid = np.arange(min(X), max(X), 0.1)\n",
    "X_grid = X_grid.reshape((len(X_grid), 1))\n",
    "plt.scatter(X, y, color = 'red')\n",
    "plt.plot(X_grid, lin_reg_2.predict(poly_reg.fit_transform(X_grid)), color = 'blue')\n",
    "plt.title('Truth or Bluff (Polynomial Regression)')\n",
    "plt.xlabel('Position level')\n",
    "plt.ylabel('Salary')\n",
    "plt.show()"
   ]
  },
  {
   "cell_type": "code",
   "execution_count": 28,
   "metadata": {
    "ExecuteTime": {
     "end_time": "2020-01-03T15:33:14.084244Z",
     "start_time": "2020-01-03T15:33:14.074026Z"
    }
   },
   "outputs": [
    {
     "data": {
      "text/plain": [
       "array([330378.78787879])"
      ]
     },
     "execution_count": 28,
     "metadata": {},
     "output_type": "execute_result"
    }
   ],
   "source": [
    "# Predicting a new result with Linear Regression\n",
    "lin_reg.predict([[6.5]])"
   ]
  },
  {
   "cell_type": "code",
   "execution_count": 29,
   "metadata": {
    "ExecuteTime": {
     "end_time": "2020-01-03T15:33:14.661861Z",
     "start_time": "2020-01-03T15:33:14.653762Z"
    }
   },
   "outputs": [
    {
     "data": {
      "text/plain": [
       "array([158862.4526516])"
      ]
     },
     "execution_count": 29,
     "metadata": {},
     "output_type": "execute_result"
    }
   ],
   "source": [
    "# Predicting a new result with Polynomial Regression\n",
    "lin_reg_2.predict(poly_reg.fit_transform([[6.5]]))"
   ]
  },
  {
   "cell_type": "markdown",
   "metadata": {},
   "source": [
    "## Questions  Polynomial Regression English ML-AZ\n",
    "\n",
    "### Polynomial Regression Intuition\n",
    "\n",
    "Is Polynomial Regression a linear or non linear model?\n",
    "\n",
    "That depends on what you are referring to. Polynomial Regression is linear on the coefficients since we don’t\n",
    "have any power of the coefficients (all the coefficients are raised to the power of 1: b 0 , b 1 , ..., b n ). However, Polynomial Regression is a non linear function of the input x, since we have the inputs raised to several\n",
    "powers: x (power 1), x 2 (power 2), ..., x n (power n). That is how we can also see the Polynomial Regression\n",
    "as a non linear model. Besides indeed, Polynomial Regression is appropriate when the data is non linearly\n",
    "distributed (meaning you can’t fit a straight line between y and x).\n",
    "\n",
    "### Polynomial Regression in Python\n",
    "\n",
    "Why didn’t we apply Feature Scaling in our Polynomial Regression model?\n",
    "\n",
    "It’s simply because, since y is a linear combination of x and x 2 , the coefficients can adapt their scale to put\n",
    "everything on the same scale. For example if y takes values between 0 and 1, x takes values between 1 and\n",
    "10 and x 2 takes values between 1 and 100, then b 1 can be multiplied by 0.1 and b 2 can be multiplied by 0.01\n",
    "so that y, b 1 x 1 and b 2 x 2 are all on the same scale.\n",
    "\n",
    "How do we find the best degree?\n",
    "\n",
    "The main form of finding a good fit is to plot the model and see what it looks like visually. You simply\n",
    "test several degrees and you see which one gives you the best fit. The other option is to find the lowest\n",
    "root-mean-square error (RMSE) for your model, but in that case be careful not to overfit the data.\n",
    "\n",
    "Why did we have to create a second linear regressor ’lin_reg_2’ ? Could we not have used\n",
    "’lin_reg’ directly?\n",
    "\n",
    "No, because ’lin_reg’ is already fitted to X and y and now we want to fit a new linear model to X p oly and\n",
    "y. So we have to create a new regressor object. One must important that the fit method here finds the\n",
    "coefficient between the independent variables and the dependent variable. Therefore since ’lin_reg’ already\n",
    "got the coefficients of correlation between X and y, ’lin_reg_2’ has to be created to get some new coefficients\n",
    "of correlations between X p oly and y."
   ]
  }
 ],
 "metadata": {
  "kernelspec": {
   "display_name": "Python 3",
   "language": "python",
   "name": "python3"
  },
  "language_info": {
   "codemirror_mode": {
    "name": "ipython",
    "version": 3
   },
   "file_extension": ".py",
   "mimetype": "text/x-python",
   "name": "python",
   "nbconvert_exporter": "python",
   "pygments_lexer": "ipython3",
   "version": "3.7.5"
  }
 },
 "nbformat": 4,
 "nbformat_minor": 2
}
