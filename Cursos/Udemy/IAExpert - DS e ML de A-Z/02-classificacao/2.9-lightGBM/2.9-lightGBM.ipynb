{
 "cells": [
  {
   "cell_type": "markdown",
   "metadata": {},
   "source": [
    "# LightGBM para Classificar\n",
    "Semelhante ao `XGBoost` que pode ter um resultado tão bom quanto ele.\n",
    "\n",
    "Links:\n",
    "+ [analyticsvidhya](https://www.analyticsvidhya.com/blog/2017/06/which-algorithm-takes-the-crown-light-gbm-vs-xgboost/)\n",
    "+ [official doc](https://lightgbm.readthedocs.io/en/latest/index.html)\n",
    "+ [medium article 1](https://medium.com/@pushkarmandot/https-medium-com-pushkarmandot-what-is-lightgbm-how-to-implement-it-how-to-fine-tune-the-parameters-60347819b7fc)\n",
    "+ [medium article 2 - towardsdatascience](https://towardsdatascience.com/lightgbm-vs-xgboost-which-algorithm-win-the-race-1ff7dd4917d)\n",
    "+ [paper 1](https://papers.nips.cc/paper/6907-lightgbm-a-highly-efficient-gradient-boosting-decision-tree.pdf)\n",
    "+ [example classifier](https://www.programcreek.com/python/example/88793/lightgbm.LGBMClassifier)"
   ]
  },
  {
   "cell_type": "code",
   "execution_count": 42,
   "metadata": {
    "ExecuteTime": {
     "end_time": "2020-01-10T14:29:03.417299Z",
     "start_time": "2020-01-10T14:29:03.409467Z"
    }
   },
   "outputs": [],
   "source": [
    "# Importing the libraries\n",
    "import numpy as np\n",
    "import matplotlib.pyplot as plt\n",
    "import pandas as pd\n",
    "from sklearn.metrics import confusion_matrix, accuracy_score, classification_report\n",
    "\n",
    "file_path = \"../../files/\""
   ]
  },
  {
   "cell_type": "code",
   "execution_count": 6,
   "metadata": {
    "ExecuteTime": {
     "end_time": "2020-01-10T13:29:41.232651Z",
     "start_time": "2020-01-10T13:29:40.559523Z"
    }
   },
   "outputs": [],
   "source": [
    "# Importing the dataset\n",
    "dataset = pd.read_csv(file_path + 'Social_Network_Ads.csv')\n",
    "X = dataset.iloc[:, [2, 3]].values\n",
    "y = dataset.iloc[:, 4].values\n",
    "\n",
    "# Splitting the dataset into the Training set and Test set\n",
    "from sklearn.model_selection import train_test_split\n",
    "X_train, X_test, y_train, y_test = train_test_split(X, y, test_size = 0.25, random_state = 0)\n",
    "\n",
    "# Feature Scaling\n",
    "from sklearn.preprocessing import StandardScaler\n",
    "sc = StandardScaler()\n",
    "X_train = sc.fit_transform(X_train)\n",
    "X_test = sc.transform(X_test)"
   ]
  },
  {
   "cell_type": "code",
   "execution_count": 30,
   "metadata": {
    "ExecuteTime": {
     "end_time": "2020-01-10T14:12:17.883843Z",
     "start_time": "2020-01-10T14:11:33.689498Z"
    }
   },
   "outputs": [
    {
     "name": "stdout",
     "output_type": "stream",
     "text": [
      "Fitting 5 folds for each of 288 candidates, totalling 1440 fits\n"
     ]
    },
    {
     "name": "stderr",
     "output_type": "stream",
     "text": [
      "[Parallel(n_jobs=-1)]: Using backend LokyBackend with 4 concurrent workers.\n",
      "[Parallel(n_jobs=-1)]: Done  42 tasks      | elapsed:    3.3s\n",
      "[Parallel(n_jobs=-1)]: Done 340 tasks      | elapsed:   11.1s\n",
      "[Parallel(n_jobs=-1)]: Done 840 tasks      | elapsed:   24.4s\n",
      "[Parallel(n_jobs=-1)]: Done 1433 out of 1440 | elapsed:   43.9s remaining:    0.2s\n",
      "[Parallel(n_jobs=-1)]: Done 1440 out of 1440 | elapsed:   44.1s finished\n"
     ]
    },
    {
     "data": {
      "text/plain": [
       "GridSearchCV(cv=5, error_score=nan,\n",
       "             estimator=LGBMClassifier(boosting_type='gbdt', class_weight=None,\n",
       "                                      colsample_bytree=1.0,\n",
       "                                      importance_type='split',\n",
       "                                      learning_rate=0.1, max_depth=-1,\n",
       "                                      min_child_samples=20,\n",
       "                                      min_child_weight=0.001,\n",
       "                                      min_split_gain=0.0, n_estimators=100,\n",
       "                                      n_jobs=-1, num_leaves=31,\n",
       "                                      objective='binary', random_state=None,\n",
       "                                      reg_alpha=0.0, reg_lambda=0.0,\n",
       "                                      silent...\n",
       "                                      subsample_for_bin=200000,\n",
       "                                      subsample_freq=0),\n",
       "             iid='deprecated', n_jobs=-1,\n",
       "             param_grid={'bagging_fraction': [0.8, 0.9], 'bagging_freq': [1, 3],\n",
       "                         'feature_fraction': [0.8, 0.9],\n",
       "                         'learning_rate': [0.01, 0.1],\n",
       "                         'min_child_samples': [20, 40, 60],\n",
       "                         'n_estimators': [100, 300],\n",
       "                         'num_leaves': [10, 30, 50]},\n",
       "             pre_dispatch='2*n_jobs', refit=True, return_train_score=False,\n",
       "             scoring=None, verbose=1)"
      ]
     },
     "execution_count": 30,
     "metadata": {},
     "output_type": "execute_result"
    }
   ],
   "source": [
    "import lightgbm as lgb\n",
    "from sklearn.model_selection import GridSearchCV\n",
    "\n",
    "# Tem que informar que o Objetivo é uma classificação binária\n",
    "fit_lgb = lgb.LGBMClassifier(objective='binary')\n",
    "\n",
    "params = {'num_leaves':[10,30,50],\n",
    "         'n_estimators': [100,300],\n",
    "          #'metric': ['l2', 'l1'],\n",
    "          'learning_rate': [0.01,0.1],\n",
    "          'min_child_samples': [20,40,60],\n",
    "          'feature_fraction': [0.8,0.9],\n",
    "          'bagging_fraction': [0.8,0.9],\n",
    "          'bagging_freq': [1,3],\n",
    "         }\n",
    "\n",
    "gbm = GridSearchCV(fit_lgb, params, cv = 5, verbose = 1, n_jobs=-1)\n",
    "gbm.fit(X_train, y_train)"
   ]
  },
  {
   "cell_type": "code",
   "execution_count": 31,
   "metadata": {
    "ExecuteTime": {
     "end_time": "2020-01-10T14:12:34.538359Z",
     "start_time": "2020-01-10T14:12:34.526471Z"
    }
   },
   "outputs": [
    {
     "name": "stdout",
     "output_type": "stream",
     "text": [
      "Best parameters found by grid search are:\n",
      " {'bagging_fraction': 0.9, 'bagging_freq': 3, 'feature_fraction': 0.8, 'learning_rate': 0.01, 'min_child_samples': 40, 'n_estimators': 100, 'num_leaves': 10}\n",
      "\n",
      "Best score:  0.9066666666666666\n"
     ]
    }
   ],
   "source": [
    "print('Best parameters found by grid search are:\\n', gbm.best_params_)\n",
    "\n",
    "print('\\nBest score: ', gbm.best_score_)\n",
    "\n"
   ]
  },
  {
   "cell_type": "code",
   "execution_count": 33,
   "metadata": {
    "ExecuteTime": {
     "end_time": "2020-01-10T14:13:28.262383Z",
     "start_time": "2020-01-10T14:13:28.248417Z"
    }
   },
   "outputs": [
    {
     "data": {
      "text/plain": [
       "{'bagging_fraction': 0.9,\n",
       " 'bagging_freq': 3,\n",
       " 'feature_fraction': 0.8,\n",
       " 'learning_rate': 0.01,\n",
       " 'min_child_samples': 40,\n",
       " 'n_estimators': 100,\n",
       " 'num_leaves': 10,\n",
       " 'boosting_type': 'gbdt',\n",
       " 'objective': 'binary'}"
      ]
     },
     "execution_count": 33,
     "metadata": {},
     "output_type": "execute_result"
    }
   ],
   "source": [
    "best_params = gbm.best_params_\n",
    "best_params['boosting_type'] = 'gbdt'\n",
    "best_params['objective'] = 'binary'\n",
    "best_params"
   ]
  },
  {
   "cell_type": "code",
   "execution_count": 34,
   "metadata": {
    "ExecuteTime": {
     "end_time": "2020-01-10T14:13:53.442896Z",
     "start_time": "2020-01-10T14:13:53.427915Z"
    }
   },
   "outputs": [],
   "source": [
    "# https://lightgbm.readthedocs.io/en/latest/pythonapi/lightgbm.LGBMClassifier.html\n",
    "gbm_tuned = lgb.LGBMClassifier(\n",
    "    bagging_fraction = 0.9,\n",
    "    bagging_freq = 3,\n",
    "    feature_fraction = 0.8,\n",
    "    learning_rate = 0.01,\n",
    "    min_child_samples = 40,\n",
    "    n_estimators = 100,\n",
    "    num_leaves = 10,\n",
    "    objective = 'binary'\n",
    ")"
   ]
  },
  {
   "cell_type": "code",
   "execution_count": 35,
   "metadata": {
    "ExecuteTime": {
     "end_time": "2020-01-10T14:13:58.816796Z",
     "start_time": "2020-01-10T14:13:58.708713Z"
    }
   },
   "outputs": [
    {
     "data": {
      "text/plain": [
       "LGBMClassifier(bagging_fraction=0.9, bagging_freq=3, boosting_type='gbdt',\n",
       "               class_weight=None, colsample_bytree=1.0, feature_fraction=0.8,\n",
       "               importance_type='split', learning_rate=0.01, max_depth=-1,\n",
       "               min_child_samples=40, min_child_weight=0.001, min_split_gain=0.0,\n",
       "               n_estimators=100, n_jobs=-1, num_leaves=10, objective='binary',\n",
       "               random_state=None, reg_alpha=0.0, reg_lambda=0.0, silent=True,\n",
       "               subsample=1.0, subsample_for_bin=200000, subsample_freq=0)"
      ]
     },
     "execution_count": 35,
     "metadata": {},
     "output_type": "execute_result"
    }
   ],
   "source": [
    "gbm_tuned.fit(X_train, y_train)"
   ]
  },
  {
   "cell_type": "code",
   "execution_count": 41,
   "metadata": {
    "ExecuteTime": {
     "end_time": "2020-01-10T14:28:25.783808Z",
     "start_time": "2020-01-10T14:28:25.740444Z"
    }
   },
   "outputs": [],
   "source": [
    "# Predicting the Test set results\n",
    "y_pred = gbm_tuned.predict(X_test)"
   ]
  },
  {
   "cell_type": "code",
   "execution_count": 44,
   "metadata": {
    "ExecuteTime": {
     "end_time": "2020-01-10T14:29:19.516171Z",
     "start_time": "2020-01-10T14:29:19.029526Z"
    }
   },
   "outputs": [
    {
     "name": "stdout",
     "output_type": "stream",
     "text": [
      "Accuracy: 0.94\n",
      "Confusion Matrix:\n",
      " [[64  4]\n",
      " [ 2 30]]\n",
      "\n",
      "CrossValidation : cv = 10\n",
      "mean 0.9066666666666666\n",
      "std 0.05925462944877058\n",
      "\n",
      "               precision    recall  f1-score   support\n",
      "\n",
      "           0       0.97      0.94      0.96        68\n",
      "           1       0.88      0.94      0.91        32\n",
      "\n",
      "    accuracy                           0.94       100\n",
      "   macro avg       0.93      0.94      0.93       100\n",
      "weighted avg       0.94      0.94      0.94       100\n",
      "\n"
     ]
    }
   ],
   "source": [
    "# Evaluate\n",
    "from sklearn.metrics import accuracy_score, confusion_matrix\n",
    "acc = accuracy_score(y_test, y_pred)\n",
    "print(\"Accuracy:\", acc)\n",
    "cm = confusion_matrix(y_test, y_pred)\n",
    "print(\"Confusion Matrix:\\n\", cm)\n",
    "\n",
    "# Applying Cross Validation\n",
    "from sklearn.model_selection import cross_val_score\n",
    "accuracies = cross_val_score(estimator = gbm_tuned, X = X_train, y = y_train, cv = 10)\n",
    "\n",
    "print(\"\\nCrossValidation : cv = 10\")\n",
    "print(\"mean\", accuracies.mean())\n",
    "print(\"std\", accuracies.std())\n",
    "\n",
    "# Classofy_Report\n",
    "print(\"\\n\", classification_report(y_test, y_pred))"
   ]
  },
  {
   "cell_type": "markdown",
   "metadata": {},
   "source": [
    "|  Modelo/Métrica | Média | DesvioPadrão |\n",
    "| --- | --- | --- |\n",
    "| XGBoost | 0.9033333333333333 | 0.06403124237432847 |\n",
    "| LightGBM | 0.9066666666666666 | 0.05925462944877058 |"
   ]
  },
  {
   "cell_type": "markdown",
   "metadata": {},
   "source": [
    "## Sem Tuning"
   ]
  },
  {
   "cell_type": "code",
   "execution_count": 47,
   "metadata": {
    "ExecuteTime": {
     "end_time": "2020-01-10T14:31:42.753650Z",
     "start_time": "2020-01-10T14:31:42.172450Z"
    }
   },
   "outputs": [
    {
     "name": "stdout",
     "output_type": "stream",
     "text": [
      "Accuracy: 0.91\n",
      "Confusion Matrix:\n",
      " [[64  4]\n",
      " [ 5 27]]\n",
      "\n",
      "CrossValidation : cv = 10\n",
      "mean 0.89\n",
      "std 0.06674994798166929\n",
      "\n",
      "               precision    recall  f1-score   support\n",
      "\n",
      "           0       0.93      0.94      0.93        68\n",
      "           1       0.87      0.84      0.86        32\n",
      "\n",
      "    accuracy                           0.91       100\n",
      "   macro avg       0.90      0.89      0.90       100\n",
      "weighted avg       0.91      0.91      0.91       100\n",
      "\n"
     ]
    }
   ],
   "source": [
    "gbm_not_tuned = lgb.LGBMClassifier()\n",
    "\n",
    "gbm_not_tuned.fit(X_train, y_train)\n",
    "\n",
    "y_pred = gbm_not_tuned.predict(X_test)\n",
    "\n",
    "from sklearn.metrics import confusion_matrix, accuracy_score, classification_report\n",
    "\n",
    "acc = accuracy_score(y_test, y_pred)\n",
    "print(\"Accuracy:\", acc)\n",
    "cm = confusion_matrix(y_test, y_pred)\n",
    "print(\"Confusion Matrix:\\n\", cm)\n",
    "\n",
    "from sklearn.model_selection import cross_val_score\n",
    "accuracies = cross_val_score(estimator = gbm_not_tuned, X = X_train, y = y_train, cv = 10)\n",
    "\n",
    "print()\n",
    "print(\"CrossValidation : cv = 10\")\n",
    "print(\"mean\", accuracies.mean())\n",
    "print(\"std\", accuracies.std())\n",
    "\n",
    "print(\"\\n\", classification_report(y_test, y_pred))"
   ]
  },
  {
   "cell_type": "code",
   "execution_count": null,
   "metadata": {},
   "outputs": [],
   "source": []
  }
 ],
 "metadata": {
  "kernelspec": {
   "display_name": "Python 3",
   "language": "python",
   "name": "python3"
  },
  "language_info": {
   "codemirror_mode": {
    "name": "ipython",
    "version": 3
   },
   "file_extension": ".py",
   "mimetype": "text/x-python",
   "name": "python",
   "nbconvert_exporter": "python",
   "pygments_lexer": "ipython3",
   "version": "3.7.5"
  }
 },
 "nbformat": 4,
 "nbformat_minor": 2
}
