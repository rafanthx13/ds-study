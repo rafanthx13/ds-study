{
 "cells": [
  {
   "cell_type": "markdown",
   "metadata": {},
   "source": [
    "# Redes Neurais\n",
    "\n",
    "Toda a parte teorica está num curso separado.\n",
    "\n",
    "Na parte de English ML-AZ nâo há essa parte, mas eu adaptei o exemplo de classificação\n",
    "\n",
    "Recomedações\n",
    "\n",
    "````\n",
    "Livro Make your Own Neural Network: A gentle journey through the mathematics of neural networks, and making you own using the Python computer language de Tariq Rashid: este livro mostra a matemática envolvida nas redes neurais e também mostra a implementação em Python\n",
    "\n",
    "Livro Fundamental of Neural Networks: Architectures, Algorithms and Applications de Laurene Fausett: este livro apresenta fundamentos teóricos com várias aplicações práticas\n",
    "\n",
    "Livro Machine Learning with Neural Networks: An In-depth Visual Introduction with Python: Make Your Own Neural Network in Python: A Simple Guide on Machine Learning with Neural Networks de Michael Taylor: este é um dos livros mais didáticos sobre redes neurais\n",
    "````"
   ]
  },
  {
   "cell_type": "code",
   "execution_count": 1,
   "metadata": {
    "ExecuteTime": {
     "end_time": "2020-01-02T14:57:31.535448Z",
     "start_time": "2020-01-02T14:57:24.170585Z"
    }
   },
   "outputs": [],
   "source": [
    "import pandas as pd\n",
    "import numpy as np\n",
    "import matplotlib.pyplot as plt\n",
    "file_path = \"../../files/\""
   ]
  },
  {
   "cell_type": "markdown",
   "metadata": {},
   "source": [
    "## Base `credit_data`"
   ]
  },
  {
   "cell_type": "code",
   "execution_count": 2,
   "metadata": {
    "ExecuteTime": {
     "end_time": "2020-01-02T14:58:25.535018Z",
     "start_time": "2020-01-02T14:58:20.685900Z"
    }
   },
   "outputs": [],
   "source": [
    "base = pd.read_csv(file_path + 'credit_data.csv')\n",
    "base.loc[base.age < 0, 'age'] = 40.92\n",
    "               \n",
    "previsores = base.iloc[:, 1:4].values\n",
    "classe = base.iloc[:, 4].values\n",
    "\n",
    "from sklearn.impute import SimpleImputer\n",
    "imputer = SimpleImputer(missing_values = np.nan, strategy = 'mean')\n",
    "imputer = imputer.fit(previsores[:, 1:4])\n",
    "previsores[:, 1:4] = imputer.transform(previsores[:, 1:4])\n",
    "\n",
    "from sklearn.preprocessing import StandardScaler\n",
    "scaler = StandardScaler()\n",
    "previsores = scaler.fit_transform(previsores)\n",
    "\n",
    "from sklearn.model_selection import train_test_split\n",
    "previsores_treinamento, previsores_teste, classe_treinamento, classe_teste = train_test_split(\n",
    "    previsores, classe, test_size=0.25, random_state=0)"
   ]
  },
  {
   "cell_type": "markdown",
   "metadata": {},
   "source": [
    "### Classificador Redes Neurais"
   ]
  },
  {
   "cell_type": "code",
   "execution_count": 12,
   "metadata": {
    "ExecuteTime": {
     "end_time": "2020-01-02T15:08:07.678173Z",
     "start_time": "2020-01-02T15:08:07.668306Z"
    }
   },
   "outputs": [],
   "source": [
    "from sklearn.neural_network import MLPClassifier\n",
    "classificador = MLPClassifier(verbose = True,\n",
    "                          max_iter=1000,\n",
    "                          tol = 0.0000010,\n",
    "                          solver = 'adam',\n",
    "                          hidden_layer_sizes=(100),\n",
    "                          activation='relu')\n",
    "classificador.fit(previsores_treinamento, classe_treinamento)\n",
    "previsoes = classificador.predict(previsores_teste)"
   ]
  },
  {
   "cell_type": "markdown",
   "metadata": {},
   "source": [
    "### Avaliando"
   ]
  },
  {
   "cell_type": "code",
   "execution_count": 4,
   "metadata": {
    "ExecuteTime": {
     "end_time": "2020-01-02T15:00:10.760959Z",
     "start_time": "2020-01-02T15:00:10.728714Z"
    }
   },
   "outputs": [
    {
     "name": "stdout",
     "output_type": "stream",
     "text": [
      "Accuracy\n",
      " 0.996 \n",
      "\n",
      "Matrix de Confusao\n",
      " [[435   1]\n",
      " [  1  63]] \n",
      "\n",
      "Matrix de Confusao Porcentagem\n",
      " [[0.87  0.002]\n",
      " [0.002 0.126]] \n",
      "\n",
      "              precision    recall  f1-score   support\n",
      "\n",
      "           0       1.00      1.00      1.00       436\n",
      "           1       0.98      0.98      0.98        64\n",
      "\n",
      "    accuracy                           1.00       500\n",
      "   macro avg       0.99      0.99      0.99       500\n",
      "weighted avg       1.00      1.00      1.00       500\n",
      "\n"
     ]
    }
   ],
   "source": [
    "from sklearn.metrics import confusion_matrix, accuracy_score, classification_report\n",
    "precisao = accuracy_score(classe_teste, previsoes)\n",
    "matriz = confusion_matrix(classe_teste, previsoes)\n",
    "print(\"Accuracy\\n\", precisao, \"\\n\")\n",
    "print(\"Matrix de Confusao\\n\",matriz, \"\\n\")\n",
    "print(\"Matrix de Confusao Porcentagem\\n\",matriz/matriz.sum(), \"\\n\")\n",
    "print(classification_report(classe_teste,previsoes))"
   ]
  },
  {
   "cell_type": "markdown",
   "metadata": {},
   "source": [
    "## Base `census`"
   ]
  },
  {
   "cell_type": "code",
   "execution_count": 5,
   "metadata": {
    "ExecuteTime": {
     "end_time": "2020-01-02T15:01:12.710236Z",
     "start_time": "2020-01-02T15:01:12.003701Z"
    }
   },
   "outputs": [],
   "source": [
    "base = pd.read_csv(file_path + 'census.csv')\n",
    "\n",
    "previsores = base.iloc[:, 0:14].values\n",
    "classe = base.iloc[:, 14].values\n",
    "                \n",
    "from sklearn.preprocessing import LabelEncoder, OneHotEncoder\n",
    "from sklearn.compose import ColumnTransformer\n",
    "\n",
    "column_tranformer = ColumnTransformer(\n",
    "    [('one_hot_encoder', OneHotEncoder(), [1, 3, 5, 6, 7, 8, 9, 13])],\n",
    "    remainder='passthrough')\n",
    "previsores = column_tranformer.fit_transform(previsores).toarray()\n",
    "\n",
    "labelencorder_classe = LabelEncoder()\n",
    "classe = labelencorder_classe.fit_transform(classe)\n",
    "\n",
    "\n",
    "from sklearn.preprocessing import StandardScaler\n",
    "scaler = StandardScaler()\n",
    "previsores = scaler.fit_transform(previsores)\n",
    "\n",
    "from sklearn.model_selection import train_test_split\n",
    "previsores_treinamento, previsores_teste, classe_treinamento, classe_teste = train_test_split(\n",
    "    previsores, classe, test_size=0.15, random_state=0)"
   ]
  },
  {
   "cell_type": "markdown",
   "metadata": {},
   "source": [
    "### Classificador Redes Neurais"
   ]
  },
  {
   "cell_type": "code",
   "execution_count": 11,
   "metadata": {
    "ExecuteTime": {
     "end_time": "2020-01-02T15:07:55.402992Z",
     "start_time": "2020-01-02T15:07:49.231253Z"
    }
   },
   "outputs": [
    {
     "name": "stdout",
     "output_type": "stream",
     "text": [
      "Iteration 1, loss = 0.36829350\n",
      "Iteration 2, loss = 0.32258083\n",
      "Iteration 3, loss = 0.31301986\n",
      "Iteration 4, loss = 0.30696831\n",
      "Iteration 5, loss = 0.30221291\n",
      "Iteration 6, loss = 0.29987392\n",
      "Iteration 7, loss = 0.29681099\n",
      "Iteration 8, loss = 0.29375126\n",
      "Iteration 9, loss = 0.29175118\n",
      "Iteration 10, loss = 0.29006386\n",
      "Iteration 11, loss = 0.28829255\n",
      "Iteration 12, loss = 0.28595412\n",
      "Iteration 13, loss = 0.28450815\n",
      "Iteration 14, loss = 0.28317018\n",
      "Iteration 15, loss = 0.28182297\n",
      "Iteration 16, loss = 0.28088373\n",
      "logistic\n"
     ]
    },
    {
     "name": "stderr",
     "output_type": "stream",
     "text": [
      "/home/rhavel/anaconda3/lib/python3.7/site-packages/sklearn/neural_network/_multilayer_perceptron.py:573: UserWarning: Training interrupted by user.\n",
      "  warnings.warn(\"Training interrupted by user.\")\n"
     ]
    }
   ],
   "source": [
    "# Alterar para max_iter = 1000\n",
    "from sklearn.neural_network import MLPClassifier\n",
    "classificador = MLPClassifier(verbose = True, max_iter=100, tol=0.000010)\n",
    "classificador.fit(previsores_treinamento, classe_treinamento)\n",
    "previsoes = classificador.predict(previsores_teste)\n",
    "# print(classificador.out_activation_) ## printa as interaçôes e o erro"
   ]
  },
  {
   "cell_type": "markdown",
   "metadata": {},
   "source": [
    "### Avaliando"
   ]
  },
  {
   "cell_type": "code",
   "execution_count": 13,
   "metadata": {
    "ExecuteTime": {
     "end_time": "2020-01-02T15:08:21.573982Z",
     "start_time": "2020-01-02T15:08:21.516257Z"
    }
   },
   "outputs": [
    {
     "name": "stdout",
     "output_type": "stream",
     "text": [
      "Accuracy\n",
      " 0.8454452405322416 \n",
      "\n",
      "Matrix de Confusao\n",
      " [[3375  318]\n",
      " [ 437  755]] \n",
      "\n",
      "Matrix de Confusao Porcentagem\n",
      " [[0.69089048 0.06509724]\n",
      " [0.08945752 0.15455476]] \n",
      "\n",
      "              precision    recall  f1-score   support\n",
      "\n",
      "           0       0.89      0.91      0.90      3693\n",
      "           1       0.70      0.63      0.67      1192\n",
      "\n",
      "    accuracy                           0.85      4885\n",
      "   macro avg       0.79      0.77      0.78      4885\n",
      "weighted avg       0.84      0.85      0.84      4885\n",
      "\n"
     ]
    }
   ],
   "source": [
    "from sklearn.metrics import confusion_matrix, accuracy_score, classification_report\n",
    "precisao = accuracy_score(classe_teste, previsoes)\n",
    "matriz = confusion_matrix(classe_teste, previsoes)\n",
    "print(\"Accuracy\\n\", precisao, \"\\n\")\n",
    "print(\"Matrix de Confusao\\n\",matriz, \"\\n\")\n",
    "print(\"Matrix de Confusao Porcentagem\\n\",matriz/matriz.sum(), \"\\n\")\n",
    "print(classification_report(classe_teste,previsoes))"
   ]
  },
  {
   "cell_type": "markdown",
   "metadata": {
    "ExecuteTime": {
     "end_time": "2020-01-02T15:09:04.500929Z",
     "start_time": "2020-01-02T15:09:04.488906Z"
    }
   },
   "source": [
    "## English ML-AZ - My Neural Network"
   ]
  },
  {
   "cell_type": "code",
   "execution_count": 15,
   "metadata": {
    "ExecuteTime": {
     "end_time": "2020-01-02T15:09:37.179649Z",
     "start_time": "2020-01-02T15:09:37.156915Z"
    }
   },
   "outputs": [],
   "source": [
    "# Importing the dataset\n",
    "dataset = pd.read_csv(file_path + 'Social_Network_Ads.csv')\n",
    "X = dataset.iloc[:, [2, 3]].values\n",
    "y = dataset.iloc[:, 4].values\n",
    "\n",
    "# Splitting the dataset into the Training set and Test set\n",
    "from sklearn.model_selection import train_test_split\n",
    "X_train, X_test, y_train, y_test = train_test_split(X, y, test_size = 0.25, random_state = 0)\n",
    "\n",
    "# Feature Scaling\n",
    "from sklearn.preprocessing import StandardScaler\n",
    "sc = StandardScaler()\n",
    "X_train = sc.fit_transform(X_train)\n",
    "X_test = sc.transform(X_test)"
   ]
  },
  {
   "cell_type": "code",
   "execution_count": 18,
   "metadata": {
    "ExecuteTime": {
     "end_time": "2020-01-02T15:12:01.753346Z",
     "start_time": "2020-01-02T15:12:01.744911Z"
    }
   },
   "outputs": [],
   "source": [
    "# Classificador\n",
    "from sklearn.neural_network import MLPClassifier\n",
    "classificador = MLPClassifier(verbose = True,\n",
    "                          max_iter=1000,\n",
    "                          tol = 0.0000010,\n",
    "                          solver = 'adam',\n",
    "                          hidden_layer_sizes=(100),\n",
    "                          activation='relu')\n",
    "classificador.fit(X_train, y_train)\n",
    "y_pred = classificador.predict(X_test)"
   ]
  },
  {
   "cell_type": "code",
   "execution_count": 19,
   "metadata": {
    "ExecuteTime": {
     "end_time": "2020-01-02T15:12:12.218960Z",
     "start_time": "2020-01-02T15:12:12.189862Z"
    }
   },
   "outputs": [
    {
     "name": "stdout",
     "output_type": "stream",
     "text": [
      "Accuracy\n",
      " 0.93 \n",
      "\n",
      "Matrix de Confusao\n",
      " [[64  4]\n",
      " [ 3 29]] \n",
      "\n",
      "Matrix de Confusao Porcentagem\n",
      " [[0.64 0.04]\n",
      " [0.03 0.29]] \n",
      "\n",
      "              precision    recall  f1-score   support\n",
      "\n",
      "           0       0.96      0.94      0.95        68\n",
      "           1       0.88      0.91      0.89        32\n",
      "\n",
      "    accuracy                           0.93       100\n",
      "   macro avg       0.92      0.92      0.92       100\n",
      "weighted avg       0.93      0.93      0.93       100\n",
      "\n"
     ]
    }
   ],
   "source": [
    "# Avaliando\n",
    "from sklearn.metrics import confusion_matrix, accuracy_score, classification_report\n",
    "precisao = accuracy_score(y_test, y_pred)\n",
    "matriz = confusion_matrix(y_test, y_pred)\n",
    "print(\"Accuracy\\n\", precisao, \"\\n\")\n",
    "print(\"Matrix de Confusao\\n\", matriz, \"\\n\")\n",
    "print(\"Matrix de Confusao Porcentagem\\n\", matriz/matriz.sum(), \"\\n\")\n",
    "print(classification_report(y_test, y_pred))"
   ]
  },
  {
   "cell_type": "code",
   "execution_count": 21,
   "metadata": {
    "ExecuteTime": {
     "end_time": "2020-01-02T15:13:01.373529Z",
     "start_time": "2020-01-02T15:12:59.825814Z"
    }
   },
   "outputs": [
    {
     "name": "stderr",
     "output_type": "stream",
     "text": [
      "'c' argument looks like a single numeric RGB or RGBA sequence, which should be avoided as value-mapping will have precedence in case its length matches with 'x' & 'y'.  Please use a 2-D array with a single row if you really want to specify the same RGB or RGBA value for all points.\n",
      "'c' argument looks like a single numeric RGB or RGBA sequence, which should be avoided as value-mapping will have precedence in case its length matches with 'x' & 'y'.  Please use a 2-D array with a single row if you really want to specify the same RGB or RGBA value for all points.\n"
     ]
    },
    {
     "data": {
      "image/png": "[encoded data removed]",
      "text/plain": [
       "<Figure size 432x288 with 1 Axes>"
      ]
     },
     "metadata": {
      "needs_background": "light"
     },
     "output_type": "display_data"
    }
   ],
   "source": [
    "# Visualising the Training set results\n",
    "from matplotlib.colors import ListedColormap\n",
    "X_set, y_set = X_train, y_train\n",
    "X1, X2 = np.meshgrid(np.arange(start = X_set[:, 0].min() - 1, stop = X_set[:, 0].max() + 1, step = 0.01),\n",
    "                     np.arange(start = X_set[:, 1].min() - 1, stop = X_set[:, 1].max() + 1, step = 0.01))\n",
    "plt.contourf(X1, X2, classificador.predict(np.array([X1.ravel(), X2.ravel()]).T).reshape(X1.shape),\n",
    "             alpha = 0.75, cmap = ListedColormap(('red', 'green')))\n",
    "plt.xlim(X1.min(), X1.max())\n",
    "plt.ylim(X2.min(), X2.max())\n",
    "for i, j in enumerate(np.unique(y_set)):\n",
    "    plt.scatter(X_set[y_set == j, 0], X_set[y_set == j, 1],\n",
    "                c = ListedColormap(('red', 'green'))(i), label = j)\n",
    "plt.title('Neural Network  (Training set)')\n",
    "plt.xlabel('Age')\n",
    "plt.ylabel('Estimated Salary')\n",
    "plt.legend()\n",
    "plt.show()"
   ]
  },
  {
   "cell_type": "code",
   "execution_count": 22,
   "metadata": {
    "ExecuteTime": {
     "end_time": "2020-01-02T15:13:41.073264Z",
     "start_time": "2020-01-02T15:13:39.894110Z"
    }
   },
   "outputs": [
    {
     "name": "stderr",
     "output_type": "stream",
     "text": [
      "'c' argument looks like a single numeric RGB or RGBA sequence, which should be avoided as value-mapping will have precedence in case its length matches with 'x' & 'y'.  Please use a 2-D array with a single row if you really want to specify the same RGB or RGBA value for all points.\n",
      "'c' argument looks like a single numeric RGB or RGBA sequence, which should be avoided as value-mapping will have precedence in case its length matches with 'x' & 'y'.  Please use a 2-D array with a single row if you really want to specify the same RGB or RGBA value for all points.\n"
     ]
    },
    {
     "data": {
      "image/png": "[encoded data removed]",
      "text/plain": [
       "<Figure size 432x288 with 1 Axes>"
      ]
     },
     "metadata": {
      "needs_background": "light"
     },
     "output_type": "display_data"
    }
   ],
   "source": [
    "# Visualising the Test set results\n",
    "from matplotlib.colors import ListedColormap\n",
    "X_set, y_set = X_test, y_test\n",
    "X1, X2 = np.meshgrid(np.arange(start = X_set[:, 0].min() - 1, stop = X_set[:, 0].max() + 1, step = 0.01),\n",
    "                     np.arange(start = X_set[:, 1].min() - 1, stop = X_set[:, 1].max() + 1, step = 0.01))\n",
    "plt.contourf(X1, X2, classificador.predict(np.array([X1.ravel(), X2.ravel()]).T).reshape(X1.shape),\n",
    "             alpha = 0.75, cmap = ListedColormap(('red', 'green')))\n",
    "plt.xlim(X1.min(), X1.max())\n",
    "plt.ylim(X2.min(), X2.max())\n",
    "for i, j in enumerate(np.unique(y_set)):\n",
    "    plt.scatter(X_set[y_set == j, 0], X_set[y_set == j, 1],\n",
    "                c = ListedColormap(('red', 'green'))(i), label = j)\n",
    "plt.title('Neural Network (Test set)')\n",
    "plt.xlabel('Age')\n",
    "plt.ylabel('Estimated Salary')\n",
    "plt.legend()\n",
    "plt.show()"
   ]
  }
 ],
 "metadata": {
  "kernelspec": {
   "display_name": "Python 3",
   "language": "python",
   "name": "python3"
  },
  "language_info": {
   "codemirror_mode": {
    "name": "ipython",
    "version": 3
   },
   "file_extension": ".py",
   "mimetype": "text/x-python",
   "name": "python",
   "nbconvert_exporter": "python",
   "pygments_lexer": "ipython3",
   "version": "3.7.5"
  }
 },
 "nbformat": 4,
 "nbformat_minor": 2
}
