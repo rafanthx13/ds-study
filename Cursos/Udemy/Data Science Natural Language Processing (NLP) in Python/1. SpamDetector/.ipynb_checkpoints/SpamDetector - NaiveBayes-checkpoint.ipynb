{
 "cells": [
  {
   "cell_type": "markdown",
   "metadata": {},
   "source": [
    "# SpamDetector\n",
    "+ Link do *dataset*:http://archive.ics.uci.edu/ml/datasets/Spambase\n",
    " - A documentação está nos arquivos\n",
    "+ O dataset sâo 48 features com a frequencia de certas palavaras (credit, email, money ... ) e a ultima é a tag que define se é spam (1) ou não (0)\n",
    "+ Usaremos as estruturas do *Scikit-learn*"
   ]
  },
  {
   "cell_type": "code",
   "execution_count": 1,
   "metadata": {
    "ExecuteTime": {
     "end_time": "2019-01-25T15:21:36.517821Z",
     "start_time": "2019-01-25T15:20:26.682134Z"
    }
   },
   "outputs": [],
   "source": [
    "from sklearn.naive_bayes import MultinomialNB\n",
    "import pandas as pd\n",
    "import numpy as np"
   ]
  },
  {
   "cell_type": "code",
   "execution_count": 4,
   "metadata": {
    "ExecuteTime": {
     "end_time": "2019-01-25T15:27:10.591402Z",
     "start_time": "2019-01-25T15:27:10.465783Z"
    }
   },
   "outputs": [],
   "source": [
    "# Vamos carregar o dataset e deixá-lo na forma de matrix\n",
    "data = pd.read_csv('dataset/spambase.data').values\n",
    "np.random.shuffle(data) # Embaralho em inplace para evitar qualquer problema de o dataset está ordenado"
   ]
  },
  {
   "cell_type": "code",
   "execution_count": 5,
   "metadata": {
    "ExecuteTime": {
     "end_time": "2019-01-25T15:27:11.346579Z",
     "start_time": "2019-01-25T15:27:11.335586Z"
    }
   },
   "outputs": [
    {
     "data": {
      "text/plain": [
       "array([[2.100e-01, 2.800e-01, 5.000e-01, ..., 1.010e+02, 1.028e+03,\n",
       "        1.000e+00],\n",
       "       [6.000e-02, 0.000e+00, 7.100e-01, ..., 4.850e+02, 2.259e+03,\n",
       "        1.000e+00],\n",
       "       [0.000e+00, 0.000e+00, 0.000e+00, ..., 4.000e+01, 1.910e+02,\n",
       "        1.000e+00],\n",
       "       ...,\n",
       "       [3.000e-01, 0.000e+00, 3.000e-01, ..., 6.000e+00, 1.180e+02,\n",
       "        0.000e+00],\n",
       "       [9.600e-01, 0.000e+00, 0.000e+00, ..., 5.000e+00, 7.800e+01,\n",
       "        0.000e+00],\n",
       "       [0.000e+00, 0.000e+00, 6.500e-01, ..., 5.000e+00, 4.000e+01,\n",
       "        0.000e+00]])"
      ]
     },
     "execution_count": 5,
     "metadata": {},
     "output_type": "execute_result"
    }
   ],
   "source": [
    "# Ver os dados: São númreo entre 0 a 100 com a frequencia de uma palavra em relaççâo ao texto (term-document matrix)\n",
    "data"
   ]
  },
  {
   "cell_type": "code",
   "execution_count": 6,
   "metadata": {
    "ExecuteTime": {
     "end_time": "2019-01-25T15:28:24.991704Z",
     "start_time": "2019-01-25T15:28:24.984707Z"
    }
   },
   "outputs": [],
   "source": [
    "# Separando as features: X será as entradas e Y a saida esperada\n",
    "X = data[:,:48]\n",
    "Y = data[:,-1]"
   ]
  },
  {
   "cell_type": "code",
   "execution_count": 7,
   "metadata": {
    "ExecuteTime": {
     "end_time": "2019-01-25T15:28:43.702819Z",
     "start_time": "2019-01-25T15:28:43.693822Z"
    }
   },
   "outputs": [],
   "source": [
    "# last 100 rows will be test\n",
    "Xtrain = X[:-100,]\n",
    "Ytrain = Y[:-100,]\n",
    "Xtest = X[-100:,]\n",
    "Ytest = Y[-100:,]"
   ]
  },
  {
   "cell_type": "markdown",
   "metadata": {
    "ExecuteTime": {
     "end_time": "2019-01-25T15:37:17.582685Z",
     "start_time": "2019-01-25T15:37:17.536706Z"
    }
   },
   "source": [
    "## Multinomial NaiveBays\n",
    "link: https://scikit-learn.org/stable/modules/naive_bayes.html\n",
    "\n",
    "MultinomialNB implements the naive Bayes algorithm for multinomially distributed data, and is one of the two classic naive Bayes variants used in text classification (where the data are typically represented as word vector counts, although tf-idf vectors are also known to work well in practice). The distribution is parametrized by vectors  for each class , where  is the number of features (in text classification, the size of the vocabulary) and  is the probability  of feature  appearing in a sample belonging to class .\n",
    "\n",
    "$$\\hat{\\theta}_{yi} = \\frac{ N_{yi} + \\alpha}{N_y + \\alpha n}$$\n",
    "\n",
    "The parameters   is estimated by a smoothed version of maximum likelihood, i.e. relative frequency counting:\n",
    "\n",
    "where $N_{yi} = \\sum_{x \\in T} x_i$  is the number of times feature $i$ appears in a sample of class $y$ in the training set $T$ , and $N_{y} = \\sum_{i=1}^{n} N_{yi}$ is the total count of all features for class .\n",
    "\n",
    "Bom para quantidade e proporções"
   ]
  },
  {
   "cell_type": "markdown",
   "metadata": {
    "ExecuteTime": {
     "end_time": "2019-01-25T15:29:41.615939Z",
     "start_time": "2019-01-25T15:29:41.589955Z"
    }
   },
   "source": [
    "model = MultinomialNB()\n",
    "model.fit(Xtrain, Ytrain)\n",
    "print(\"Classification rate for NB:\", model.score(Xtest, Ytest))"
   ]
  },
  {
   "cell_type": "markdown",
   "metadata": {},
   "source": [
    "## AdaBoost\n",
    "\n",
    "link: https://scikit-learn.org/stable/modules/generated/sklearn.ensemble.AdaBoostClassifier.html\n",
    "\n",
    "An AdaBoost classifier.\n",
    "\n",
    "An AdaBoost [1] classifier is a meta-estimator that begins by fitting a classifier on the original dataset and then fits additional copies of the classifier on the same dataset but where the weights of incorrectly classified instances are adjusted such that subsequent classifiers focus more on difficult cases.\n",
    "\n",
    "This class implements the algorithm known as AdaBoost-SAMME [2]."
   ]
  },
  {
   "cell_type": "code",
   "execution_count": 11,
   "metadata": {
    "ExecuteTime": {
     "end_time": "2019-01-25T15:30:13.589830Z",
     "start_time": "2019-01-25T15:30:11.143319Z"
    }
   },
   "outputs": [
    {
     "name": "stdout",
     "output_type": "stream",
     "text": [
      "Classification rate for AdaBoost: 0.97\n"
     ]
    }
   ],
   "source": [
    "from sklearn.ensemble import AdaBoostClassifier\n",
    "\n",
    "model = AdaBoostClassifier()\n",
    "model.fit(Xtrain, Ytrain)\n",
    "print(\"Classification rate for AdaBoost:\", model.score(Xtest, Ytest))"
   ]
  }
 ],
 "metadata": {
  "kernelspec": {
   "display_name": "Python 3",
   "language": "python",
   "name": "python3"
  },
  "language_info": {
   "codemirror_mode": {
    "name": "ipython",
    "version": 3
   },
   "file_extension": ".py",
   "mimetype": "text/x-python",
   "name": "python",
   "nbconvert_exporter": "python",
   "pygments_lexer": "ipython3",
   "version": "3.6.4"
  }
 },
 "nbformat": 4,
 "nbformat_minor": 2
}
