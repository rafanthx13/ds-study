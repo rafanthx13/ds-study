{
 "cells": [
  {
   "cell_type": "markdown",
   "metadata": {
    "ExecuteTime": {
     "end_time": "2020-01-09T15:40:08.967533Z",
     "start_time": "2020-01-09T15:40:08.963485Z"
    }
   },
   "source": [
    "# Métricas (Classificação - y discreto) (`precision`, `f1-score` ... ) e Erros (`MSE`, `MEA` ...) (Regressâo - y contínuo)\n",
    "\n",
    "Best Links\n",
    "\n",
    "Classification\n",
    "+ https://medium.com/@george.drakos62/how-to-select-the-right-evaluation-metric-for-machine-learning-models-part-3-classification-3eac420ec991\n",
    "\n",
    "Regression\n",
    "+ https://medium.com/@george.drakos62/how-to-select-the-right-evaluation-metric-for-machine-learning-models-part-1-regrression-metrics-3606e25beae0\n",
    "+ https://medium.com/@george.drakos62/how-to-select-the-right-evaluation-metric-for-machine-learning-models-part-2-regression-metrics-d4a1a9ba3d74"
   ]
  },
  {
   "cell_type": "code",
   "execution_count": 9,
   "metadata": {
    "ExecuteTime": {
     "end_time": "2020-01-09T18:17:52.444850Z",
     "start_time": "2020-01-09T18:17:52.433372Z"
    }
   },
   "outputs": [],
   "source": [
    "import pandas as pd\n",
    "import numpy as np\n",
    "import matplotlib.pyplot as plt\n",
    "\n",
    "file_path = \"../files/\""
   ]
  },
  {
   "cell_type": "markdown",
   "metadata": {},
   "source": [
    "## Classificação - Métricas\n",
    "\n",
    "### Resumo\n",
    "\n",
    "````\n",
    "\n",
    "Matrix de Confusao    Nomenclatura das partes\n",
    " [[65  3]              [[TP  FP ]\n",
    " [ 3 29]]              [ FN  TN]]\n",
    " \n",
    "-------------------------------------------------------\n",
    "\n",
    "               precision    recall  f1-score   support\n",
    "\n",
    "Not Purchased       0.96      0.96      0.96        68\n",
    "    Purchased       0.91      0.91      0.91        32\n",
    "\n",
    "     accuracy                           0.94       100\n",
    "    macro avg       0.93      0.93      0.93       100\n",
    " weighted avg       0.94      0.94      0.94       100\n",
    " \n",
    "-------------------------------------------------------\n",
    " \n",
    "    Métricas por Classe \n",
    "    \n",
    "OBS: É a matriz de confusâo particular para cada classe\n",
    "    \n",
    "Precision: Numero total de positivos do total dos classificados como posititovos par uma classe\n",
    "    Precision = TP / TP + FP\n",
    "    \n",
    "Recall: Número de Positivos que foram devidamente identificados par auma classe\n",
    "    Recall = TP / TP + FN\n",
    "    \n",
    "F1-Score: Média Harmonica entre precisao e recall\n",
    "    F1-Score = 2 * Recall * Precision / Recall + Precision\n",
    "    \n",
    "Support: Quantidade de itens por classe\n",
    "    Support = TP + FP\n",
    "    \n",
    "    Métricas Geral\n",
    "    \n",
    "Acurracy: O quanto acertou do total\n",
    "    TP + TN / TP + FP + FN + TN\n",
    "    \n",
    "\n",
    "````\n",
    "\n",
    "### Matriz de Confusão\n",
    "<img src='../../tree/imgs/metricas-erros/metricas-erros-05.png' width=600px>\n",
    "\n",
    "### Accuracy\n",
    "\n",
    "<img src='../../tree/imgs/metricas-erros/metricas-erros-03.png' width=600px>\n",
    "\n",
    "### Recall / Sensitivity / TPR\n",
    "\n",
    "<img src='../../tree/imgs/metricas-erros/metricas-erros-04.png' width=600px>\n",
    "\n",
    "### Precision\n",
    "\n",
    "<img src='../../tree/imgs/metricas-erros/metricas-erros-06.png' width=600px>\n",
    "\n",
    "### Precision vs Recall\n",
    "\n",
    "<img src='../../tree/imgs/metricas-erros/metricas-erros-07.png' width=600px>\n",
    "\n",
    "\n",
    "### Ohter value: Specifity\n",
    "\n",
    "<img src='../../tree/imgs/metricas-erros/metricas-erros-08.png' width=600px>\n",
    "\n",
    "<img src='../../tree/imgs/metricas-erros/metricas-erros-09.png' width=600px>\n",
    "\n",
    "### Other Metrics\n",
    "\n",
    "<img src='../../tree/imgs/metricas-erros/metricas-erros-10.png' width=600px>\n",
    "\n",
    "### F1-Score : `HarmonicMean(Precision,Recall)`\n",
    "\n",
    "<img src='../../tree/imgs/metricas-erros/metricas-erros-11.png' width=600px>\n",
    "\n"
   ]
  },
  {
   "cell_type": "code",
   "execution_count": 48,
   "metadata": {
    "ExecuteTime": {
     "end_time": "2020-01-09T20:20:17.420408Z",
     "start_time": "2020-01-09T20:20:17.248852Z"
    }
   },
   "outputs": [
    {
     "data": {
      "text/html": [
       "<div>\n",
       "<style scoped>\n",
       "    .dataframe tbody tr th:only-of-type {\n",
       "        vertical-align: middle;\n",
       "    }\n",
       "\n",
       "    .dataframe tbody tr th {\n",
       "        vertical-align: top;\n",
       "    }\n",
       "\n",
       "    .dataframe thead th {\n",
       "        text-align: right;\n",
       "    }\n",
       "</style>\n",
       "<table border=\"1\" class=\"dataframe\">\n",
       "  <thead>\n",
       "    <tr style=\"text-align: right;\">\n",
       "      <th></th>\n",
       "      <th>User ID</th>\n",
       "      <th>Gender</th>\n",
       "      <th>Age</th>\n",
       "      <th>EstimatedSalary</th>\n",
       "      <th>Purchased</th>\n",
       "    </tr>\n",
       "  </thead>\n",
       "  <tbody>\n",
       "    <tr>\n",
       "      <th>0</th>\n",
       "      <td>15624510</td>\n",
       "      <td>Male</td>\n",
       "      <td>19</td>\n",
       "      <td>19000</td>\n",
       "      <td>0</td>\n",
       "    </tr>\n",
       "    <tr>\n",
       "      <th>1</th>\n",
       "      <td>15810944</td>\n",
       "      <td>Male</td>\n",
       "      <td>35</td>\n",
       "      <td>20000</td>\n",
       "      <td>0</td>\n",
       "    </tr>\n",
       "    <tr>\n",
       "      <th>2</th>\n",
       "      <td>15668575</td>\n",
       "      <td>Female</td>\n",
       "      <td>26</td>\n",
       "      <td>43000</td>\n",
       "      <td>0</td>\n",
       "    </tr>\n",
       "    <tr>\n",
       "      <th>3</th>\n",
       "      <td>15603246</td>\n",
       "      <td>Female</td>\n",
       "      <td>27</td>\n",
       "      <td>57000</td>\n",
       "      <td>0</td>\n",
       "    </tr>\n",
       "    <tr>\n",
       "      <th>4</th>\n",
       "      <td>15804002</td>\n",
       "      <td>Male</td>\n",
       "      <td>19</td>\n",
       "      <td>76000</td>\n",
       "      <td>0</td>\n",
       "    </tr>\n",
       "  </tbody>\n",
       "</table>\n",
       "</div>"
      ],
      "text/plain": [
       "    User ID  Gender  Age  EstimatedSalary  Purchased\n",
       "0  15624510    Male   19            19000          0\n",
       "1  15810944    Male   35            20000          0\n",
       "2  15668575  Female   26            43000          0\n",
       "3  15603246  Female   27            57000          0\n",
       "4  15804002    Male   19            76000          0"
      ]
     },
     "execution_count": 48,
     "metadata": {},
     "output_type": "execute_result"
    }
   ],
   "source": [
    "# Importing the dataset\n",
    "dataset = pd.read_csv(file_path + 'Social_Network_Ads.csv')\n",
    "X = dataset.iloc[:, [2, 3]].values\n",
    "y = dataset.iloc[:, 4].values\n",
    "\n",
    "dataset.head()"
   ]
  },
  {
   "cell_type": "code",
   "execution_count": 47,
   "metadata": {
    "ExecuteTime": {
     "end_time": "2020-01-09T20:20:15.580990Z",
     "start_time": "2020-01-09T20:20:15.566707Z"
    }
   },
   "outputs": [],
   "source": [
    "# Splitting the dataset into the Training set and Test set\n",
    "from sklearn.model_selection import train_test_split\n",
    "X_train, X_test, y_train, y_test = train_test_split(X, y, test_size = 0.25, random_state = 0)\n",
    "\n",
    "# Feature Scaling\n",
    "from sklearn.preprocessing import StandardScaler\n",
    "sc = StandardScaler()\n",
    "X_train = sc.fit_transform(X_train)\n",
    "X_test = sc.transform(X_test)"
   ]
  },
  {
   "cell_type": "code",
   "execution_count": 42,
   "metadata": {
    "ExecuteTime": {
     "end_time": "2020-01-09T20:17:15.040109Z",
     "start_time": "2020-01-09T20:17:14.994944Z"
    }
   },
   "outputs": [
    {
     "data": {
      "text/plain": [
       "XGBClassifier(base_score=0.5, booster='gbtree', colsample_bylevel=1,\n",
       "              colsample_bynode=1, colsample_bytree=1, gamma=0,\n",
       "              learning_rate=0.1, max_delta_step=0, max_depth=3,\n",
       "              min_child_weight=1, missing=None, n_estimators=100, n_jobs=1,\n",
       "              nthread=None, objective='binary:logistic', random_state=0,\n",
       "              reg_alpha=0, reg_lambda=1, scale_pos_weight=1, seed=None,\n",
       "              silent=None, subsample=1, verbosity=1)"
      ]
     },
     "execution_count": 42,
     "metadata": {},
     "output_type": "execute_result"
    }
   ],
   "source": [
    "# Fitting XGBoost to the Training set\n",
    "from xgboost import XGBClassifier\n",
    "classifier = XGBClassifier()\n",
    "classifier.fit(X_train, y_train)"
   ]
  },
  {
   "cell_type": "code",
   "execution_count": 43,
   "metadata": {
    "ExecuteTime": {
     "end_time": "2020-01-09T20:17:15.576882Z",
     "start_time": "2020-01-09T20:17:15.571311Z"
    }
   },
   "outputs": [],
   "source": [
    "# Predicting the Test set results\n",
    "y_pred = classifier.predict(X_test)"
   ]
  },
  {
   "cell_type": "code",
   "execution_count": 50,
   "metadata": {
    "ExecuteTime": {
     "end_time": "2020-01-09T20:37:57.331744Z",
     "start_time": "2020-01-09T20:37:57.293840Z"
    }
   },
   "outputs": [
    {
     "name": "stdout",
     "output_type": "stream",
     "text": [
      "Accuracy\n",
      " 0.94 \n",
      "\n",
      "Matrix de Confusao\n",
      " [[65  3]\n",
      " [ 3 29]] \n",
      "\n",
      "Matrix de Confusao Porcentagem\n",
      " [[0.65 0.03]\n",
      " [0.03 0.29]] \n",
      "\n",
      "               precision    recall  f1-score   support\n",
      "\n",
      "Not Purchased       0.96      0.96      0.96        68\n",
      "    Purchased       0.91      0.91      0.91        32\n",
      "\n",
      "     accuracy                           0.94       100\n",
      "    macro avg       0.93      0.93      0.93       100\n",
      " weighted avg       0.94      0.94      0.94       100\n",
      "\n",
      "Precision: Numero total de positivos do total dos classificados como posititovos par auma classe\n",
      "Recall: Número de Positivos que foram devidamente identificados par auma classe\n",
      "F1-Score: Média Harmonica entre precisao e recall\n",
      "Support: Quantidade de amostras de uma classe\n",
      "Acurracy: O quanto acertou do total\n"
     ]
    }
   ],
   "source": [
    "from sklearn.metrics import confusion_matrix, accuracy_score, classification_report\n",
    "precisao = accuracy_score(y_test, y_pred)\n",
    "matriz = confusion_matrix(y_test, y_pred)\n",
    "print(\"Accuracy\\n\", precisao, \"\\n\")\n",
    "print(\"Matrix de Confusao\\n\",matriz, \"\\n\")\n",
    "print(\"Matrix de Confusao Porcentagem\\n\",matriz/matriz.sum(), \"\\n\")\n",
    "print(classification_report(y_test,y_pred, target_names=['Not Purchased', 'Purchased']))\n",
    "\n",
    "# Explicando cada métrica\n",
    "print(\"Precision: Numero total de positivos do total dos classificados como posititovos par auma classe\")\n",
    "print(\"Recall: Número de Positivos que foram devidamente identificados par auma classe\")\n",
    "print(\"F1-Score: Média Harmonica entre precisao e recall\")\n",
    "print(\"Support: Quantidade de amostras de uma classe\")\n",
    "print(\"Acurracy: O quanto acertou do total\")"
   ]
  },
  {
   "cell_type": "markdown",
   "metadata": {},
   "source": [
    "## Regressão - Erros - Base `house-prices` \n",
    "\n",
    "**Regressão para prever preço de casa**"
   ]
  },
  {
   "cell_type": "code",
   "execution_count": 10,
   "metadata": {
    "ExecuteTime": {
     "end_time": "2020-01-09T18:17:57.309860Z",
     "start_time": "2020-01-09T18:17:56.896164Z"
    }
   },
   "outputs": [
    {
     "data": {
      "text/html": [
       "<div>\n",
       "<style scoped>\n",
       "    .dataframe tbody tr th:only-of-type {\n",
       "        vertical-align: middle;\n",
       "    }\n",
       "\n",
       "    .dataframe tbody tr th {\n",
       "        vertical-align: top;\n",
       "    }\n",
       "\n",
       "    .dataframe thead th {\n",
       "        text-align: right;\n",
       "    }\n",
       "</style>\n",
       "<table border=\"1\" class=\"dataframe\">\n",
       "  <thead>\n",
       "    <tr style=\"text-align: right;\">\n",
       "      <th></th>\n",
       "      <th>id</th>\n",
       "      <th>date</th>\n",
       "      <th>price</th>\n",
       "      <th>bedrooms</th>\n",
       "      <th>bathrooms</th>\n",
       "      <th>sqft_living</th>\n",
       "      <th>sqft_lot</th>\n",
       "      <th>floors</th>\n",
       "      <th>waterfront</th>\n",
       "      <th>view</th>\n",
       "      <th>...</th>\n",
       "      <th>grade</th>\n",
       "      <th>sqft_above</th>\n",
       "      <th>sqft_basement</th>\n",
       "      <th>yr_built</th>\n",
       "      <th>yr_renovated</th>\n",
       "      <th>zipcode</th>\n",
       "      <th>lat</th>\n",
       "      <th>long</th>\n",
       "      <th>sqft_living15</th>\n",
       "      <th>sqft_lot15</th>\n",
       "    </tr>\n",
       "  </thead>\n",
       "  <tbody>\n",
       "    <tr>\n",
       "      <th>0</th>\n",
       "      <td>7129300520</td>\n",
       "      <td>20141013T000000</td>\n",
       "      <td>221900.0</td>\n",
       "      <td>3</td>\n",
       "      <td>1.00</td>\n",
       "      <td>1180</td>\n",
       "      <td>5650</td>\n",
       "      <td>1.0</td>\n",
       "      <td>0</td>\n",
       "      <td>0</td>\n",
       "      <td>...</td>\n",
       "      <td>7</td>\n",
       "      <td>1180</td>\n",
       "      <td>0</td>\n",
       "      <td>1955</td>\n",
       "      <td>0</td>\n",
       "      <td>98178</td>\n",
       "      <td>47.5112</td>\n",
       "      <td>-122.257</td>\n",
       "      <td>1340</td>\n",
       "      <td>5650</td>\n",
       "    </tr>\n",
       "    <tr>\n",
       "      <th>1</th>\n",
       "      <td>6414100192</td>\n",
       "      <td>20141209T000000</td>\n",
       "      <td>538000.0</td>\n",
       "      <td>3</td>\n",
       "      <td>2.25</td>\n",
       "      <td>2570</td>\n",
       "      <td>7242</td>\n",
       "      <td>2.0</td>\n",
       "      <td>0</td>\n",
       "      <td>0</td>\n",
       "      <td>...</td>\n",
       "      <td>7</td>\n",
       "      <td>2170</td>\n",
       "      <td>400</td>\n",
       "      <td>1951</td>\n",
       "      <td>1991</td>\n",
       "      <td>98125</td>\n",
       "      <td>47.7210</td>\n",
       "      <td>-122.319</td>\n",
       "      <td>1690</td>\n",
       "      <td>7639</td>\n",
       "    </tr>\n",
       "    <tr>\n",
       "      <th>2</th>\n",
       "      <td>5631500400</td>\n",
       "      <td>20150225T000000</td>\n",
       "      <td>180000.0</td>\n",
       "      <td>2</td>\n",
       "      <td>1.00</td>\n",
       "      <td>770</td>\n",
       "      <td>10000</td>\n",
       "      <td>1.0</td>\n",
       "      <td>0</td>\n",
       "      <td>0</td>\n",
       "      <td>...</td>\n",
       "      <td>6</td>\n",
       "      <td>770</td>\n",
       "      <td>0</td>\n",
       "      <td>1933</td>\n",
       "      <td>0</td>\n",
       "      <td>98028</td>\n",
       "      <td>47.7379</td>\n",
       "      <td>-122.233</td>\n",
       "      <td>2720</td>\n",
       "      <td>8062</td>\n",
       "    </tr>\n",
       "    <tr>\n",
       "      <th>3</th>\n",
       "      <td>2487200875</td>\n",
       "      <td>20141209T000000</td>\n",
       "      <td>604000.0</td>\n",
       "      <td>4</td>\n",
       "      <td>3.00</td>\n",
       "      <td>1960</td>\n",
       "      <td>5000</td>\n",
       "      <td>1.0</td>\n",
       "      <td>0</td>\n",
       "      <td>0</td>\n",
       "      <td>...</td>\n",
       "      <td>7</td>\n",
       "      <td>1050</td>\n",
       "      <td>910</td>\n",
       "      <td>1965</td>\n",
       "      <td>0</td>\n",
       "      <td>98136</td>\n",
       "      <td>47.5208</td>\n",
       "      <td>-122.393</td>\n",
       "      <td>1360</td>\n",
       "      <td>5000</td>\n",
       "    </tr>\n",
       "    <tr>\n",
       "      <th>4</th>\n",
       "      <td>1954400510</td>\n",
       "      <td>20150218T000000</td>\n",
       "      <td>510000.0</td>\n",
       "      <td>3</td>\n",
       "      <td>2.00</td>\n",
       "      <td>1680</td>\n",
       "      <td>8080</td>\n",
       "      <td>1.0</td>\n",
       "      <td>0</td>\n",
       "      <td>0</td>\n",
       "      <td>...</td>\n",
       "      <td>8</td>\n",
       "      <td>1680</td>\n",
       "      <td>0</td>\n",
       "      <td>1987</td>\n",
       "      <td>0</td>\n",
       "      <td>98074</td>\n",
       "      <td>47.6168</td>\n",
       "      <td>-122.045</td>\n",
       "      <td>1800</td>\n",
       "      <td>7503</td>\n",
       "    </tr>\n",
       "  </tbody>\n",
       "</table>\n",
       "<p>5 rows × 21 columns</p>\n",
       "</div>"
      ],
      "text/plain": [
       "           id             date     price  bedrooms  bathrooms  sqft_living  \\\n",
       "0  7129300520  20141013T000000  221900.0         3       1.00         1180   \n",
       "1  6414100192  20141209T000000  538000.0         3       2.25         2570   \n",
       "2  5631500400  20150225T000000  180000.0         2       1.00          770   \n",
       "3  2487200875  20141209T000000  604000.0         4       3.00         1960   \n",
       "4  1954400510  20150218T000000  510000.0         3       2.00         1680   \n",
       "\n",
       "   sqft_lot  floors  waterfront  view  ...  grade  sqft_above  sqft_basement  \\\n",
       "0      5650     1.0           0     0  ...      7        1180              0   \n",
       "1      7242     2.0           0     0  ...      7        2170            400   \n",
       "2     10000     1.0           0     0  ...      6         770              0   \n",
       "3      5000     1.0           0     0  ...      7        1050            910   \n",
       "4      8080     1.0           0     0  ...      8        1680              0   \n",
       "\n",
       "   yr_built  yr_renovated  zipcode      lat     long  sqft_living15  \\\n",
       "0      1955             0    98178  47.5112 -122.257           1340   \n",
       "1      1951          1991    98125  47.7210 -122.319           1690   \n",
       "2      1933             0    98028  47.7379 -122.233           2720   \n",
       "3      1965             0    98136  47.5208 -122.393           1360   \n",
       "4      1987             0    98074  47.6168 -122.045           1800   \n",
       "\n",
       "   sqft_lot15  \n",
       "0        5650  \n",
       "1        7639  \n",
       "2        8062  \n",
       "3        5000  \n",
       "4        7503  \n",
       "\n",
       "[5 rows x 21 columns]"
      ]
     },
     "execution_count": 10,
     "metadata": {},
     "output_type": "execute_result"
    }
   ],
   "source": [
    "base = pd.read_csv(file_path + 'house-prices.csv')\n",
    "base.head()"
   ]
  },
  {
   "cell_type": "markdown",
   "metadata": {},
   "source": [
    "#### Features `x`"
   ]
  },
  {
   "cell_type": "code",
   "execution_count": 16,
   "metadata": {
    "ExecuteTime": {
     "end_time": "2020-01-09T18:20:30.394038Z",
     "start_time": "2020-01-09T18:20:30.341840Z"
    }
   },
   "outputs": [
    {
     "data": {
      "text/html": [
       "<div>\n",
       "<style scoped>\n",
       "    .dataframe tbody tr th:only-of-type {\n",
       "        vertical-align: middle;\n",
       "    }\n",
       "\n",
       "    .dataframe tbody tr th {\n",
       "        vertical-align: top;\n",
       "    }\n",
       "\n",
       "    .dataframe thead th {\n",
       "        text-align: right;\n",
       "    }\n",
       "</style>\n",
       "<table border=\"1\" class=\"dataframe\">\n",
       "  <thead>\n",
       "    <tr style=\"text-align: right;\">\n",
       "      <th></th>\n",
       "      <th>bedrooms</th>\n",
       "      <th>bathrooms</th>\n",
       "      <th>sqft_living</th>\n",
       "      <th>sqft_lot</th>\n",
       "      <th>floors</th>\n",
       "      <th>waterfront</th>\n",
       "      <th>view</th>\n",
       "      <th>condition</th>\n",
       "      <th>grade</th>\n",
       "      <th>sqft_above</th>\n",
       "      <th>sqft_basement</th>\n",
       "      <th>yr_built</th>\n",
       "      <th>yr_renovated</th>\n",
       "      <th>zipcode</th>\n",
       "      <th>lat</th>\n",
       "      <th>long</th>\n",
       "    </tr>\n",
       "  </thead>\n",
       "  <tbody>\n",
       "    <tr>\n",
       "      <th>0</th>\n",
       "      <td>3</td>\n",
       "      <td>1.00</td>\n",
       "      <td>1180</td>\n",
       "      <td>5650</td>\n",
       "      <td>1.0</td>\n",
       "      <td>0</td>\n",
       "      <td>0</td>\n",
       "      <td>3</td>\n",
       "      <td>7</td>\n",
       "      <td>1180</td>\n",
       "      <td>0</td>\n",
       "      <td>1955</td>\n",
       "      <td>0</td>\n",
       "      <td>98178</td>\n",
       "      <td>47.5112</td>\n",
       "      <td>-122.257</td>\n",
       "    </tr>\n",
       "    <tr>\n",
       "      <th>1</th>\n",
       "      <td>3</td>\n",
       "      <td>2.25</td>\n",
       "      <td>2570</td>\n",
       "      <td>7242</td>\n",
       "      <td>2.0</td>\n",
       "      <td>0</td>\n",
       "      <td>0</td>\n",
       "      <td>3</td>\n",
       "      <td>7</td>\n",
       "      <td>2170</td>\n",
       "      <td>400</td>\n",
       "      <td>1951</td>\n",
       "      <td>1991</td>\n",
       "      <td>98125</td>\n",
       "      <td>47.7210</td>\n",
       "      <td>-122.319</td>\n",
       "    </tr>\n",
       "    <tr>\n",
       "      <th>2</th>\n",
       "      <td>2</td>\n",
       "      <td>1.00</td>\n",
       "      <td>770</td>\n",
       "      <td>10000</td>\n",
       "      <td>1.0</td>\n",
       "      <td>0</td>\n",
       "      <td>0</td>\n",
       "      <td>3</td>\n",
       "      <td>6</td>\n",
       "      <td>770</td>\n",
       "      <td>0</td>\n",
       "      <td>1933</td>\n",
       "      <td>0</td>\n",
       "      <td>98028</td>\n",
       "      <td>47.7379</td>\n",
       "      <td>-122.233</td>\n",
       "    </tr>\n",
       "    <tr>\n",
       "      <th>3</th>\n",
       "      <td>4</td>\n",
       "      <td>3.00</td>\n",
       "      <td>1960</td>\n",
       "      <td>5000</td>\n",
       "      <td>1.0</td>\n",
       "      <td>0</td>\n",
       "      <td>0</td>\n",
       "      <td>5</td>\n",
       "      <td>7</td>\n",
       "      <td>1050</td>\n",
       "      <td>910</td>\n",
       "      <td>1965</td>\n",
       "      <td>0</td>\n",
       "      <td>98136</td>\n",
       "      <td>47.5208</td>\n",
       "      <td>-122.393</td>\n",
       "    </tr>\n",
       "    <tr>\n",
       "      <th>4</th>\n",
       "      <td>3</td>\n",
       "      <td>2.00</td>\n",
       "      <td>1680</td>\n",
       "      <td>8080</td>\n",
       "      <td>1.0</td>\n",
       "      <td>0</td>\n",
       "      <td>0</td>\n",
       "      <td>3</td>\n",
       "      <td>8</td>\n",
       "      <td>1680</td>\n",
       "      <td>0</td>\n",
       "      <td>1987</td>\n",
       "      <td>0</td>\n",
       "      <td>98074</td>\n",
       "      <td>47.6168</td>\n",
       "      <td>-122.045</td>\n",
       "    </tr>\n",
       "  </tbody>\n",
       "</table>\n",
       "</div>"
      ],
      "text/plain": [
       "   bedrooms  bathrooms  sqft_living  sqft_lot  floors  waterfront  view  \\\n",
       "0         3       1.00         1180      5650     1.0           0     0   \n",
       "1         3       2.25         2570      7242     2.0           0     0   \n",
       "2         2       1.00          770     10000     1.0           0     0   \n",
       "3         4       3.00         1960      5000     1.0           0     0   \n",
       "4         3       2.00         1680      8080     1.0           0     0   \n",
       "\n",
       "   condition  grade  sqft_above  sqft_basement  yr_built  yr_renovated  \\\n",
       "0          3      7        1180              0      1955             0   \n",
       "1          3      7        2170            400      1951          1991   \n",
       "2          3      6         770              0      1933             0   \n",
       "3          5      7        1050            910      1965             0   \n",
       "4          3      8        1680              0      1987             0   \n",
       "\n",
       "   zipcode      lat     long  \n",
       "0    98178  47.5112 -122.257  \n",
       "1    98125  47.7210 -122.319  \n",
       "2    98028  47.7379 -122.233  \n",
       "3    98136  47.5208 -122.393  \n",
       "4    98074  47.6168 -122.045  "
      ]
     },
     "execution_count": 16,
     "metadata": {},
     "output_type": "execute_result"
    }
   ],
   "source": [
    "X = base.iloc[:, 3:19].values\n",
    "\n",
    "# Base de Features X\n",
    "base[(list(base.columns))[3:19]].head()"
   ]
  },
  {
   "cell_type": "markdown",
   "metadata": {},
   "source": [
    "#### Value `y`"
   ]
  },
  {
   "cell_type": "code",
   "execution_count": 17,
   "metadata": {
    "ExecuteTime": {
     "end_time": "2020-01-09T18:21:38.293024Z",
     "start_time": "2020-01-09T18:21:38.279665Z"
    }
   },
   "outputs": [
    {
     "data": {
      "text/plain": [
       "0    221900.0\n",
       "1    538000.0\n",
       "2    180000.0\n",
       "3    604000.0\n",
       "4    510000.0\n",
       "Name: price, dtype: float64"
      ]
     },
     "execution_count": 17,
     "metadata": {},
     "output_type": "execute_result"
    }
   ],
   "source": [
    "y = base.iloc[:, 2].values\n",
    "\n",
    "# Base de Features Y\n",
    "base[(list(base.columns))[2]].head()"
   ]
  },
  {
   "cell_type": "code",
   "execution_count": 18,
   "metadata": {
    "ExecuteTime": {
     "end_time": "2020-01-09T18:22:43.569238Z",
     "start_time": "2020-01-09T18:22:39.135782Z"
    }
   },
   "outputs": [],
   "source": [
    "# Split base in Train and Test\n",
    "from sklearn.model_selection import train_test_split\n",
    "X_treinamento, X_teste, y_treinamento, y_teste = train_test_split(\n",
    "    X, y, test_size = 0.3,random_state = 0)"
   ]
  },
  {
   "cell_type": "markdown",
   "metadata": {},
   "source": [
    "### Regressor Múltiplo"
   ]
  },
  {
   "cell_type": "code",
   "execution_count": 19,
   "metadata": {
    "ExecuteTime": {
     "end_time": "2020-01-09T18:24:15.776239Z",
     "start_time": "2020-01-09T18:24:14.743774Z"
    }
   },
   "outputs": [],
   "source": [
    "from sklearn.linear_model import LinearRegression\n",
    "regressor = LinearRegression()\n",
    "regressor.fit(X_treinamento, y_treinamento)\n",
    "\n",
    "# Previsões\n",
    "previsoes = regressor.predict(X_teste)"
   ]
  },
  {
   "cell_type": "markdown",
   "metadata": {},
   "source": [
    "### Coeficiente de Determinaçâo (R²) - `.score`\n",
    "\n",
    "Links\n",
    "+ http://www.portalaction.com.br/analise-de-regressao/16-coeficiente-de-determinacao\n",
    "+ https://pt.wikipedia.org/wiki/Coeficiente_de_determina%C3%A7%C3%A3o\n",
    "+ https://en.wikipedia.org/wiki/Coefficient_of_determination\n",
    "+ https://stattrek.com/statistics/dictionary.aspx?definition=coefficient_of_determination\n",
    "+ \\+\n",
    "    - https://pt.khanacademy.org/math/ap-statistics/bivariate-data-ap/assessing-fit-least-squares-regression/a/r-squared-intuition\n",
    "    \n",
    "    \n",
    "Uma das formas de avaliar a qualidade do ajuste do modelo de regressão é através do **coeficiente de determinação** $ R^2 $. \n",
    "\n",
    "Basicamente, este coeficiente R² indica quanto o modelo foi capaz de explicar os dados coletados. O R² varia entre 0 e 1, indicando, em percentagem, o quanto o modelo consegue explicar os valores observados. Quanto maior o R², mais explicativo é o modelo, melhor ele se ajusta à amostra.\n",
    "\n",
    "Por exemplo, se o R² de um modelo é 0,8234, isto significa que 82,34% da variável dependente consegue ser explicada pelos regressores presentes no modelo.\n",
    "\n",
    "\n",
    "O coeficiente de determinação, também chamado de R², é uma medida de ajustamento de um modelo estatístico linear generalizado, como a regressão linear, em relação aos valores observados. \n",
    "\n",
    "**Fórmula**\n",
    "\n",
    "<img src='../../tree/imgs/metricas-erros/metricas-erros-01.png' width=600px>\n",
    "\n",
    "\n",
    "\n",
    "---\n",
    "\n",
    "#### Observações\n",
    "\n",
    "ou seja, é a razão entre a soma de quadrados da regressão e a soma de quadrados total. No modelo com intercepto, podemos escrever\n",
    "\n",
    "O $ R^2 $ é, portanto, uma medida descritiva da qualidade do ajuste obtido. Em geral referimo-nos ao $ R^2 $ como a quantidade de variabilidade nos dados que é explicada pelo modelo de regressão ajustado. Entretanto, o valor do coeficiente de determinação depende do número de observações $ (n) $, tendendo a crescer quando $ n $ diminui. Se $ n = 2 $, tem-se sempre $ R^2 = 1. $\n",
    "\n",
    "O $ R^2 $ deve ser usado com precaução, pois é sempre possível torná-lo maior pela adição de um número suficiente de termos ao modelo. Assim, se, por exemplo, não há dados repetidos (mais do que um valor $ y $ para um mesmo $ x $) um polinômio de grau $ (n - 1) $ dará um ajuste perfeito $ (R^2 = 1) $ para $ n $ dados. Quando há valores repetidos, o $ R^2 $ não será nunca igual a 1, pois o modelo não poderá explicar a variabilidade devido ao erro puro.\n",
    "\n",
    "Embora $ R^2 $ aumente com a adição de termos ao modelo, isto não significa necessariamente que o novo modelo é superior ao anterior. A menos que a soma de quadrados residual do novo modelo seja reduzida por uma quantidade igual ao quadrado médio residual original, o novo modelo terá um quadrado médio residual maior do que o original, devido a perda de 1 grau de liberdade. Na realidade esse novo modelo poderá ser pior do que o anterior.\n",
    "\n",
    "---\n",
    "\n",
    "Nos modelos de Regressão do `sklearn`, você pode obtê-lo rapidamente com o método `.score(x_test, y_test)`. A maioria dos modelos regressores tem esse método.\n"
   ]
  },
  {
   "cell_type": "code",
   "execution_count": 21,
   "metadata": {
    "ExecuteTime": {
     "end_time": "2020-01-09T18:52:11.306130Z",
     "start_time": "2020-01-09T18:52:11.294884Z"
    }
   },
   "outputs": [
    {
     "name": "stdout",
     "output_type": "stream",
     "text": [
      "Score (ou R^2) do Treinamento = 0.7029888085955005\n"
     ]
    }
   ],
   "source": [
    "score = regressor.score(X_treinamento, y_treinamento)\n",
    "print(\"Score (ou R^2) do Treinamento =\", score)"
   ]
  },
  {
   "cell_type": "markdown",
   "metadata": {},
   "source": [
    "### Erros\n",
    "\n",
    "Lista de todos os Erros e Métricas para Regressão\n",
    "\n",
    "+ Mean Squared Error (MSE)\n",
    "+ Root Mean Squared Error (RMSE)\n",
    "+ Mean Absolute Error (MAE)\n",
    "+ R Squared (R²)\n",
    "+ Adjusted R Squared (R²)\n",
    "+ Mean Squared Percentage Error (MSPE)\n",
    "+ Mean Absolute Percentage Error (MAPE)\n",
    "+ Root Mean Squared Logarithmic Error (RMSLE)\n",
    "\n",
    "Links\n",
    "+ https://www.datatechnotes.com/2019/02/regression-model-accuracy-mae-mse-rmse.html\n",
    "+ https://medium.com/human-in-a-machine-world/mae-and-rmse-which-metric-is-better-e60ac3bde13d\n",
    "\n",
    "---\n",
    "\n",
    "<img src='../../tree/imgs/metricas-erros/metricas-erros-02.png' width=1000px>\n",
    "\n",
    "\n",
    "#### MAE - Mean Absolute Error - Erro médio absoluto\n",
    "\n",
    "+ A verdadeira média dos desvios\n",
    "+ Ele dá menos pesos ao Valores muito grande (possíveis OutLiers) e por isso, menos sensível à eles\n",
    "\n",
    "---\n",
    "\n",
    "In MAE the error is calculated as an average of absolute differences between the target values and the predictions. The MAE is a linear score which means that all the individual differences are weighted equally in the average. For example, the difference between 10 and 0 will be twice the difference between 5 and 0. However, same is not true for RMSE. \n",
    "\n",
    "What is important about this metric is that it penalizes huge errors that not as that badly as MSE does. Thus, it’s not that sensitive to outliers as mean square error.\n",
    "MAE is widely used in finance, where \\$10 error is usually exactly two times worse than $5 error. On the other hand, MSE metric thinks that \\$10 error is four times worse than $5 error. MAE is easier to justify than RMSE.\n",
    "\n",
    "---\n",
    "\n",
    "#### MSE e RMSE\n",
    "\n",
    "+ RMSE gives a relatively high weight to large errors. This means the RMSE should be more useful when large errors are particularly undesirable\n",
    "\n",
    "---\n",
    "\n",
    "MSE basically measures average squared error of our predictions. For each point, it calculates square difference between the predictions and the target and then average those values.\n",
    "The higher this value, the worse the model is. It is never negative, since we’re squaring the individual prediction-wise errors before summing them, but would be zero for a perfect model .\n",
    "\n",
    "Advantage: Useful if we have unexpected values that we should care about. Vey high or low value that we should pay attention.\n",
    "\n",
    "Disadvantage: If we make a single very bad prediction, the squaring will make the error even worse and it may skew the metric towards overestimating the model’s badness. That is a particularly problematic behaviour if we have noisy data (that is, data that for whatever reason is not entirely reliable) — even a “perfect” model may have a high MSE in that situation, so it becomes hard to judge how well the model is performing. On the other hand, if all the errors are small, or rather, smaller than 1, than the opposite effect is felt: we may underestimate the model’s badness.\n",
    "\n",
    "Note that if we want to have a constant prediction the best one will be the mean value of the target values. It can be found by setting the derivative of our total error with respect to that constant to zero, and find it from this equation.\n",
    "\n",
    "---\n",
    "---\n",
    "\n",
    "#### Comparando MAE e RMSE\n",
    "\n",
    "+ RMSE has the benefit of penalizing large errors more so can be more appropriate in some cases, for example, if being off by 10 is more than twice as bad as being off by 5. But if being off by 10 is just twice as bad as being off by 5, then MAE is more appropriate. From an interpretation standpoint, MAE is clearly the winner. RMSE does not describe average error alone and has other implications that are more difficult to tease out and understand.\n",
    "\n",
    "<img src='../../tree/imgs/metricas-erros/metricas-erros-12.png' width=600px>"
   ]
  },
  {
   "cell_type": "code",
   "execution_count": 31,
   "metadata": {
    "ExecuteTime": {
     "end_time": "2020-01-09T20:09:37.526377Z",
     "start_time": "2020-01-09T20:09:37.508077Z"
    }
   },
   "outputs": [
    {
     "name": "stdout",
     "output_type": "stream",
     "text": [
      "MAE  - MeanAbsoluteError   ==> 123888.44377484432\n",
      "MSE  - MeanSquareError     ==> 42760757001.54226\n",
      "RMSE - RootMeanSquareError ==> 206786.74280896795\n"
     ]
    }
   ],
   "source": [
    "from sklearn.metrics import mean_absolute_error, mean_squared_error, mean_squared_log_error\n",
    "from math import sqrt\n",
    "\n",
    "# MAE\n",
    "mae = mean_absolute_error(y_teste, previsoes)\n",
    "print(\"MAE  - MeanAbsoluteError   ==>\", mae)\n",
    "\n",
    "# MSE\n",
    "mse = mean_squared_error(y_teste, previsoes)\n",
    "print(\"MSE  - MeanSquareError     ==>\", mse)\n",
    "\n",
    "# RMSE\n",
    "print(\"RMSE - RootMeanSquareError ==>\", sqrt(mse))\n",
    "\n",
    "# MSLE - Não pode ser usada em valore negativos\n",
    "# msle = mean_squared_log_error(y_teste, previsoes)\n",
    "# print(\"MSLE - MeanSquareLogError   ==>\", msle)"
   ]
  }
 ],
 "metadata": {
  "kernelspec": {
   "display_name": "Python 3",
   "language": "python",
   "name": "python3"
  },
  "language_info": {
   "codemirror_mode": {
    "name": "ipython",
    "version": 3
   },
   "file_extension": ".py",
   "mimetype": "text/x-python",
   "name": "python",
   "nbconvert_exporter": "python",
   "pygments_lexer": "ipython3",
   "version": "3.7.5"
  }
 },
 "nbformat": 4,
 "nbformat_minor": 2
}
