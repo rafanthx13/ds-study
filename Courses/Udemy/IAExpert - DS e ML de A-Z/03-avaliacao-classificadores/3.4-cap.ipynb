{
 "cells": [
  {
   "cell_type": "markdown",
   "metadata": {},
   "source": [
    "# CAP - Cumulative Accuracy Profile\n",
    "\n",
    "links:\n",
    "+ https://www.geeksforgeeks.org/python-cap-cumulative-accuracy-profile-analysis/\n",
    "+ https://en.wikipedia.org/wiki/Cumulative_accuracy_profile\n",
    "+ https://medium.com/@lotass/classification-models-performance-evaluation-c3a91562793\n",
    "\n",
    "Estudar esse link e rever conteudo\n",
    "+ https://www.listendata.com/2019/09/gini-cumulative-accuracy-profile-auc.html#Cumulative-Accuracy-Profile-CAP-"
   ]
  },
  {
   "cell_type": "markdown",
   "metadata": {},
   "source": [
    "## O que é CAP\n",
    "\n",
    "<img src='../../tree/imgs/img-roc-auc-cap-05.jpg' width=600px>\n",
    "\n",
    "Popularmente chamado de Cumulatie Accuracy Profile (CAP) ou, em contexto de marketing Cumulative Gain Curve ou somente Gain Curve é um gráfico usado para avaliar modelos de classificação.\n",
    "\n",
    "O CAP de um modelo representa o número cumulativo de resultados positivos ao longo do eixo y  (o seja, a classificação correta do modelo para amabas as classes)versus o número cumulativo correspondente de feaures, o eixo x.\n",
    "\n",
    "### Diferença entre ROC e CAP\n",
    "\n",
    "\n",
    "O CAP é distinto da característica de operação do receptor (ROC), que representa a taxa de verdadeiro positivo em relação à taxa de falso positivo.\n",
    "\n",
    "### Significado da plotagem do CAP de `Random Model`\n",
    "\n",
    "O `random plot` é feito sob a suposição de que plotamos o número total de pontos que variam de 0 ao número total de pontos de dados no conjunto de dados. O eixo y foi mantido como o número total de pontos para os quais a variável dependente do nosso conjunto de dados tem o resultado como 1. O gráfico aleatório pode ser entendido como um relacionamento que aumenta linearmente. \n",
    "\n",
    "Um exemplo é um modelo que prevê se um produto é comprado (resultado positivo) por cada indivíduo de um grupo de pessoas (parâmetro de classificação) com base em fatores como sexo, idade, renda etc. Se os membros do grupo forem contatados aleatoriamente, o número acumulado de produtos vendidos aumentaria linearmente em direção a um valor máximo correspondente ao número total de compradores dentro do grupo. \n",
    "\n",
    "Essa distribuição é chamada de `random CAP`.\n",
    "\n",
    "### Significado da plotagem do CAP de `Perfect Model`\n",
    "\n",
    "Em seguida, traçamos o `perfect plot` (ou a linha ideal). \n",
    "\n",
    "Uma previsão perfeita determina exatamente quais membros do grupo comprarão o produto, de modo que o número máximo de produtos vendidos seja alcançado com um número mínimo de chamadas. \n",
    "\n",
    "Isso produz uma linha íngreme na curva CAP que permanece plana quando o máximo é atingido (entrar em contato com todos os outros membros do grupo não levará a mais produtos vendidos), que é o CAP “perfeito”.\n",
    "\n",
    "Um modelo perfeito encontra resultados positivos no mesmo número de tentativas que o número de resultados positivos\n",
    "\n",
    "### Final Analysis\n",
    "\n",
    "#### Content 1\n",
    "\n",
    "In any case, our classifier algorithm should not produce a line that lies under the random line. It is considered to be a really bad model in that case. Since the plotted classifier line is close to the ideal line we can say that our model is a really good fit. Take the area under the perfect plot and call it aP. Take the area under the prediction model and call it aR. Then take the ratio as aR/aP. This ratio is called the Accuracy Rate. The closer is the value to 1, the better the model. This is one way to analyse it.\n",
    "\n",
    "Another way to analyse it would be to project a line from about 50% from the axis on the prediction model and project it on the y-axis. Let us say that we obtain the projection value as X%.\n",
    "\n",
    "Outra maneira de analisar isso seria projetar uma linha a cerca de 50% do eixo no modelo de previsão e projetá-la no eixo y. Digamos que obtemos o valor da projeção em X%.\n",
    "\n",
    "----\n",
    "\n",
    "##### Analisãndo pelo Cálculo (nâo usado)\n",
    "Pegue a área sob a trama perfeita e chame-a de AP. Pegue a área sob o modelo de previsão e chame-a de AR. Então tome a proporção como aR / aP. Essa proporção é chamada de taxa de precisão. Quanto mais próximo o valor de 1, melhor o modelo. Esta é uma maneira de analisá-lo.\n",
    "\n",
    "> The CAP can be used to evaluate a model by comparing the curve to the perfect CAP in which the maximum number of positive outcomes is achieved directly and to the random CAP in which the positive outcomes are distributed equally. A good model will have a CAP between the perfect CAP and the random CAP with a better model tending to the perfect CAP.\n",
    "The accuracy ratio (AR) is defined as the ratio of the area between the model CAP and the random CAP and the area between the perfect CAP and the random CAP.[1] For a successful model the AR has values between zero and one, with a higher value for a stronger model.\n",
    "\n",
    "\n",
    "#### Analisando pelo ponto de 50% no CAP (mais usado)\n",
    "\n",
    "Outra maneira de analisar isso seria projetar uma linha a cerca de 50% do eixo no modelo de previsão e projetá-la no eixo y. Digamos que obtemos o valor da projeção em X%.\n",
    "\n",
    "````\n",
    "-> 60%        : it is a really bad model\n",
    "-> 60%<X<70%  : it is still a bad model but better than the first case obviously\n",
    "-> 70%<X<80%  : it is a good model\n",
    "-> 80%<X<90%  : it is a very good model\n",
    "-> 90%<X<100% : it is extraordinarily good and might be one of the overfitting cases.\n",
    "So according to this analysis, we can determine how accurate our model is.\n",
    "````\n",
    "\n",
    "> Another indication of the model strength is given by the cumulative number of positive outcomes at 50% of the classifying parameter. For a successful model this value should lie between 50% and 100% of the maximum, with a higher percentage for stronger models.\n",
    "\n",
    "<img src='../../tree/imgs/img-roc-auc-cap-06.png' width=600px>\n",
    "\n",
    "\n",
    "\n"
   ]
  },
  {
   "cell_type": "code",
   "execution_count": 1,
   "metadata": {
    "ExecuteTime": {
     "end_time": "2020-01-09T15:23:37.408763Z",
     "start_time": "2020-01-09T15:23:30.906066Z"
    }
   },
   "outputs": [],
   "source": [
    "import pandas as pd\n",
    "import numpy as np\n",
    "import matplotlib.pyplot as plt\n",
    "from matplotlib import pyplot\n",
    "file_path = \"../files/\""
   ]
  },
  {
   "cell_type": "markdown",
   "metadata": {},
   "source": [
    "## PréProcessamento\n",
    "\n",
    "### Base de dados de crédito\n",
    "\n",
    "Base com registro de 2.000 cliente contendo idade, renda e empréstimo.\n",
    "\n",
    "O desafio é: Dado essas features prever se será capaz ou não de pagar o empréstimo.\n",
    "\n",
    "+ `clientid`: Um ID para o cliente\n",
    "    - Variável Categórica Nominal\n",
    "+ `income`: Salário/Renda da pessoa no formato Anual\n",
    "    - Variável Numérica Contínua\n",
    "+ `age`: Idade da pessoa\n",
    "    - Variável Numérica Contínua ou pode ser convertida para Discreta\n",
    "+ `loan`: Quantidade de empréstimo realizado\n",
    "    - Variável Numérica Contínua Classe a ser Prevista\n",
    "+ `default`: (classe)\n",
    "    - 0: Não foi capaz de pagar o empréstimo\n",
    "    - 1: Foi capas de pagar"
   ]
  },
  {
   "cell_type": "code",
   "execution_count": 2,
   "metadata": {
    "ExecuteTime": {
     "end_time": "2020-01-09T15:24:01.094348Z",
     "start_time": "2020-01-09T15:24:00.922344Z"
    }
   },
   "outputs": [
    {
     "data": {
      "text/html": [
       "<div>\n",
       "<style scoped>\n",
       "    .dataframe tbody tr th:only-of-type {\n",
       "        vertical-align: middle;\n",
       "    }\n",
       "\n",
       "    .dataframe tbody tr th {\n",
       "        vertical-align: top;\n",
       "    }\n",
       "\n",
       "    .dataframe thead th {\n",
       "        text-align: right;\n",
       "    }\n",
       "</style>\n",
       "<table border=\"1\" class=\"dataframe\">\n",
       "  <thead>\n",
       "    <tr style=\"text-align: right;\">\n",
       "      <th></th>\n",
       "      <th>i#clientid</th>\n",
       "      <th>income</th>\n",
       "      <th>age</th>\n",
       "      <th>loan</th>\n",
       "      <th>c#default</th>\n",
       "    </tr>\n",
       "  </thead>\n",
       "  <tbody>\n",
       "    <tr>\n",
       "      <th>0</th>\n",
       "      <td>1</td>\n",
       "      <td>66155.925095</td>\n",
       "      <td>59.017015</td>\n",
       "      <td>8106.532131</td>\n",
       "      <td>0</td>\n",
       "    </tr>\n",
       "    <tr>\n",
       "      <th>1</th>\n",
       "      <td>2</td>\n",
       "      <td>34415.153966</td>\n",
       "      <td>48.117153</td>\n",
       "      <td>6564.745018</td>\n",
       "      <td>0</td>\n",
       "    </tr>\n",
       "    <tr>\n",
       "      <th>2</th>\n",
       "      <td>3</td>\n",
       "      <td>57317.170063</td>\n",
       "      <td>63.108049</td>\n",
       "      <td>8020.953296</td>\n",
       "      <td>0</td>\n",
       "    </tr>\n",
       "    <tr>\n",
       "      <th>3</th>\n",
       "      <td>4</td>\n",
       "      <td>42709.534201</td>\n",
       "      <td>45.751972</td>\n",
       "      <td>6103.642260</td>\n",
       "      <td>0</td>\n",
       "    </tr>\n",
       "    <tr>\n",
       "      <th>4</th>\n",
       "      <td>5</td>\n",
       "      <td>66952.688845</td>\n",
       "      <td>18.584336</td>\n",
       "      <td>8770.099235</td>\n",
       "      <td>1</td>\n",
       "    </tr>\n",
       "  </tbody>\n",
       "</table>\n",
       "</div>"
      ],
      "text/plain": [
       "   i#clientid        income        age         loan  c#default\n",
       "0           1  66155.925095  59.017015  8106.532131          0\n",
       "1           2  34415.153966  48.117153  6564.745018          0\n",
       "2           3  57317.170063  63.108049  8020.953296          0\n",
       "3           4  42709.534201  45.751972  6103.642260          0\n",
       "4           5  66952.688845  18.584336  8770.099235          1"
      ]
     },
     "execution_count": 2,
     "metadata": {},
     "output_type": "execute_result"
    }
   ],
   "source": [
    "base = pd.read_csv(file_path + 'credit_data.csv')\n",
    "base.head()"
   ]
  },
  {
   "cell_type": "code",
   "execution_count": 3,
   "metadata": {
    "ExecuteTime": {
     "end_time": "2020-01-09T15:24:04.545364Z",
     "start_time": "2020-01-09T15:24:03.360768Z"
    }
   },
   "outputs": [],
   "source": [
    "# Colocando a média\n",
    "base.loc[base.age < 0, 'age'] = 40.92\n",
    "    \n",
    "# Dividindo as features das classes\n",
    "previsores = base.iloc[:, 1:4].values\n",
    "classe = base.iloc[:, 4].values\n",
    "\n",
    "# Atribuindo a média aos valores NaN\n",
    "from sklearn.impute import SimpleImputer\n",
    "imputer = SimpleImputer(missing_values = np.nan, strategy = 'mean')\n",
    "imputer = imputer.fit(previsores[:, 1:4])\n",
    "previsores[:, 1:4] = imputer.transform(previsores[:, 1:4])\n",
    "\n",
    "# Escalonamento\n",
    "from sklearn.preprocessing import StandardScaler\n",
    "scaler = StandardScaler()\n",
    "previsores = scaler.fit_transform(previsores)\n",
    "\n",
    "# Divisão de 75% da base para treino, e 25% para teste\n",
    "from sklearn.model_selection import train_test_split\n",
    "x_train, x_test, y_train, y_test = train_test_split(\n",
    "    previsores, classe, test_size=0.25, random_state=0)"
   ]
  },
  {
   "cell_type": "markdown",
   "metadata": {},
   "source": [
    "### Classificadores e seus respsctivos terinamentos"
   ]
  },
  {
   "cell_type": "code",
   "execution_count": 4,
   "metadata": {
    "ExecuteTime": {
     "end_time": "2020-01-09T15:24:10.535070Z",
     "start_time": "2020-01-09T15:24:06.678046Z"
    }
   },
   "outputs": [
    {
     "name": "stdout",
     "output_type": "stream",
     "text": [
      "NaiveBayes 0.938\n",
      "DecisionTree 0.98\n",
      "LogisticRegression 0.946\n",
      "SVM 0.988\n",
      "KNN 0.986\n",
      "RandomForest 0.984\n",
      "MultiLayerNeuralNet 0.992\n"
     ]
    },
    {
     "name": "stderr",
     "output_type": "stream",
     "text": [
      "/home/rhavel/anaconda3/lib/python3.7/site-packages/sklearn/neural_network/_multilayer_perceptron.py:571: ConvergenceWarning: Stochastic Optimizer: Maximum iterations (200) reached and the optimization hasn't converged yet.\n",
      "  % self.max_iter, ConvergenceWarning)\n"
     ]
    }
   ],
   "source": [
    "from sklearn.metrics import accuracy_score\n",
    "\n",
    "# Classificador NaiveBaye\n",
    "from sklearn.naive_bayes import GaussianNB\n",
    "model_naive_bayes = GaussianNB()\n",
    "model_naive_bayes.fit(x_train, y_train)\n",
    "predicts = model_naive_bayes.predict(x_test)\n",
    "print(\"NaiveBayes\", accuracy_score(y_test, predicts))\n",
    "\n",
    "# Classificador Árvore de Decisão\n",
    "from sklearn.tree import DecisionTreeClassifier\n",
    "model_decision_tree = DecisionTreeClassifier()\n",
    "model_decision_tree.fit(x_train, y_train)\n",
    "predicts = model_decision_tree.predict(x_test)\n",
    "print(\"DecisionTree\", accuracy_score(y_test, predicts))\n",
    "\n",
    "# Classificador Regressão Logística\n",
    "from sklearn.linear_model import LogisticRegression\n",
    "model_logistc_regression = LogisticRegression()\n",
    "model_logistc_regression.fit(x_train, y_train)\n",
    "predicts = model_logistc_regression.predict(x_test)\n",
    "print(\"LogisticRegression\", accuracy_score(y_test, predicts))\n",
    "\n",
    "# Classificador SVM\n",
    "from sklearn.svm import SVC\n",
    "model_svm = SVC(kernel = 'rbf', random_state = 1, C = 2.0, probability=True)\n",
    "model_svm.fit(x_train, y_train)\n",
    "predicts = model_svm.predict(x_test)\n",
    "print(\"SVM\", accuracy_score(y_test, predicts))\n",
    "\n",
    "# Classificador KNN\n",
    "from sklearn.neighbors import KNeighborsClassifier\n",
    "model_knn = KNeighborsClassifier(n_neighbors=5, metric='minkowski', p = 2)\n",
    "model_knn.fit(x_train, y_train)\n",
    "predicts = model_knn.predict(x_test)\n",
    "print(\"KNN\", accuracy_score(y_test, predicts))\n",
    "\n",
    "# Classificador Floresta Randômica\n",
    "from sklearn.ensemble import RandomForestClassifier\n",
    "model_random_forest = RandomForestClassifier(n_estimators=40, criterion='entropy', random_state=0)\n",
    "model_random_forest.fit(x_train, y_train)\n",
    "predicts = model_random_forest.predict(x_test)\n",
    "print(\"RandomForest\", accuracy_score(y_test, predicts))\n",
    "\n",
    "# Classificador Redes Neurais Múltiplas camadas\n",
    "from sklearn.neural_network import MLPClassifier\n",
    "model_neural_net = MLPClassifier( max_iter = 200,\n",
    "                      tol = 0.00010, solver='adam',\n",
    "                      hidden_layer_sizes=(100), activation = 'relu',\n",
    "                      batch_size=200, learning_rate_init=0.001, verbose = False)\n",
    "model_neural_net.fit(x_train, y_train)\n",
    "predicts = model_neural_net.predict(x_test)\n",
    "print(\"MultiLayerNeuralNet\", accuracy_score(y_test, predicts))\n",
    "\n",
    "# Join de todos os classificadores\n",
    "models_list = [model_naive_bayes, model_decision_tree, model_svm, model_knn, \n",
    "               model_random_forest, model_neural_net]"
   ]
  },
  {
   "cell_type": "markdown",
   "metadata": {},
   "source": [
    "## Fazendo CAP Individual"
   ]
  },
  {
   "cell_type": "code",
   "execution_count": 5,
   "metadata": {
    "ExecuteTime": {
     "end_time": "2020-01-09T15:24:12.617048Z",
     "start_time": "2020-01-09T15:24:12.602210Z"
    }
   },
   "outputs": [
    {
     "name": "stdout",
     "output_type": "stream",
     "text": [
      "total: 500\n",
      "class_1_count: 64\n",
      "class_0_count: 436\n"
     ]
    }
   ],
   "source": [
    "# Calcular quantidade de elementos de cada classe (as classe sâo numéricas)\n",
    "\n",
    "total = len(y_test)\n",
    "print(\"total:\", total)\n",
    "\n",
    "class_1_count = np.sum(y_test)\n",
    "print(\"class_1_count:\", class_1_count)\n",
    "\n",
    "class_0_count = total - class_1_count\n",
    "print(\"class_0_count:\", class_0_count)"
   ]
  },
  {
   "cell_type": "code",
   "execution_count": 6,
   "metadata": {
    "ExecuteTime": {
     "end_time": "2020-01-09T15:24:15.091028Z",
     "start_time": "2020-01-09T15:24:15.076493Z"
    }
   },
   "outputs": [],
   "source": [
    "# Preparando dados para Reta do Classificador\n",
    "probs = model_naive_bayes.predict_proba(x_test)\n",
    "probs = probs[:, 1]\n",
    "model_y = [y for _, y in sorted(zip(probs, y_test), reverse = True)]\n",
    "y_values = np.append([0], np.cumsum(model_y))\n",
    "x_values = np.arange(0, total + 1)"
   ]
  },
  {
   "cell_type": "code",
   "execution_count": 10,
   "metadata": {
    "ExecuteTime": {
     "end_time": "2020-01-09T15:28:26.875489Z",
     "start_time": "2020-01-09T15:28:26.863509Z"
    }
   },
   "outputs": [],
   "source": [
    "# Pegar os valores para o CAP para qualquer modelo\n",
    "def x_y_cap_data(model, x_test, y_test, total, classe = 1):\n",
    "    probs = model.predict_proba(x_test)\n",
    "    probs = probs[:, 1]\n",
    "    model_y = [y for _, y in sorted(zip(probs, y_test), reverse = True)]\n",
    "    y_values = np.append([0], np.cumsum(model_y))\n",
    "    x_values = np.arange(0, total + 1)\n",
    "    return x_values, y_values    "
   ]
  },
  {
   "cell_type": "code",
   "execution_count": 14,
   "metadata": {
    "ExecuteTime": {
     "end_time": "2020-01-09T15:32:23.982304Z",
     "start_time": "2020-01-09T15:32:23.543703Z"
    }
   },
   "outputs": [
    {
     "data": {
      "text/plain": [
       "<matplotlib.legend.Legend at 0x7f9e13e58fd0>"
      ]
     },
     "execution_count": 14,
     "metadata": {},
     "output_type": "execute_result"
    },
    {
     "data": {
      "image/png": "[encoded data removed]",
      "text/plain": [
       "<Figure size 432x288 with 1 Axes>"
      ]
     },
     "metadata": {
      "needs_background": "light"
     },
     "output_type": "display_data"
    }
   ],
   "source": [
    "# Plot Random Model\n",
    "plt.plot([0, total], [0, class_1_count], \n",
    "         c = 'black', linewidth = 2, label = 'Random Model', linestyle = '--')\n",
    "\n",
    "# Plot Perfect Model\n",
    "plt.plot([0, class_1_count, total], [0, class_1_count, class_1_count], \n",
    "         c = 'grey', linewidth = 5, label = 'Perfect Model')\n",
    "\n",
    "# Plot Navies Bayes Model\n",
    "plt.plot(x_values, y_values, \n",
    "         c = 'b',  linewidth = 3, label = 'Navies Bayes')\n",
    "\n",
    "\n",
    "# Plot LogisticRegression\n",
    "x_v, y_v = x_y_cap_data(model_logistc_regression, x_test, y_test, total, classe = 1)\n",
    "plt.plot(x_v, y_v, \n",
    "         c = 'green',  linewidth = 4, label = 'Logistic Regression')\n",
    "\n",
    "\n",
    "# Plot NeuralNet\n",
    "x_v, y_v = x_y_cap_data(model_neural_net, x_test, y_test, total, classe = 1)\n",
    "plt.plot(x_v, y_v, \n",
    "         c = 'red',  linewidth = 3, label = 'Neural Net')\n",
    "\n",
    "# Plot information\n",
    "plt.xlabel('Total observations', fontsize = 16)\n",
    "plt.ylabel('Class 1 observations', fontsize = 16)\n",
    "plt.title('Cumulative Accuracy Profile', fontsize = 16)\n",
    "plt.legend(loc = 'lower right', fontsize = 16)"
   ]
  },
  {
   "cell_type": "markdown",
   "metadata": {},
   "source": [
    "**Descrevendo o Gráfico CAP**\n",
    "\n",
    "X = O número de Observações:\n",
    "Y = Classes 1 da base"
   ]
  },
  {
   "cell_type": "markdown",
   "metadata": {},
   "source": [
    "## CAP Analysis using Area Under Curve\n",
    "\n",
    "Da mesma coisa que na curva ROC, é uma forma de resumir a curva CAP em um valor numérico.\n",
    "\n",
    "The first method to analyse the CAP Curve is using Area Under Curve. Let’s consider area under random model as a. We calculate the Accuracy Rate using the following steps:\n",
    "\n",
    "+ Calculate the area under the perfect model (aP) till the random model (a)\n",
    "+ Calculate the area under the prediction model (aR) till the random model (a)\n",
    "+ Calculate Accuracy Rate (AR) = aR / aP\n",
    "\n",
    "The closer the Accuracy Rate is to the 1, better is the model."
   ]
  },
  {
   "cell_type": "code",
   "execution_count": 16,
   "metadata": {
    "ExecuteTime": {
     "end_time": "2020-01-09T15:37:11.050254Z",
     "start_time": "2020-01-09T15:37:11.034678Z"
    }
   },
   "outputs": [
    {
     "name": "stdout",
     "output_type": "stream",
     "text": [
      "Accuracy Rate for Naive Bayes: 0.937141628440367\n"
     ]
    }
   ],
   "source": [
    "# Lembrando que AUC (área sobre a curva) nâo é própria do ROC e sim de qualquer gráfico\n",
    "from sklearn.metrics import auc\n",
    "\n",
    "# Area under Random Model\n",
    "a = auc([0, total], [0, class_1_count])\n",
    "\n",
    "# Area between Perfect and Random Model\n",
    "aP = auc([0, class_1_count, total], [0, class_1_count, class_1_count]) - a\n",
    "\n",
    "# Area between Trained and Random Model\n",
    "aR = auc(x_values, y_values) - a\n",
    "\n",
    "print(\"Accuracy Rate for Naive Bayes: {}\".format(aR / aP))"
   ]
  },
  {
   "cell_type": "code",
   "execution_count": null,
   "metadata": {},
   "outputs": [],
   "source": []
  }
 ],
 "metadata": {
  "kernelspec": {
   "display_name": "Python 3",
   "language": "python",
   "name": "python3"
  },
  "language_info": {
   "codemirror_mode": {
    "name": "ipython",
    "version": 3
   },
   "file_extension": ".py",
   "mimetype": "text/x-python",
   "name": "python",
   "nbconvert_exporter": "python",
   "pygments_lexer": "ipython3",
   "version": "3.7.5"
  }
 },
 "nbformat": 4,
 "nbformat_minor": 2
}
