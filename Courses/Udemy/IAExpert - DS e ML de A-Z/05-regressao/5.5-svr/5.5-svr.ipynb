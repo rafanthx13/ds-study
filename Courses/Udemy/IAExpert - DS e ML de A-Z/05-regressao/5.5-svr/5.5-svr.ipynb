{
 "cells": [
  {
   "cell_type": "markdown",
   "metadata": {},
   "source": [
    "# Support Vector Regression (SVR)\n",
    "\n",
    "A ideia é muito parecida com o SVR.\n",
    "\n",
    "Mais difícil para fazer previsões.\n",
    "\n",
    "Possui o parâmetro epsilon\n",
    "+ Penalidade para o valor real\n",
    "\n",
    "Lembrando que a ideia é encontrar o melhor hiperplano, \n",
    "\n",
    "**SVR Kernel**\n",
    "\n",
    "Da mesma forma que a classificaçâo, temos o Kernelt trick, para altarar a dimensionalidade e asism encontar rmelhor o hiperplano para **PROBLEMAS NÂO LINEARES**\n",
    "\n",
    "---\n",
    "\n",
    "Nos nossos exemplos, vamos motrar diversos kernels diferentes"
   ]
  },
  {
   "cell_type": "code",
   "execution_count": 2,
   "metadata": {
    "ExecuteTime": {
     "end_time": "2020-01-04T02:38:02.632258Z",
     "start_time": "2020-01-04T02:38:00.772096Z"
    }
   },
   "outputs": [],
   "source": [
    "import pandas as pd\n",
    "import numpy as np\n",
    "import matplotlib.pyplot as plt\n",
    "file_path = \"../../files/\""
   ]
  },
  {
   "cell_type": "markdown",
   "metadata": {},
   "source": [
    "## Base `plano-saude2`"
   ]
  },
  {
   "cell_type": "code",
   "execution_count": 4,
   "metadata": {
    "ExecuteTime": {
     "end_time": "2020-01-04T02:38:12.678449Z",
     "start_time": "2020-01-04T02:38:12.662147Z"
    }
   },
   "outputs": [],
   "source": [
    "base = pd.read_csv(file_path + 'plano_saude2.csv')\n",
    "\n",
    "X = base.iloc[:, 0:1].values\n",
    "y = base.iloc[:, 1:2].values"
   ]
  },
  {
   "cell_type": "markdown",
   "metadata": {},
   "source": [
    "### kernel linear"
   ]
  },
  {
   "cell_type": "code",
   "execution_count": 5,
   "metadata": {
    "ExecuteTime": {
     "end_time": "2020-01-04T02:38:30.274523Z",
     "start_time": "2020-01-04T02:38:28.797202Z"
    }
   },
   "outputs": [
    {
     "data": {
      "text/plain": [
       "SVR(C=1.0, cache_size=200, coef0=0.0, degree=3, epsilon=0.1, gamma='scale',\n",
       "    kernel='linear', max_iter=-1, shrinking=True, tol=0.001, verbose=False)"
      ]
     },
     "execution_count": 5,
     "metadata": {},
     "output_type": "execute_result"
    }
   ],
   "source": [
    "# kernel linear\n",
    "from sklearn.svm import SVR\n",
    "regressor_linear = SVR(kernel = 'linear')\n",
    "regressor_linear.fit(X, y.ravel())"
   ]
  },
  {
   "cell_type": "code",
   "execution_count": 6,
   "metadata": {
    "ExecuteTime": {
     "end_time": "2020-01-04T02:38:32.342071Z",
     "start_time": "2020-01-04T02:38:32.015653Z"
    }
   },
   "outputs": [
    {
     "data": {
      "text/plain": [
       "0.294299767185203"
      ]
     },
     "execution_count": 6,
     "metadata": {},
     "output_type": "execute_result"
    },
    {
     "data": {
      "image/png": "[encoded data removed]",
      "text/plain": [
       "<Figure size 432x288 with 1 Axes>"
      ]
     },
     "metadata": {
      "needs_background": "light"
     },
     "output_type": "display_data"
    }
   ],
   "source": [
    "import matplotlib.pyplot as plt\n",
    "plt.scatter(X, y)\n",
    "plt.plot(X, regressor_linear.predict(X), color = 'red')\n",
    "regressor_linear.score(X, y)"
   ]
  },
  {
   "cell_type": "markdown",
   "metadata": {},
   "source": [
    "### kernel poly"
   ]
  },
  {
   "cell_type": "code",
   "execution_count": 7,
   "metadata": {
    "ExecuteTime": {
     "end_time": "2020-01-04T02:38:48.246494Z",
     "start_time": "2020-01-04T02:38:46.199910Z"
    }
   },
   "outputs": [
    {
     "data": {
      "text/plain": [
       "SVR(C=1.0, cache_size=200, coef0=0.0, degree=3, epsilon=0.1, gamma='auto',\n",
       "    kernel='poly', max_iter=-1, shrinking=True, tol=0.001, verbose=False)"
      ]
     },
     "execution_count": 7,
     "metadata": {},
     "output_type": "execute_result"
    }
   ],
   "source": [
    "# kernel poly\n",
    "regressor_poly = SVR(kernel = 'poly', degree = 3, gamma = 'auto')\n",
    "regressor_poly.fit(X, y.ravel())"
   ]
  },
  {
   "cell_type": "code",
   "execution_count": 8,
   "metadata": {
    "ExecuteTime": {
     "end_time": "2020-01-04T02:38:51.005019Z",
     "start_time": "2020-01-04T02:38:50.680089Z"
    }
   },
   "outputs": [
    {
     "data": {
      "text/plain": [
       "0.6275190348194816"
      ]
     },
     "execution_count": 8,
     "metadata": {},
     "output_type": "execute_result"
    },
    {
     "data": {
      "image/png": "[encoded data removed]",
      "text/plain": [
       "<Figure size 432x288 with 1 Axes>"
      ]
     },
     "metadata": {
      "needs_background": "light"
     },
     "output_type": "display_data"
    }
   ],
   "source": [
    "plt.scatter(X, y)\n",
    "plt.plot(X, regressor_poly.predict(X), color = 'red')\n",
    "regressor_poly.score(X, y)"
   ]
  },
  {
   "cell_type": "markdown",
   "metadata": {},
   "source": [
    "### kernel rbf"
   ]
  },
  {
   "cell_type": "code",
   "execution_count": 9,
   "metadata": {
    "ExecuteTime": {
     "end_time": "2020-01-04T02:39:15.467328Z",
     "start_time": "2020-01-04T02:39:15.455784Z"
    }
   },
   "outputs": [],
   "source": [
    "# kernel rbf\n",
    "from sklearn.preprocessing import StandardScaler\n",
    "scaler_x = StandardScaler()\n",
    "X = scaler_x.fit_transform(X)\n",
    "scaler_y = StandardScaler()\n",
    "y = scaler_y.fit_transform(y)"
   ]
  },
  {
   "cell_type": "code",
   "execution_count": 10,
   "metadata": {
    "ExecuteTime": {
     "end_time": "2020-01-04T02:39:16.040964Z",
     "start_time": "2020-01-04T02:39:16.032151Z"
    }
   },
   "outputs": [
    {
     "data": {
      "text/plain": [
       "SVR(C=1.0, cache_size=200, coef0=0.0, degree=3, epsilon=0.1, gamma='auto',\n",
       "    kernel='rbf', max_iter=-1, shrinking=True, tol=0.001, verbose=False)"
      ]
     },
     "execution_count": 10,
     "metadata": {},
     "output_type": "execute_result"
    }
   ],
   "source": [
    "regressor_rbf = SVR(kernel = 'rbf', gamma = 'auto')\n",
    "regressor_rbf.fit(X, y.ravel())"
   ]
  },
  {
   "cell_type": "code",
   "execution_count": 11,
   "metadata": {
    "ExecuteTime": {
     "end_time": "2020-01-04T02:39:17.029014Z",
     "start_time": "2020-01-04T02:39:16.686507Z"
    }
   },
   "outputs": [
    {
     "data": {
      "text/plain": [
       "0.7561578176049305"
      ]
     },
     "execution_count": 11,
     "metadata": {},
     "output_type": "execute_result"
    },
    {
     "data": {
      "image/png": "[encoded data removed]",
      "text/plain": [
       "<Figure size 432x288 with 1 Axes>"
      ]
     },
     "metadata": {
      "needs_background": "light"
     },
     "output_type": "display_data"
    }
   ],
   "source": [
    "plt.scatter(X, y)\n",
    "plt.plot(X, regressor_rbf.predict(X), color = 'red')\n",
    "regressor_rbf.score(X, y)"
   ]
  },
  {
   "cell_type": "code",
   "execution_count": 12,
   "metadata": {
    "ExecuteTime": {
     "end_time": "2020-01-04T02:39:41.730215Z",
     "start_time": "2020-01-04T02:39:41.712886Z"
    }
   },
   "outputs": [],
   "source": [
    "previsao1 = scaler_y.inverse_transform(regressor_linear.predict(scaler_x.transform(np.array(40).reshape(1, -1))))\n",
    "previsao2 = scaler_y.inverse_transform(regressor_poly.predict(scaler_x.transform(np.array(40).reshape(1, -1))))\n",
    "previsao3 = scaler_y.inverse_transform(regressor_rbf.predict(scaler_x.transform(np.array(40).reshape(1, -1))))"
   ]
  },
  {
   "cell_type": "markdown",
   "metadata": {},
   "source": [
    "## Base `house_prices`"
   ]
  },
  {
   "cell_type": "code",
   "execution_count": 15,
   "metadata": {
    "ExecuteTime": {
     "end_time": "2020-01-04T02:40:51.622584Z",
     "start_time": "2020-01-04T02:40:51.382861Z"
    }
   },
   "outputs": [],
   "source": [
    "base = pd.read_csv(file_path + 'house-prices.csv')\n",
    "\n",
    "X = base.iloc[:, 3:19].values\n",
    "y = base.iloc[:, 2:3].values\n",
    "\n",
    "from sklearn.preprocessing import StandardScaler\n",
    "scaler_x = StandardScaler()\n",
    "X = scaler_x.fit_transform(X)\n",
    "scaler_y = StandardScaler()\n",
    "y = scaler_y.fit_transform(y)\n",
    "\n",
    "from sklearn.model_selection import train_test_split\n",
    "X_treinamento, X_teste, y_treinamento, y_teste = train_test_split(\n",
    "    X, y, test_size = 0.3, random_state = 0)"
   ]
  },
  {
   "cell_type": "code",
   "execution_count": 18,
   "metadata": {
    "ExecuteTime": {
     "end_time": "2020-01-04T02:46:46.626988Z",
     "start_time": "2020-01-04T02:46:11.140465Z"
    }
   },
   "outputs": [
    {
     "name": "stderr",
     "output_type": "stream",
     "text": [
      "/home/rhavel/anaconda3/lib/python3.7/site-packages/sklearn/utils/validation.py:744: DataConversionWarning: A column-vector y was passed when a 1d array was expected. Please change the shape of y to (n_samples, ), for example using ravel().\n",
      "  y = column_or_1d(y, warn=True)\n"
     ]
    },
    {
     "name": "stdout",
     "output_type": "stream",
     "text": [
      "Score Treinamento 0.8123465093269253\n"
     ]
    }
   ],
   "source": [
    "from sklearn.svm import SVR\n",
    "regressor = SVR(kernel = 'rbf')\n",
    "regressor.fit(X_treinamento, y_treinamento)\n",
    "score = regressor.score(X_treinamento, y_treinamento)\n",
    "print(\"Score Treinamento\", score)"
   ]
  },
  {
   "cell_type": "code",
   "execution_count": null,
   "metadata": {},
   "outputs": [],
   "source": [
    "regressor.score(X_teste, y_teste)"
   ]
  },
  {
   "cell_type": "code",
   "execution_count": null,
   "metadata": {},
   "outputs": [],
   "source": [
    "previsoes = regressor.predict(X_teste)\n",
    "y_teste = scaler_y.inverse_transform(y_teste)\n",
    "previsoes = scaler_y.inverse_transform(previsoes)\n",
    "\n",
    "from sklearn.metrics import mean_absolute_error\n",
    "mae = mean_absolute_error(y_teste, previsoes)"
   ]
  },
  {
   "cell_type": "markdown",
   "metadata": {},
   "source": [
    "## Base English ML-AZ `Position_Salaries`"
   ]
  },
  {
   "cell_type": "code",
   "execution_count": 20,
   "metadata": {
    "ExecuteTime": {
     "end_time": "2020-01-04T02:47:38.675977Z",
     "start_time": "2020-01-04T02:47:38.521478Z"
    }
   },
   "outputs": [],
   "source": [
    "# Importing the dataset\n",
    "dataset = pd.read_csv(file_path + 'Position_Salaries.csv')\n",
    "X = dataset.iloc[:, 1:2].values\n",
    "y = dataset.iloc[:, 2].values\n",
    "\n",
    "# Splitting the dataset into the Training set and Test set\n",
    "\"\"\"from sklearn.model_selection import train_test_split\n",
    "X_train, X_test, y_train, y_test = train_test_split(X, y, test_size = 0.2, random_state = 0)\"\"\"\n",
    "\n",
    "# Feature Scaling\n",
    "from sklearn.preprocessing import StandardScaler\n",
    "sc_X = StandardScaler()\n",
    "sc_y = StandardScaler()\n",
    "X = sc_X.fit_transform(X)\n",
    "y = sc_y.fit_transform(y.reshape(-1,1))"
   ]
  },
  {
   "cell_type": "code",
   "execution_count": 21,
   "metadata": {
    "ExecuteTime": {
     "end_time": "2020-01-04T02:47:41.061101Z",
     "start_time": "2020-01-04T02:47:41.045600Z"
    }
   },
   "outputs": [
    {
     "name": "stderr",
     "output_type": "stream",
     "text": [
      "/home/rhavel/anaconda3/lib/python3.7/site-packages/sklearn/utils/validation.py:744: DataConversionWarning: A column-vector y was passed when a 1d array was expected. Please change the shape of y to (n_samples, ), for example using ravel().\n",
      "  y = column_or_1d(y, warn=True)\n"
     ]
    },
    {
     "data": {
      "text/plain": [
       "SVR(C=1.0, cache_size=200, coef0=0.0, degree=3, epsilon=0.1, gamma='scale',\n",
       "    kernel='rbf', max_iter=-1, shrinking=True, tol=0.001, verbose=False)"
      ]
     },
     "execution_count": 21,
     "metadata": {},
     "output_type": "execute_result"
    }
   ],
   "source": [
    "# Fitting SVR to the dataset\n",
    "from sklearn.svm import SVR\n",
    "regressor = SVR(kernel = 'rbf')\n",
    "regressor.fit(X, y)"
   ]
  },
  {
   "cell_type": "code",
   "execution_count": 22,
   "metadata": {
    "ExecuteTime": {
     "end_time": "2020-01-04T02:47:42.883029Z",
     "start_time": "2020-01-04T02:47:42.876758Z"
    }
   },
   "outputs": [],
   "source": [
    "# Predicting a new result\n",
    "y_pred = regressor.predict([[6.5]])\n",
    "y_pred = sc_y.inverse_transform(y_pred)"
   ]
  },
  {
   "cell_type": "code",
   "execution_count": 23,
   "metadata": {
    "ExecuteTime": {
     "end_time": "2020-01-04T02:47:45.446493Z",
     "start_time": "2020-01-04T02:47:45.018512Z"
    }
   },
   "outputs": [
    {
     "data": {
      "image/png": "[encoded data removed]",
      "text/plain": [
       "<Figure size 432x288 with 1 Axes>"
      ]
     },
     "metadata": {
      "needs_background": "light"
     },
     "output_type": "display_data"
    }
   ],
   "source": [
    "# Visualising the SVR results\n",
    "plt.scatter(X, y, color = 'red')\n",
    "plt.plot(X, regressor.predict(X), color = 'blue')\n",
    "plt.title('Truth or Bluff (SVR)')\n",
    "plt.xlabel('Position level')\n",
    "plt.ylabel('Salary')\n",
    "plt.show()"
   ]
  },
  {
   "cell_type": "code",
   "execution_count": 24,
   "metadata": {
    "ExecuteTime": {
     "end_time": "2020-01-04T02:47:47.484382Z",
     "start_time": "2020-01-04T02:47:47.187851Z"
    }
   },
   "outputs": [
    {
     "data": {
      "image/png": "[encoded data removed]",
      "text/plain": [
       "<Figure size 432x288 with 1 Axes>"
      ]
     },
     "metadata": {
      "needs_background": "light"
     },
     "output_type": "display_data"
    }
   ],
   "source": [
    "# Visualising the SVR results (for higher resolution and smoother curve)\n",
    "X_grid = np.arange(min(X), max(X), 0.01) # choice of 0.01 instead of 0.1 step because the data is feature scaled\n",
    "X_grid = X_grid.reshape((len(X_grid), 1))\n",
    "plt.scatter(X, y, color = 'red')\n",
    "plt.plot(X_grid, regressor.predict(X_grid), color = 'blue')\n",
    "plt.title('Truth or Bluff (SVR)')\n",
    "plt.xlabel('Position level')\n",
    "plt.ylabel('Salary')\n",
    "plt.show()"
   ]
  },
  {
   "cell_type": "markdown",
   "metadata": {},
   "source": [
    "## Questions English ML-AZ SVR\n",
    "\n",
    "### SVR Intuition\n",
    "\n",
    "When should I use SVR?\n",
    "\n",
    "You should use SVR if a linear model like linear regression doesn’t fit very well your data. This would mean\n",
    "you are dealing with a non linear problem, where your data is not linearly distributed. Therefore in that\n",
    "case SVR could be a much better solution.\n",
    "\n",
    "I didn’t understand the Intuition Lecture. Am I in trouble?\n",
    "\n",
    "Not at all. SVR is a pretty abstract model and besides it is not that commonly used. What you must rather\n",
    "understand is the SVM model, which you will see in Part 3 - Classification. Then once you understand the\n",
    "SVM model, you will get a better grasp of the SVR model, since the SVR is simply the SVM for Regression.\n",
    "However we wanted to include SVR in this course to give you an extra option in your Machine Learning\n",
    "toolkit.\n",
    "\n",
    "### SVR in Python\n",
    "\n",
    "Why do we need to ’sc_Y.inverse_transform’ ?\n",
    "\n",
    "We need the inverse_transform method to go back to the original scale. Indeed we applied feature scaling\n",
    "so we get this scale around 0 and if we make a prediction without inversing the scale we will get the\n",
    "scaled predicted salary. And of course we want the real salary, not the scaled one, so we have to use\n",
    "’sc_Y.inverse_transform’. Also what is important to understand is that ’transform’ and ’inverse_transform’\n",
    "are paired methods."
   ]
  }
 ],
 "metadata": {
  "kernelspec": {
   "display_name": "Python 3",
   "language": "python",
   "name": "python3"
  },
  "language_info": {
   "codemirror_mode": {
    "name": "ipython",
    "version": 3
   },
   "file_extension": ".py",
   "mimetype": "text/x-python",
   "name": "python",
   "nbconvert_exporter": "python",
   "pygments_lexer": "ipython3",
   "version": "3.7.5"
  }
 },
 "nbformat": 4,
 "nbformat_minor": 2
}
