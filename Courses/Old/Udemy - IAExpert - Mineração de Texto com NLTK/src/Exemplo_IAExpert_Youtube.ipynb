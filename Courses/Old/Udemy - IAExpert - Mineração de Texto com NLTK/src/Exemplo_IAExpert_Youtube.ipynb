{
 "cells": [
  {
   "cell_type": "code",
   "execution_count": 5,
   "metadata": {},
   "outputs": [],
   "source": [
    "import nltk\n",
    "import numpy"
   ]
  },
  {
   "cell_type": "markdown",
   "metadata": {},
   "source": [
    "`ntlk.download()`: Serve para baixar todos os pacotes do ntlk, pois, quando você baixa por pip/conda, nâo vai baixar esses outros pacotes}"
   ]
  },
  {
   "cell_type": "markdown",
   "metadata": {},
   "source": [
    "## Link: [Introdução ao NLTK na Prática](https://www.youtube.com/watch?v=siVUal-TeMc)\n"
   ]
  },
  {
   "cell_type": "code",
   "execution_count": 1,
   "metadata": {},
   "outputs": [],
   "source": [
    "#ntlk.downlaod()"
   ]
  },
  {
   "cell_type": "code",
   "execution_count": 2,
   "metadata": {},
   "outputs": [],
   "source": [
    "texto = 'Mr. Green killed Coronel Mostard in the study with candlestick. Mr. Green is not a very nice follow'"
   ]
  },
  {
   "cell_type": "markdown",
   "metadata": {},
   "source": [
    "### Separando o Texto Em frases"
   ]
  },
  {
   "cell_type": "code",
   "execution_count": 4,
   "metadata": {},
   "outputs": [
    {
     "data": {
      "text/plain": [
       "['Mr',\n",
       " ' Green killed Coronel Mostard in the study with candlestick',\n",
       " ' Mr',\n",
       " ' Green is not a very nice follow']"
      ]
     },
     "execution_count": 4,
     "metadata": {},
     "output_type": "execute_result"
    }
   ],
   "source": [
    "# Da forma normal por python\n",
    "frases_manual = texto.split('.')\n",
    "frases_manual"
   ]
  },
  {
   "cell_type": "code",
   "execution_count": 6,
   "metadata": {},
   "outputs": [
    {
     "data": {
      "text/plain": [
       "['Mr. Green killed Coronel Mostard in the study with candlestick.',\n",
       " 'Mr. Green is not a very nice follow']"
      ]
     },
     "execution_count": 6,
     "metadata": {},
     "output_type": "execute_result"
    }
   ],
   "source": [
    "# Usando NLTK\n",
    "frases_nltk = nltk.tokenize.sent_tokenize(texto)\n",
    "frases_nltk"
   ]
  },
  {
   "cell_type": "markdown",
   "metadata": {},
   "source": [
    "### Separando em Tokens\n",
    "+ Divide por ' '"
   ]
  },
  {
   "cell_type": "code",
   "execution_count": 9,
   "metadata": {},
   "outputs": [
    {
     "name": "stdout",
     "output_type": "stream",
     "text": [
      "['Mr.', 'Green', 'killed', 'Coronel', 'Mostard', 'in', 'the', 'study', 'with', 'candlestick', '.', 'Mr.', 'Green', 'is', 'not', 'a', 'very', 'nice', 'follow']\n"
     ]
    }
   ],
   "source": [
    "tokens = nltk.word_tokenize(texto)\n",
    "print(tokens)"
   ]
  },
  {
   "cell_type": "markdown",
   "metadata": {},
   "source": [
    "### Classes\n",
    "+ Coloca a classe gramatical em cada uma das palavras\n",
    "+ [Link com os significados de cada palavra](https://cs.nyu.edu/grishman/jet/guide/PennPOS.html)\n",
    " - Perceba que Grren foi classificado como Substantivo, e nâo como adjetivo. Essa sutiliza é interresante\n"
   ]
  },
  {
   "cell_type": "code",
   "execution_count": 10,
   "metadata": {},
   "outputs": [
    {
     "data": {
      "text/plain": [
       "[('Mr.', 'NNP'),\n",
       " ('Green', 'NNP'),\n",
       " ('killed', 'VBD'),\n",
       " ('Coronel', 'NNP'),\n",
       " ('Mostard', 'NNP'),\n",
       " ('in', 'IN'),\n",
       " ('the', 'DT'),\n",
       " ('study', 'NN'),\n",
       " ('with', 'IN'),\n",
       " ('candlestick', 'NN'),\n",
       " ('.', '.'),\n",
       " ('Mr.', 'NNP'),\n",
       " ('Green', 'NNP'),\n",
       " ('is', 'VBZ'),\n",
       " ('not', 'RB'),\n",
       " ('a', 'DT'),\n",
       " ('very', 'RB'),\n",
       " ('nice', 'JJ'),\n",
       " ('follow', 'NN')]"
      ]
     },
     "execution_count": 10,
     "metadata": {},
     "output_type": "execute_result"
    }
   ],
   "source": [
    "classes = nltk.pos_tag(tokens)\n",
    "classes"
   ]
  },
  {
   "cell_type": "markdown",
   "metadata": {},
   "source": [
    "### Detecçâo de entidades\n",
    "+ Identificar objetos em um texto"
   ]
  },
  {
   "cell_type": "code",
   "execution_count": 15,
   "metadata": {},
   "outputs": [
    {
     "name": "stdout",
     "output_type": "stream",
     "text": [
      "(S\n",
      "  (PERSON Mr./NNP)\n",
      "  (PERSON Green/NNP)\n",
      "  killed/VBD\n",
      "  (ORGANIZATION Coronel/NNP Mostard/NNP)\n",
      "  in/IN\n",
      "  the/DT\n",
      "  study/NN\n",
      "  with/IN\n",
      "  candlestick/NN\n",
      "  ./.\n",
      "  (PERSON Mr./NNP Green/NNP)\n",
      "  is/VBZ\n",
      "  not/RB\n",
      "  a/DT\n",
      "  very/RB\n",
      "  nice/JJ\n",
      "  follow/NN)\n"
     ]
    }
   ],
   "source": [
    "entidades = nltk.chunk.ne_chunk(classes)\n",
    "print(entidades)"
   ]
  },
  {
   "cell_type": "code",
   "execution_count": null,
   "metadata": {},
   "outputs": [],
   "source": []
  }
 ],
 "metadata": {
  "kernelspec": {
   "display_name": "Python 3",
   "language": "python",
   "name": "python3"
  },
  "language_info": {
   "codemirror_mode": {
    "name": "ipython",
    "version": 3
   },
   "file_extension": ".py",
   "mimetype": "text/x-python",
   "name": "python",
   "nbconvert_exporter": "python",
   "pygments_lexer": "ipython3",
   "version": "3.6.4"
  }
 },
 "nbformat": 4,
 "nbformat_minor": 2
}
