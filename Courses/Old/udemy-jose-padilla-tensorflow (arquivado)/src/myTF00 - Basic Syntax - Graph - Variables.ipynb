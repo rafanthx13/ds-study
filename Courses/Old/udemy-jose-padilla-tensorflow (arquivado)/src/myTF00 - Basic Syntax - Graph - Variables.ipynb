{
 "cells": [
  {
   "cell_type": "markdown",
   "metadata": {},
   "source": [
    "# 01 Meu TensorFlow (TF) Intro ao Básico\n",
    "+ Aulas do Curso\n",
    " - 1. TD Basic Syntax (Seesion : onde pode fazer operaçoes)\n",
    " - 2. TF Graphs\n",
    " - 3. TF Variabels And PlaceHoldeers\n",
    "Tópicos\n",
    "+ s (defniri quais funçêos sao mencionadas em ordem e o que fzaer [por num md separado como meu cheatsehet em PRIVATE]"
   ]
  },
  {
   "cell_type": "code",
   "execution_count": 1,
   "metadata": {
    "collapsed": true
   },
   "outputs": [],
   "source": [
    "import tensorflow as tf"
   ]
  },
  {
   "cell_type": "code",
   "execution_count": 2,
   "metadata": {},
   "outputs": [
    {
     "name": "stdout",
     "output_type": "stream",
     "text": [
      "1.3.0\n"
     ]
    }
   ],
   "source": [
    "# Para sabe a versão do tensor Flow\n",
    "print(tf.__version__)"
   ]
  },
  {
   "cell_type": "markdown",
   "metadata": {},
   "source": [
    "## Tensor\n",
    "+ Objetos 'Tensor' não são printáveis\n",
    "+ Para podemros manipulálas melhor, temos que criar uma seção\n",
    "+ Em `tf.constant` estamos criado objetos Tensor que são constantes"
   ]
  },
  {
   "cell_type": "markdown",
   "metadata": {},
   "source": [
    "### TF com String"
   ]
  },
  {
   "cell_type": "code",
   "execution_count": 5,
   "metadata": {},
   "outputs": [
    {
     "name": "stdout",
     "output_type": "stream",
     "text": [
      "<class 'tensorflow.python.framework.ops.Tensor'>\n"
     ]
    }
   ],
   "source": [
    "# Aqui estamos criando Tesnor, pode ser String ou número\n",
    "hello = tf.constant(\"Hello \")\n",
    "world = tf.constant('World')\n",
    "# print do tipo\n",
    "print(str(type(hello)))"
   ]
  },
  {
   "cell_type": "code",
   "execution_count": 7,
   "metadata": {},
   "outputs": [
    {
     "name": "stdout",
     "output_type": "stream",
     "text": [
      "b'Hello World' <class 'bytes'>\n"
     ]
    }
   ],
   "source": [
    "# A sesão fecah atutomaticmamten\n",
    "with tf.Session() as sess:\n",
    "    # Aqi dentro, doradremos operações no Tensor\n",
    "    result = sess.run(hello + world)\n",
    "    \n",
    "print(result, str(type(result))) # result é represenado em bytes 'b'"
   ]
  },
  {
   "cell_type": "markdown",
   "metadata": {},
   "source": [
    "### TF Com número"
   ]
  },
  {
   "cell_type": "code",
   "execution_count": 8,
   "metadata": {},
   "outputs": [
    {
     "name": "stdout",
     "output_type": "stream",
     "text": [
      "Tensor(\"add_2:0\", shape=(), dtype=int32)\n"
     ]
    }
   ],
   "source": [
    "a = tf.constant(10)\n",
    "b = tf.constant(20)\n",
    "print(a+b) # não é algo printável\n",
    "# para  rodar, temos que rodar sobre umaa seção"
   ]
  },
  {
   "cell_type": "code",
   "execution_count": 10,
   "metadata": {},
   "outputs": [
    {
     "name": "stdout",
     "output_type": "stream",
     "text": [
      "30 <class 'numpy.int32'>\n"
     ]
    }
   ],
   "source": [
    "with tf.Session() as sess:\n",
    "    result_number = sess.run(a+b)\n",
    "print(result_number, str(type(result_number)))"
   ]
  },
  {
   "cell_type": "markdown",
   "metadata": {},
   "source": [
    "### TF Constante com matriz"
   ]
  },
  {
   "cell_type": "code",
   "execution_count": 21,
   "metadata": {
    "collapsed": true
   },
   "outputs": [],
   "source": [
    "# tf.fill(dims, value, name=None)\n",
    "#    Creates a tensor filled with a scalar value.\n",
    "const = tf.constant(10)\n",
    "fill_mat = tf.fill( (2,2), 10) # cria matriz com número 10\n",
    "my_zeros = tf.zeros( (3,3)) # cria matriz de zeros\n",
    "my_ones  = tf.ones( (2,2)) # cria matriz de uns"
   ]
  },
  {
   "cell_type": "code",
   "execution_count": 22,
   "metadata": {
    "collapsed": true
   },
   "outputs": [],
   "source": [
    "# tf.random_normal(shape, mean=0.0, stddev=1.0, dtype=tf.float32, seed=None, name=None)\n",
    "# @shape = tupla que define as dimensões\n",
    "# @mean = o valor de médai da trsitribuição, o ponto do chapeu\n",
    "# @sttdev = desvio padrao\n",
    "my_rand_n = tf.random_normal((3,3),mean=0,stddev=0.5)"
   ]
  },
  {
   "cell_type": "code",
   "execution_count": 26,
   "metadata": {
    "collapsed": true
   },
   "outputs": [],
   "source": [
    "# tf.random_uniform(shape, minval=0, maxval=None, dtype=tf.float32, seed=None, name=None)\n",
    "# OBS: por default o range é [0, 1), \n",
    "# OBS: Se usar o tipo inteiro em @dtype : tem que especificar o maxval\n",
    "my_rand_u = tf.random_uniform( (2,2), minval = 0, maxval = 1)"
   ]
  },
  {
   "cell_type": "markdown",
   "metadata": {},
   "source": [
    "#### Sessâo interativa (Only notebook)\n",
    "Para executar, estavamos usando o `with` com TF.Session. Porém, podemos usar de forma interativa a sessão comc `tf.IntercativeSeession()`. \n",
    "\n",
    "Usando sobre a variavel que o carrea, poderá ler dados de outras células\n",
    "\n",
    "OBS: Mas em geral vamos usar com `with` mesmo\n",
    "\n",
    "**Vantagem** : Depois de criala numa célula, voce pode usar nas outras. Isso é vatanjoso pois **nao dá para fazer o mesmo com `with`**"
   ]
  },
  {
   "cell_type": "code",
   "execution_count": 28,
   "metadata": {},
   "outputs": [
    {
     "name": "stdout",
     "output_type": "stream",
     "text": [
      "10\n",
      "[[10 10]\n",
      " [10 10]]\n",
      "[[ 0.  0.  0.]\n",
      " [ 0.  0.  0.]\n",
      " [ 0.  0.  0.]]\n",
      "[[ 1.  1.]\n",
      " [ 1.  1.]]\n",
      "[[ 0.353706   -0.4491896   1.07840598]\n",
      " [-0.49988946 -0.33969015  0.67270929]\n",
      " [-0.03861309  0.43721312 -0.55777895]]\n",
      "[[ 0.86420643  0.35081518]\n",
      " [ 0.84387434  0.6960777 ]]\n"
     ]
    }
   ],
   "source": [
    "# executando sobre a lista\n",
    "my_ops = [const, fill_mat, my_zeros, my_ones, my_rand_n, my_rand_u]\n",
    "# criando a sessao interativa, \n",
    "#depois de declarada, voce pode usar em outras células\n",
    "interactive_sess = tf.InteractiveSession()\n",
    "# executando\n",
    "for op in my_ops:\n",
    "    #print(interactive_sess.run(op))\n",
    "    print(op.eval())\n",
    "# OBS: voce pode ter o meso resultado se executar: op.eval()"
   ]
  },
  {
   "cell_type": "markdown",
   "metadata": {},
   "source": [
    "### TF com Matriz"
   ]
  },
  {
   "cell_type": "code",
   "execution_count": 32,
   "metadata": {
    "collapsed": true
   },
   "outputs": [],
   "source": [
    "a_array = tf.constant([ [1,2],\n",
    "                        [3,4] ])\n",
    "b_array = tf.constant( [ [1], [100] ])"
   ]
  },
  {
   "cell_type": "code",
   "execution_count": 33,
   "metadata": {},
   "outputs": [
    {
     "data": {
      "text/plain": [
       "TensorShape([Dimension(2), Dimension(2)])"
      ]
     },
     "execution_count": 33,
     "metadata": {},
     "output_type": "execute_result"
    }
   ],
   "source": [
    "# Recuperando o tamanho\n",
    "a_array.get_shape()"
   ]
  },
  {
   "cell_type": "code",
   "execution_count": 35,
   "metadata": {},
   "outputs": [
    {
     "data": {
      "text/plain": [
       "array([[201],\n",
       "       [403]])"
      ]
     },
     "execution_count": 35,
     "metadata": {},
     "output_type": "execute_result"
    }
   ],
   "source": [
    "# multiplicação de matrizes : é o somatorio de multiplicações para matriz\n",
    "result = tf.matmul(a_array, b_array)\n",
    "interactive_sess.run(result)\n",
    "\n",
    "# array([[201],  <== (1*1) + (2*100)\n",
    "#       [403]])  <== (3*1) + (4*100)\n",
    "\n",
    "# poedemos tambem executar\n",
    "# result.eval()"
   ]
  },
  {
   "cell_type": "markdown",
   "metadata": {},
   "source": [
    "# 2. TF Graps (video-aula)"
   ]
  },
  {
   "cell_type": "markdown",
   "metadata": {},
   "source": [
    "#### Grafos\n",
    "+ Conjutos de node/vertice  ligados por arestas/edges\n",
    "+ Em TF, cada node é uma operação que tem uma possivel entrada e saida\n",
    "\n",
    "#### Grafos no TensorFlow\n",
    "Por padrão há sempre um grafo `tf.get_default_graph()`\n"
   ]
  },
  {
   "cell_type": "markdown",
   "metadata": {},
   "source": [
    "![Imagem de nodes](C:\\Users\\Rafael\\Google Drive\\Private Studies\\Computer Advanced\\udemy-jose-padilla-tensorflow\\imgs\\img16.png)"
   ]
  },
  {
   "cell_type": "code",
   "execution_count": 38,
   "metadata": {
    "collapsed": true
   },
   "outputs": [],
   "source": [
    "n1 = tf.constant(1)\n",
    "n2 = tf.constant(2)\n",
    "n3 = n1 + n2"
   ]
  },
  {
   "cell_type": "code",
   "execution_count": 39,
   "metadata": {},
   "outputs": [
    {
     "name": "stdout",
     "output_type": "stream",
     "text": [
      "<tensorflow.python.framework.ops.Graph object at 0x00000228EE49B470>\n"
     ]
    }
   ],
   "source": [
    "print(tf.get_default_graph())"
   ]
  },
  {
   "cell_type": "code",
   "execution_count": 40,
   "metadata": {},
   "outputs": [
    {
     "name": "stdout",
     "output_type": "stream",
     "text": [
      "<tensorflow.python.framework.ops.Graph object at 0x00000228EF5B6BA8>\n"
     ]
    }
   ],
   "source": [
    "g = tf.Graph() # criando um novo grafo\n",
    "print(g) # printando, veja que sera difrente do get_default"
   ]
  },
  {
   "cell_type": "code",
   "execution_count": 41,
   "metadata": {},
   "outputs": [
    {
     "name": "stdout",
     "output_type": "stream",
     "text": [
      "<tensorflow.python.framework.ops.Graph object at 0x00000228EE49B470>\n"
     ]
    }
   ],
   "source": [
    "graph_one = tf.get_default_graph() # obviamente sera referenciado a o grafo default\n",
    "print(graph_one)"
   ]
  },
  {
   "cell_type": "markdown",
   "metadata": {},
   "source": [
    "Percabe que `default_graph` é sempre o mesmo, mesmo que voce cri outro\n",
    "Para mudar isso temos que usar ` wiht #Grapgh.as_default`\n",
    "OBS: Perceba entâo que esse novo grafo default só serve dentro do bloco"
   ]
  },
  {
   "cell_type": "code",
   "execution_count": 43,
   "metadata": {},
   "outputs": [
    {
     "name": "stdout",
     "output_type": "stream",
     "text": [
      "True\n"
     ]
    }
   ],
   "source": [
    "graph_two = tf.Graph()\n",
    "with graph_two.as_default():\n",
    "    print(graph_two is tf.get_default_graph()) # true, pois acabamos de definir que o defualt serai graph_two\n",
    "graph_two is tf.get_default_graph() # false, pois saiu do 'with' o default voltou a ser o primeiro a ser cirado"
   ]
  },
  {
   "cell_type": "markdown",
   "metadata": {},
   "source": [
    "Esses concentios e´so pra entender que já se ttrabalha automaticamente num grafo e que, pode ser necessário resetar. Entâo, vimos como fazer isso, criando outro gráfo\n",
    "\n",
    "Isso tembem é util em notebooks"
   ]
  },
  {
   "cell_type": "markdown",
   "metadata": {},
   "source": [
    "# 3. Variabels And Placeholder (aula3)\n",
    "Relembrando:\n",
    "\n",
    "**Variables**: Pesos e Viés. Presisam ser inicializados\n",
    "\n",
    "**PlaceHolders**: sâo campos onde serao posto os dados para treinar, nao presisa declarar nada especifico exceto se for tf.float32; povoce pode escolher o `shape` como argumento"
   ]
  },
  {
   "cell_type": "code",
   "execution_count": 48,
   "metadata": {
    "collapsed": true
   },
   "outputs": [],
   "source": [
    "# caso nao tiver definido\n",
    "sess = tf.InteractiveSession()"
   ]
  },
  {
   "cell_type": "code",
   "execution_count": 49,
   "metadata": {},
   "outputs": [
    {
     "data": {
      "text/plain": [
       "<tf.Tensor 'random_uniform_5:0' shape=(4, 4) dtype=float32>"
      ]
     },
     "execution_count": 49,
     "metadata": {},
     "output_type": "execute_result"
    }
   ],
   "source": [
    "my_tensor = tf.random_uniform( (4,4), 0, 1)\n",
    "my_tensor"
   ]
  },
  {
   "cell_type": "markdown",
   "metadata": {},
   "source": [
    "### Variables"
   ]
  },
  {
   "cell_type": "markdown",
   "metadata": {},
   "source": [
    "Ao ler tudo, perceba que em grande parte, so vai presisar  do initial value que é um `Tensor`\n",
    "````\n",
    "tf.Variable(\n",
    "    initial_value=None,   ==> Recebe um `Tensor` que define o `shape` e tipo de dados. Após iniciadlizado, esse tipo e                                          shape ficaão fixo. Se quiser mudar deppis, tem que mudar validate_shape para FALSE\n",
    "    trainable=True, \n",
    "    collections=None, \n",
    "    validate_shape=True,  ==> se podera ou nao mudar de shape apos definido\n",
    "    caching_device=None, \n",
    "    name=None,            ==> Um nome identiticado, por default pega 'Variable'quando nao tem\n",
    "                                variable_def=None, \n",
    "    dtype=None,           ==> o tipo de dado, ja é desidio em initial_value, mas ao colocaos podera fazer com que o TF convertea                                os dados quando possivel para esse tipo\n",
    "    expected_shape=None,  ==> se colocado m shape (tupla) vai espserr que o que seja inserido seja desse shape\n",
    "    import_scope=None)\n",
    "````"
   ]
  },
  {
   "cell_type": "code",
   "execution_count": 50,
   "metadata": {
    "collapsed": true
   },
   "outputs": [],
   "source": [
    "my_var = tf.Variable(initial_value = my_tensor) # Definido\n",
    "# sess.run(my_var) # nao vai funcionar pois a variavael nao foi inicializada"
   ]
  },
  {
   "cell_type": "code",
   "execution_count": 51,
   "metadata": {},
   "outputs": [
    {
     "data": {
      "text/plain": [
       "array([[ 0.35261488,  0.48229396,  0.49794829,  0.70775855],\n",
       "       [ 0.13841283,  0.08721912,  0.11391294,  0.34744167],\n",
       "       [ 0.96103311,  0.80230868,  0.67418063,  0.72516882],\n",
       "       [ 0.01028752,  0.48391187,  0.83339047,  0.40215969]], dtype=float32)"
      ]
     },
     "execution_count": 51,
     "metadata": {},
     "output_type": "execute_result"
    }
   ],
   "source": [
    "# A inicializaçã de uma variável tem que ser feita a partir de um método, \n",
    "# nao é simplisemnte cria uma var que vai armazenar seu endereço criado\n",
    "init = tf.global_variables_initializer()\n",
    "sess.run(init) # vai inicializar as variaveis criadas\n",
    "# so depois de fazer isso vai dar para printar uma variable\n",
    "sess.run(my_var)"
   ]
  },
  {
   "cell_type": "markdown",
   "metadata": {},
   "source": [
    "### PlaceHolders"
   ]
  },
  {
   "cell_type": "code",
   "execution_count": 52,
   "metadata": {
    "collapsed": true
   },
   "outputs": [],
   "source": [
    "# tf.placeholder(dtype, shape=None, name=None)\n",
    "# @shape => nao é obrigado, ja que so estamos inicializando o 'recipiente vazio'\n",
    "#   OBs: mutias vezes usa 'none' no shape, tem um motivo pra iso busque saber\n",
    "ph = tf.placeholder(dtype = tf.float32, shape = (None, 5))"
   ]
  }
 ],
 "metadata": {
  "kernelspec": {
   "display_name": "Python 3",
   "language": "python",
   "name": "python3"
  },
  "language_info": {
   "codemirror_mode": {
    "name": "ipython",
    "version": 3
   },
   "file_extension": ".py",
   "mimetype": "text/x-python",
   "name": "python",
   "nbconvert_exporter": "python",
   "pygments_lexer": "ipython3",
   "version": "3.5.4"
  }
 },
 "nbformat": 4,
 "nbformat_minor": 2
}
