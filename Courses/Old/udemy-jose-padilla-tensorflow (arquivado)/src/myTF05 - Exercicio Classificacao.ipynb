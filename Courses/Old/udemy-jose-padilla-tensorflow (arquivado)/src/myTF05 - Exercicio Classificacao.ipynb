{
 "cells": [
  {
   "cell_type": "markdown",
   "metadata": {
    "collapsed": true
   },
   "source": [
    "# Classification Exercise - Solutions"
   ]
  },
  {
   "cell_type": "markdown",
   "metadata": {},
   "source": [
    "We'll be working with some California Census Data, we'll be trying to use various features of an individual to predict what class of income they belogn in (>50k or <=50k). \n",
    "\n",
    "Here is some information about the data:\n",
    "\n",
    "** Os dados abaixo foram feitos com HTML, essa construçãoficou bacana. Isso pode ser útil em outros notebook **\n",
    "\n",
    "**OBS: Nesse caso, há muitos dadso categóricos. vamos usar o has_bucket do tensor_flow que é bem simples**\n",
    "\n",
    "Queremos prever a *feature* income"
   ]
  },
  {
   "cell_type": "markdown",
   "metadata": {},
   "source": [
    "<table>\n",
    "<thead>\n",
    "<tr>\n",
    "<th>Column Name</th>\n",
    "<th>Type</th>\n",
    "<th>Description</th>\n",
    "</tr>\n",
    "</thead>\n",
    "<tbody>\n",
    "<tr>\n",
    "<td>age</td>\n",
    "<td>Continuous</td>\n",
    "<td>The age of the individual</td>\n",
    "</tr>\n",
    "<tr>\n",
    "<td>workclass</td>\n",
    "<td>Categorical</td>\n",
    "<td>The type of employer the  individual has (government,  military, private, etc.).</td>\n",
    "</tr>\n",
    "<tr>\n",
    "<td>fnlwgt</td>\n",
    "<td>Continuous</td>\n",
    "<td>The number of people the census  takers believe that observation  represents (sample weight). This  variable will not be used.</td>\n",
    "</tr>\n",
    "<tr>\n",
    "<td>education</td>\n",
    "<td>Categorical</td>\n",
    "<td>The highest level of education  achieved for that individual.</td>\n",
    "</tr>\n",
    "<tr>\n",
    "<td>education_num</td>\n",
    "<td>Continuous</td>\n",
    "<td>The highest level of education in  numerical form.</td>\n",
    "</tr>\n",
    "<tr>\n",
    "<td>marital_status</td>\n",
    "<td>Categorical</td>\n",
    "<td>Marital status of the individual.</td>\n",
    "</tr>\n",
    "<tr>\n",
    "<td>occupation</td>\n",
    "<td>Categorical</td>\n",
    "<td>The occupation of the individual.</td>\n",
    "</tr>\n",
    "<tr>\n",
    "<td>relationship</td>\n",
    "<td>Categorical</td>\n",
    "<td>Wife, Own-child, Husband,  Not-in-family, Other-relative,  Unmarried.</td>\n",
    "</tr>\n",
    "<tr>\n",
    "<td>race</td>\n",
    "<td>Categorical</td>\n",
    "<td>White, Asian-Pac-Islander,  Amer-Indian-Eskimo, Other, Black.</td>\n",
    "</tr>\n",
    "<tr>\n",
    "<td>gender</td>\n",
    "<td>Categorical</td>\n",
    "<td>Female, Male.</td>\n",
    "</tr>\n",
    "<tr>\n",
    "<td>capital_gain</td>\n",
    "<td>Continuous</td>\n",
    "<td>Capital gains recorded.</td>\n",
    "</tr>\n",
    "<tr>\n",
    "<td>capital_loss</td>\n",
    "<td>Continuous</td>\n",
    "<td>Capital Losses recorded.</td>\n",
    "</tr>\n",
    "<tr>\n",
    "<td>hours_per_week</td>\n",
    "<td>Continuous</td>\n",
    "<td>Hours worked per week.</td>\n",
    "</tr>\n",
    "<tr>\n",
    "<td>native_country</td>\n",
    "<td>Categorical</td>\n",
    "<td>Country of origin of the  individual.</td>\n",
    "</tr>\n",
    "<tr>\n",
    "<td>income</td>\n",
    "<td>Categorical</td>\n",
    "<td>\"&gt;50K\" or \"&lt;=50K\", meaning  whether the person makes more  than \\$50,000 annually.</td>\n",
    "</tr>\n",
    "</tbody>\n",
    "</table>"
   ]
  },
  {
   "cell_type": "markdown",
   "metadata": {},
   "source": [
    "## Follow the Directions in Bold. If you get stuck, check out the solutions lecture."
   ]
  },
  {
   "cell_type": "markdown",
   "metadata": {},
   "source": [
    "### THE DATA"
   ]
  },
  {
   "cell_type": "markdown",
   "metadata": {},
   "source": [
    "** Read in the census_data.csv data with pandas**"
   ]
  },
  {
   "cell_type": "code",
   "execution_count": 1,
   "metadata": {},
   "outputs": [
    {
     "data": {
      "text/html": [
       "<div>\n",
       "<style>\n",
       "    .dataframe thead tr:only-child th {\n",
       "        text-align: right;\n",
       "    }\n",
       "\n",
       "    .dataframe thead th {\n",
       "        text-align: left;\n",
       "    }\n",
       "\n",
       "    .dataframe tbody tr th {\n",
       "        vertical-align: top;\n",
       "    }\n",
       "</style>\n",
       "<table border=\"1\" class=\"dataframe\">\n",
       "  <thead>\n",
       "    <tr style=\"text-align: right;\">\n",
       "      <th></th>\n",
       "      <th>age</th>\n",
       "      <th>workclass</th>\n",
       "      <th>education</th>\n",
       "      <th>education_num</th>\n",
       "      <th>marital_status</th>\n",
       "      <th>occupation</th>\n",
       "      <th>relationship</th>\n",
       "      <th>race</th>\n",
       "      <th>gender</th>\n",
       "      <th>capital_gain</th>\n",
       "      <th>capital_loss</th>\n",
       "      <th>hours_per_week</th>\n",
       "      <th>native_country</th>\n",
       "      <th>income_bracket</th>\n",
       "    </tr>\n",
       "  </thead>\n",
       "  <tbody>\n",
       "    <tr>\n",
       "      <th>0</th>\n",
       "      <td>39</td>\n",
       "      <td>State-gov</td>\n",
       "      <td>Bachelors</td>\n",
       "      <td>13</td>\n",
       "      <td>Never-married</td>\n",
       "      <td>Adm-clerical</td>\n",
       "      <td>Not-in-family</td>\n",
       "      <td>White</td>\n",
       "      <td>Male</td>\n",
       "      <td>2174</td>\n",
       "      <td>0</td>\n",
       "      <td>40</td>\n",
       "      <td>United-States</td>\n",
       "      <td>&lt;=50K</td>\n",
       "    </tr>\n",
       "    <tr>\n",
       "      <th>1</th>\n",
       "      <td>50</td>\n",
       "      <td>Self-emp-not-inc</td>\n",
       "      <td>Bachelors</td>\n",
       "      <td>13</td>\n",
       "      <td>Married-civ-spouse</td>\n",
       "      <td>Exec-managerial</td>\n",
       "      <td>Husband</td>\n",
       "      <td>White</td>\n",
       "      <td>Male</td>\n",
       "      <td>0</td>\n",
       "      <td>0</td>\n",
       "      <td>13</td>\n",
       "      <td>United-States</td>\n",
       "      <td>&lt;=50K</td>\n",
       "    </tr>\n",
       "    <tr>\n",
       "      <th>2</th>\n",
       "      <td>38</td>\n",
       "      <td>Private</td>\n",
       "      <td>HS-grad</td>\n",
       "      <td>9</td>\n",
       "      <td>Divorced</td>\n",
       "      <td>Handlers-cleaners</td>\n",
       "      <td>Not-in-family</td>\n",
       "      <td>White</td>\n",
       "      <td>Male</td>\n",
       "      <td>0</td>\n",
       "      <td>0</td>\n",
       "      <td>40</td>\n",
       "      <td>United-States</td>\n",
       "      <td>&lt;=50K</td>\n",
       "    </tr>\n",
       "    <tr>\n",
       "      <th>3</th>\n",
       "      <td>53</td>\n",
       "      <td>Private</td>\n",
       "      <td>11th</td>\n",
       "      <td>7</td>\n",
       "      <td>Married-civ-spouse</td>\n",
       "      <td>Handlers-cleaners</td>\n",
       "      <td>Husband</td>\n",
       "      <td>Black</td>\n",
       "      <td>Male</td>\n",
       "      <td>0</td>\n",
       "      <td>0</td>\n",
       "      <td>40</td>\n",
       "      <td>United-States</td>\n",
       "      <td>&lt;=50K</td>\n",
       "    </tr>\n",
       "    <tr>\n",
       "      <th>4</th>\n",
       "      <td>28</td>\n",
       "      <td>Private</td>\n",
       "      <td>Bachelors</td>\n",
       "      <td>13</td>\n",
       "      <td>Married-civ-spouse</td>\n",
       "      <td>Prof-specialty</td>\n",
       "      <td>Wife</td>\n",
       "      <td>Black</td>\n",
       "      <td>Female</td>\n",
       "      <td>0</td>\n",
       "      <td>0</td>\n",
       "      <td>40</td>\n",
       "      <td>Cuba</td>\n",
       "      <td>&lt;=50K</td>\n",
       "    </tr>\n",
       "  </tbody>\n",
       "</table>\n",
       "</div>"
      ],
      "text/plain": [
       "   age          workclass   education  education_num       marital_status  \\\n",
       "0   39          State-gov   Bachelors             13        Never-married   \n",
       "1   50   Self-emp-not-inc   Bachelors             13   Married-civ-spouse   \n",
       "2   38            Private     HS-grad              9             Divorced   \n",
       "3   53            Private        11th              7   Married-civ-spouse   \n",
       "4   28            Private   Bachelors             13   Married-civ-spouse   \n",
       "\n",
       "           occupation    relationship    race   gender  capital_gain  \\\n",
       "0        Adm-clerical   Not-in-family   White     Male          2174   \n",
       "1     Exec-managerial         Husband   White     Male             0   \n",
       "2   Handlers-cleaners   Not-in-family   White     Male             0   \n",
       "3   Handlers-cleaners         Husband   Black     Male             0   \n",
       "4      Prof-specialty            Wife   Black   Female             0   \n",
       "\n",
       "   capital_loss  hours_per_week  native_country income_bracket  \n",
       "0             0              40   United-States          <=50K  \n",
       "1             0              13   United-States          <=50K  \n",
       "2             0              40   United-States          <=50K  \n",
       "3             0              40   United-States          <=50K  \n",
       "4             0              40            Cuba          <=50K  "
      ]
     },
     "execution_count": 1,
     "metadata": {},
     "output_type": "execute_result"
    }
   ],
   "source": [
    "import pandas as pd\n",
    "census = pd.read_csv(\"census_data.csv\")\n",
    "census.head()\n",
    "# Há varios categoricos"
   ]
  },
  {
   "cell_type": "markdown",
   "metadata": {},
   "source": [
    "**    TensorFlow won't be able to understand strings as labels, you'll need to use pandas .apply() method to apply a custom function that converts them to 0s and 1s. This might be hard if you aren't very familiar with pandas, so feel free to take a peek at the solutions for this part.**\n",
    "\n",
    "** Convert the Label column to 0s and 1s instead of strings.**\n",
    "\n",
    "## Ou seja\n",
    "\n",
    "O TF faz a converçâo de hash bucket sobre features, mas não faz sobre o target. Entâo, vamos fazer manualemnte, com o `.apply` do pandas para serem 0 ou 1"
   ]
  },
  {
   "cell_type": "code",
   "execution_count": 2,
   "metadata": {},
   "outputs": [
    {
     "data": {
      "text/plain": [
       "array([' <=50K', ' >50K'], dtype=object)"
      ]
     },
     "execution_count": 2,
     "metadata": {},
     "output_type": "execute_result"
    }
   ],
   "source": [
    "census['income_bracket'].unique()\n",
    "# Há somete duas classe (mostradas abaixo)."
   ]
  },
  {
   "cell_type": "code",
   "execution_count": 3,
   "metadata": {
    "collapsed": true
   },
   "outputs": [],
   "source": [
    "def label_fix(label):\n",
    "    if label==' <=50K':\n",
    "        return 0\n",
    "    else:\n",
    "        return 1"
   ]
  },
  {
   "cell_type": "code",
   "execution_count": 4,
   "metadata": {
    "collapsed": true
   },
   "outputs": [],
   "source": [
    "census['income_bracket'] = census['income_bracket'].apply(label_fix)"
   ]
  },
  {
   "cell_type": "markdown",
   "metadata": {},
   "source": [
    "### Perform a Train Test Split on the Data"
   ]
  },
  {
   "cell_type": "code",
   "execution_count": 5,
   "metadata": {
    "collapsed": true
   },
   "outputs": [],
   "source": [
    "from sklearn.model_selection import train_test_split"
   ]
  },
  {
   "cell_type": "code",
   "execution_count": 6,
   "metadata": {
    "collapsed": true
   },
   "outputs": [],
   "source": [
    "# Criando Features\n",
    "x_data = census.drop('income_bracket',axis=1)\n",
    "# Criando Target\n",
    "y_labels = census['income_bracket']\n",
    "# Fazendo o split\n",
    "X_train, X_test, y_train, y_test = train_test_split(\n",
    "    x_data, y_labels, test_size=0.3, random_state=101)"
   ]
  },
  {
   "cell_type": "markdown",
   "metadata": {},
   "source": [
    "### Create the Feature Columns for tf.esitmator\n",
    "\n",
    "** Take note of categorical vs continuous values! **"
   ]
  },
  {
   "cell_type": "code",
   "execution_count": 13,
   "metadata": {},
   "outputs": [
    {
     "data": {
      "text/plain": [
       "Index(['age', 'workclass', 'education', 'education_num', 'marital_status',\n",
       "       'occupation', 'relationship', 'race', 'gender', 'capital_gain',\n",
       "       'capital_loss', 'hours_per_week', 'native_country', 'income_bracket'],\n",
       "      dtype='object')"
      ]
     },
     "execution_count": 13,
     "metadata": {},
     "output_type": "execute_result"
    }
   ],
   "source": [
    "census.columns"
   ]
  },
  {
   "cell_type": "markdown",
   "metadata": {},
   "source": [
    "** Import Tensorflow **"
   ]
  },
  {
   "cell_type": "code",
   "execution_count": 7,
   "metadata": {
    "collapsed": true
   },
   "outputs": [],
   "source": [
    "import tensorflow as tf"
   ]
  },
  {
   "cell_type": "markdown",
   "metadata": {
    "collapsed": true
   },
   "source": [
    "### Tratando colunas categóricas\n",
    "\n",
    "** Create the tf.feature_columns for the categorical values. Use vocabulary lists or just use hash buckets. **"
   ]
  },
  {
   "cell_type": "code",
   "execution_count": 8,
   "metadata": {
    "collapsed": true
   },
   "outputs": [],
   "source": [
    "# categorical_column_with_vocabulary_list \n",
    "# Aqui agente já sabe quais soa os possiveis dados\n",
    "gender = tf.feature_column.categorical_column_with_vocabulary_list(\n",
    "    \"gender\", [\"Female\", \"Male\"])\n",
    "# categorical_column_with_hash_bucket\n",
    "# Você não sabe quais sâo os dados categoricso\n",
    "occupation     = tf.feature_column.categorical_column_with_hash_bucket(\n",
    "    \"occupation\", hash_bucket_size=1000)\n",
    "marital_status = tf.feature_column.categorical_column_with_hash_bucket(\n",
    "    \"marital_status\", hash_bucket_size=1000)\n",
    "relationship   = tf.feature_column.categorical_column_with_hash_bucket(\n",
    "    \"relationship\", hash_bucket_size=1000)\n",
    "education      = tf.feature_column.categorical_column_with_hash_bucket(\n",
    "    \"education\", hash_bucket_size=1000)\n",
    "workclass      = tf.feature_column.categorical_column_with_hash_bucket(\n",
    "    \"workclass\", hash_bucket_size=1000)\n",
    "native_country = tf.feature_column.categorical_column_with_hash_bucket(\n",
    "    \"native_country\", hash_bucket_size=1000)"
   ]
  },
  {
   "cell_type": "markdown",
   "metadata": {},
   "source": [
    "## Tratando com colunas Contínuas\n",
    "\n",
    "** Create the continuous feature_columns for the continuous values using numeric_column **"
   ]
  },
  {
   "cell_type": "code",
   "execution_count": 10,
   "metadata": {
    "collapsed": true
   },
   "outputs": [],
   "source": [
    "age = tf.feature_column.numeric_column(\"age\")\n",
    "education_num = tf.feature_column.numeric_column(\"education_num\")\n",
    "capital_gain = tf.feature_column.numeric_column(\"capital_gain\")\n",
    "capital_loss = tf.feature_column.numeric_column(\"capital_loss\")\n",
    "hours_per_week = tf.feature_column.numeric_column(\"hours_per_week\")"
   ]
  },
  {
   "cell_type": "markdown",
   "metadata": {},
   "source": [
    "** Put all these variables into a single list with the variable name feat_cols **"
   ]
  },
  {
   "cell_type": "code",
   "execution_count": 11,
   "metadata": {},
   "outputs": [],
   "source": [
    "feat_cols = [gender, occupation, marital_status, relationship,\n",
    "             education, workclass, native_country, age,\n",
    "             education_num, capital_gain, capital_loss,\n",
    "             hours_per_week]"
   ]
  },
  {
   "cell_type": "markdown",
   "metadata": {},
   "source": [
    "### Create Input Function\n",
    "\n",
    "** Batch_size is up to you. But do make sure to shuffle!**"
   ]
  },
  {
   "cell_type": "code",
   "execution_count": 12,
   "metadata": {
    "collapsed": true
   },
   "outputs": [],
   "source": [
    "# deixar num_epcohs = None é deixar o default\n",
    "input_func = tf.estimator.inputs.pandas_input_fn(\n",
    "    x=X_train, y=y_train, batch_size=100,\n",
    "    num_epochs=None, shuffle=True)"
   ]
  },
  {
   "cell_type": "markdown",
   "metadata": {},
   "source": [
    "#### Create your model with tf.estimator\n",
    "\n",
    "**Create a LinearClassifier.(If you want to use a DNNClassifier, keep in mind you'll need to create embedded columns out of the cateogrical feature that use strings, check out the previous lecture on this for more info.)**\n",
    "\n",
    "### Ou seja\n",
    "\n",
    "Aqui, estmos criando um Classificador Liner (Sem camada oculta)\n",
    "\n",
    "Se você quiser criar mais camadas (DNN) você treá que tranforma as colunas\n",
    "categoricas em **embedded** colunas. Isso foi visot antes e gasta umpouco\n",
    "mais de tempo, por isso ele não o fez"
   ]
  },
  {
   "cell_type": "code",
   "execution_count": 13,
   "metadata": {},
   "outputs": [
    {
     "name": "stdout",
     "output_type": "stream",
     "text": [
      "INFO:tensorflow:Using default config.\n",
      "WARNING:tensorflow:Using temporary folder as model directory: C:\\Users\\Rafael\\AppData\\Local\\Temp\\tmpid5qoyp8\n",
      "INFO:tensorflow:Using config: {'_log_step_count_steps': 100, '_save_checkpoints_steps': None, '_keep_checkpoint_max': 5, '_model_dir': 'C:\\\\Users\\\\Rafael\\\\AppData\\\\Local\\\\Temp\\\\tmpid5qoyp8', '_save_checkpoints_secs': 600, '_keep_checkpoint_every_n_hours': 10000, '_tf_random_seed': 1, '_session_config': None, '_save_summary_steps': 100}\n"
     ]
    }
   ],
   "source": [
    "model = tf.estimator.LinearClassifier(feature_columns=feat_cols)"
   ]
  },
  {
   "cell_type": "markdown",
   "metadata": {},
   "source": [
    "** Train your model on the data, for at least 5000 steps. **"
   ]
  },
  {
   "cell_type": "code",
   "execution_count": 14,
   "metadata": {},
   "outputs": [
    {
     "name": "stdout",
     "output_type": "stream",
     "text": [
      "INFO:tensorflow:Create CheckpointSaverHook.\n",
      "INFO:tensorflow:Saving checkpoints for 1 into C:\\Users\\Rafael\\AppData\\Local\\Temp\\tmpid5qoyp8\\model.ckpt.\n",
      "INFO:tensorflow:step = 1, loss = 69.3147\n",
      "INFO:tensorflow:global_step/sec: 126.704\n",
      "INFO:tensorflow:step = 101, loss = 676.991 (0.794 sec)\n",
      "INFO:tensorflow:global_step/sec: 153.735\n",
      "INFO:tensorflow:step = 201, loss = 278.305 (0.650 sec)\n",
      "INFO:tensorflow:global_step/sec: 156.39\n",
      "INFO:tensorflow:step = 301, loss = 383.665 (0.639 sec)\n",
      "INFO:tensorflow:global_step/sec: 154.572\n",
      "INFO:tensorflow:step = 401, loss = 154.338 (0.647 sec)\n",
      "INFO:tensorflow:global_step/sec: 156.385\n",
      "INFO:tensorflow:step = 501, loss = 96.2313 (0.640 sec)\n",
      "INFO:tensorflow:global_step/sec: 119.467\n",
      "INFO:tensorflow:step = 601, loss = 60.2201 (0.838 sec)\n",
      "INFO:tensorflow:global_step/sec: 140.159\n",
      "INFO:tensorflow:step = 701, loss = 229.007 (0.712 sec)\n",
      "INFO:tensorflow:global_step/sec: 150.163\n",
      "INFO:tensorflow:step = 801, loss = 72.81 (0.665 sec)\n",
      "INFO:tensorflow:global_step/sec: 158.625\n",
      "INFO:tensorflow:step = 901, loss = 241.136 (0.630 sec)\n",
      "INFO:tensorflow:global_step/sec: 136.238\n",
      "INFO:tensorflow:step = 1001, loss = 55.6973 (0.736 sec)\n",
      "INFO:tensorflow:global_step/sec: 148.492\n",
      "INFO:tensorflow:step = 1101, loss = 63.9356 (0.672 sec)\n",
      "INFO:tensorflow:global_step/sec: 159.141\n",
      "INFO:tensorflow:step = 1201, loss = 506.805 (0.628 sec)\n",
      "INFO:tensorflow:global_step/sec: 153.055\n",
      "INFO:tensorflow:step = 1301, loss = 160.056 (0.653 sec)\n",
      "INFO:tensorflow:global_step/sec: 149.55\n",
      "INFO:tensorflow:step = 1401, loss = 57.2657 (0.670 sec)\n",
      "INFO:tensorflow:global_step/sec: 139.729\n",
      "INFO:tensorflow:step = 1501, loss = 52.2761 (0.720 sec)\n",
      "INFO:tensorflow:global_step/sec: 134.125\n",
      "INFO:tensorflow:step = 1601, loss = 148.791 (0.742 sec)\n",
      "INFO:tensorflow:global_step/sec: 152.091\n",
      "INFO:tensorflow:step = 1701, loss = 40.528 (0.657 sec)\n",
      "INFO:tensorflow:global_step/sec: 149.377\n",
      "INFO:tensorflow:step = 1801, loss = 118.999 (0.668 sec)\n",
      "INFO:tensorflow:global_step/sec: 153.273\n",
      "INFO:tensorflow:step = 1901, loss = 41.2057 (0.652 sec)\n",
      "INFO:tensorflow:global_step/sec: 154.457\n",
      "INFO:tensorflow:step = 2001, loss = 112.777 (0.644 sec)\n",
      "INFO:tensorflow:global_step/sec: 122.468\n",
      "INFO:tensorflow:step = 2101, loss = 359.481 (0.822 sec)\n",
      "INFO:tensorflow:global_step/sec: 141.951\n",
      "INFO:tensorflow:step = 2201, loss = 31.2143 (0.703 sec)\n",
      "INFO:tensorflow:global_step/sec: 135.046\n",
      "INFO:tensorflow:step = 2301, loss = 26.5788 (0.740 sec)\n",
      "INFO:tensorflow:global_step/sec: 152.804\n",
      "INFO:tensorflow:step = 2401, loss = 931.582 (0.653 sec)\n",
      "INFO:tensorflow:global_step/sec: 155.418\n",
      "INFO:tensorflow:step = 2501, loss = 65.4832 (0.644 sec)\n",
      "INFO:tensorflow:global_step/sec: 154.457\n",
      "INFO:tensorflow:step = 2601, loss = 299.611 (0.647 sec)\n",
      "INFO:tensorflow:global_step/sec: 152.106\n",
      "INFO:tensorflow:step = 2701, loss = 95.4554 (0.656 sec)\n",
      "INFO:tensorflow:global_step/sec: 157.873\n",
      "INFO:tensorflow:step = 2801, loss = 160.589 (0.633 sec)\n",
      "INFO:tensorflow:global_step/sec: 156.635\n",
      "INFO:tensorflow:step = 2901, loss = 74.1123 (0.638 sec)\n",
      "INFO:tensorflow:global_step/sec: 151.415\n",
      "INFO:tensorflow:step = 3001, loss = 45.5175 (0.660 sec)\n",
      "INFO:tensorflow:global_step/sec: 154.219\n",
      "INFO:tensorflow:step = 3101, loss = 30.5052 (0.648 sec)\n",
      "INFO:tensorflow:global_step/sec: 153.508\n",
      "INFO:tensorflow:step = 3201, loss = 286.961 (0.651 sec)\n",
      "INFO:tensorflow:global_step/sec: 156.389\n",
      "INFO:tensorflow:step = 3301, loss = 39.3421 (0.640 sec)\n",
      "INFO:tensorflow:global_step/sec: 156.392\n",
      "INFO:tensorflow:step = 3401, loss = 37.6759 (0.638 sec)\n",
      "INFO:tensorflow:global_step/sec: 152.166\n",
      "INFO:tensorflow:step = 3501, loss = 71.5217 (0.657 sec)\n",
      "INFO:tensorflow:global_step/sec: 157.873\n",
      "INFO:tensorflow:step = 3601, loss = 145.18 (0.633 sec)\n",
      "INFO:tensorflow:global_step/sec: 155.003\n",
      "INFO:tensorflow:step = 3701, loss = 25.4395 (0.645 sec)\n",
      "INFO:tensorflow:global_step/sec: 152.571\n",
      "INFO:tensorflow:step = 3801, loss = 36.019 (0.655 sec)\n",
      "INFO:tensorflow:global_step/sec: 158.877\n",
      "INFO:tensorflow:step = 3901, loss = 84.2601 (0.629 sec)\n",
      "INFO:tensorflow:global_step/sec: 149.826\n",
      "INFO:tensorflow:step = 4001, loss = 76.4408 (0.667 sec)\n",
      "INFO:tensorflow:global_step/sec: 150.05\n",
      "INFO:tensorflow:step = 4101, loss = 44.5987 (0.666 sec)\n",
      "INFO:tensorflow:global_step/sec: 158.625\n",
      "INFO:tensorflow:step = 4201, loss = 36.3009 (0.630 sec)\n",
      "INFO:tensorflow:global_step/sec: 153.508\n",
      "INFO:tensorflow:step = 4301, loss = 38.8583 (0.652 sec)\n",
      "INFO:tensorflow:global_step/sec: 153.273\n",
      "INFO:tensorflow:step = 4401, loss = 36.7844 (0.651 sec)\n",
      "INFO:tensorflow:global_step/sec: 153.272\n",
      "INFO:tensorflow:step = 4501, loss = 30.7807 (0.652 sec)\n",
      "INFO:tensorflow:global_step/sec: 151.415\n",
      "INFO:tensorflow:step = 4601, loss = 34.3805 (0.660 sec)\n",
      "INFO:tensorflow:global_step/sec: 148.932\n",
      "INFO:tensorflow:step = 4701, loss = 54.9515 (0.671 sec)\n",
      "INFO:tensorflow:global_step/sec: 157.376\n",
      "INFO:tensorflow:step = 4801, loss = 44.4553 (0.635 sec)\n",
      "INFO:tensorflow:global_step/sec: 147.612\n",
      "INFO:tensorflow:step = 4901, loss = 213.025 (0.678 sec)\n",
      "INFO:tensorflow:Saving checkpoints for 5000 into C:\\Users\\Rafael\\AppData\\Local\\Temp\\tmpid5qoyp8\\model.ckpt.\n",
      "INFO:tensorflow:Loss for final step: 61.6134.\n"
     ]
    },
    {
     "data": {
      "text/plain": [
       "<tensorflow.python.estimator.canned.linear.LinearClassifier at 0x15fc53de908>"
      ]
     },
     "execution_count": 14,
     "metadata": {},
     "output_type": "execute_result"
    }
   ],
   "source": [
    "model.train(input_fn=input_func, steps=5000)"
   ]
  },
  {
   "cell_type": "markdown",
   "metadata": {},
   "source": [
    "### Avaliando\n",
    "\n",
    "** Create a prediction input function. Remember to only supprt X_test data and keep shuffle=False. **"
   ]
  },
  {
   "cell_type": "code",
   "execution_count": 15,
   "metadata": {
    "collapsed": true
   },
   "outputs": [],
   "source": [
    "pred_fn = tf.estimator.inputs.pandas_input_fn(\n",
    "    x=X_test, batch_size=len(X_test),shuffle=False)"
   ]
  },
  {
   "cell_type": "markdown",
   "metadata": {},
   "source": [
    "** Use model.predict() and pass in your input function. This will produce a generator of predictions, which you can then transform into a list, with list() **"
   ]
  },
  {
   "cell_type": "code",
   "execution_count": 16,
   "metadata": {},
   "outputs": [
    {
     "name": "stdout",
     "output_type": "stream",
     "text": [
      "INFO:tensorflow:Restoring parameters from C:\\Users\\Rafael\\AppData\\Local\\Temp\\tmpid5qoyp8\\model.ckpt-5000\n"
     ]
    }
   ],
   "source": [
    "predictions = list(model.predict(input_fn=pred_fn))"
   ]
  },
  {
   "cell_type": "markdown",
   "metadata": {},
   "source": [
    "** Each item in your list will look like this: **"
   ]
  },
  {
   "cell_type": "code",
   "execution_count": 17,
   "metadata": {},
   "outputs": [
    {
     "data": {
      "text/plain": [
       "{'class_ids': array([0], dtype=int64),\n",
       " 'classes': array([b'0'], dtype=object),\n",
       " 'logistic': array([ 0.29125276], dtype=float32),\n",
       " 'logits': array([-0.88930744], dtype=float32),\n",
       " 'probabilities': array([ 0.70874721,  0.29125276], dtype=float32)}"
      ]
     },
     "execution_count": 17,
     "metadata": {},
     "output_type": "execute_result"
    }
   ],
   "source": [
    "# Exemplo da saida\n",
    "predictions[0]"
   ]
  },
  {
   "cell_type": "markdown",
   "metadata": {},
   "source": [
    "** Create a list of only the class_ids key values from the prediction list of dictionaries, these are the predictions you will use to compare against the real y_test values. **"
   ]
  },
  {
   "cell_type": "code",
   "execution_count": 18,
   "metadata": {
    "collapsed": true
   },
   "outputs": [],
   "source": [
    "final_preds = []\n",
    "for pred in predictions:\n",
    "    final_preds.append(pred['class_ids'][0])"
   ]
  },
  {
   "cell_type": "code",
   "execution_count": 20,
   "metadata": {},
   "outputs": [
    {
     "data": {
      "text/plain": [
       "[0, 0, 0, 0, 1, 0, 0, 0, 0, 0]"
      ]
     },
     "execution_count": 20,
     "metadata": {},
     "output_type": "execute_result"
    }
   ],
   "source": [
    "# AS predictions de [0] a [9]\n",
    "final_preds[:10]"
   ]
  },
  {
   "cell_type": "markdown",
   "metadata": {},
   "source": [
    "** Import classification_report from sklearn.metrics and then see if you can figure out how to use it to easily get a full report of your model's performance on the test data. **"
   ]
  },
  {
   "cell_type": "code",
   "execution_count": 21,
   "metadata": {
    "collapsed": true
   },
   "outputs": [],
   "source": [
    "from sklearn.metrics import classification_report"
   ]
  },
  {
   "cell_type": "code",
   "execution_count": 22,
   "metadata": {},
   "outputs": [
    {
     "name": "stdout",
     "output_type": "stream",
     "text": [
      "             precision    recall  f1-score   support\n",
      "\n",
      "          0       0.90      0.90      0.90      7436\n",
      "          1       0.67      0.67      0.67      2333\n",
      "\n",
      "avg / total       0.84      0.84      0.84      9769\n",
      "\n"
     ]
    }
   ],
   "source": [
    "print(classification_report(y_test, final_preds))"
   ]
  },
  {
   "cell_type": "markdown",
   "metadata": {
    "collapsed": true
   },
   "source": [
    "# Great Job!"
   ]
  }
 ],
 "metadata": {
  "kernelspec": {
   "display_name": "Python 3",
   "language": "python",
   "name": "python3"
  },
  "language_info": {
   "codemirror_mode": {
    "name": "ipython",
    "version": 3
   },
   "file_extension": ".py",
   "mimetype": "text/x-python",
   "name": "python",
   "nbconvert_exporter": "python",
   "pygments_lexer": "ipython3",
   "version": "3.5.4"
  }
 },
 "nbformat": 4,
 "nbformat_minor": 2
}
