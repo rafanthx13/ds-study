{
 "cells": [
  {
   "cell_type": "markdown",
   "metadata": {},
   "source": [
    "# Exemplo básico de NeuralNet com TF\n",
    "\n",
    "Irá separar ddos simples de forma linear. Será algo super simples, só pra pegar a forma de fazer memso\n",
    "\n",
    "Passos:\n",
    "1. Constuir o grafo\n",
    "2. Inicializar a sessâo\n",
    "3. Por os dado e pegar sua saida"
   ]
  },
  {
   "cell_type": "code",
   "execution_count": 1,
   "metadata": {
    "collapsed": true
   },
   "outputs": [],
   "source": [
    "# Importando\n",
    "import numpy as np\n",
    "import tensorflow as tf\n",
    "# Definido 'sees 'ppara ter memsa saida\n",
    "np.random.seed(101)\n",
    "tf.set_random_seed(101)"
   ]
  },
  {
   "cell_type": "code",
   "execution_count": 13,
   "metadata": {},
   "outputs": [
    {
     "name": "stderr",
     "output_type": "stream",
     "text": [
      "'[]' nÆo ‚ reconhecido como um comando interno\n",
      "ou externo, um programa oper vel ou um arquivo em lotes.\n"
     ]
    }
   ],
   "source": [
    "# importar imagem do grafo como sera\n",
    "#![](C:\\Users\\Rafael\\Google Drive\\Private Studies\\Computer Advanced\\udemy-jose-padilla-tensorflow\\imgs\\img15.png)"
   ]
  },
  {
   "cell_type": "markdown",
   "metadata": {},
   "source": [
    "**Definindo dados X, Y : Entrada e A saida**"
   ]
  },
  {
   "cell_type": "code",
   "execution_count": 5,
   "metadata": {},
   "outputs": [],
   "source": [
    "np.random.seed(101) # declara deno, pois ele sai para cada celula \n",
    "rand_a = np.random.uniform(0,100,(5,5))\n",
    "rand_b = np.random.uniform(0,100,(5,1))"
   ]
  },
  {
   "cell_type": "markdown",
   "metadata": {},
   "source": [
    "### Placeholders"
   ]
  },
  {
   "cell_type": "code",
   "execution_count": 6,
   "metadata": {
    "collapsed": true
   },
   "outputs": [],
   "source": [
    "a = tf.placeholder(tf.float32)\n",
    "b = tf.placeholder(tf.float32)"
   ]
  },
  {
   "cell_type": "markdown",
   "metadata": {},
   "source": [
    "### Operations\n",
    "Podemos fazer de dois jeito:\n",
    "+ 1. Como sé soma e multiplicação, pdoemos fazer por (a+b) e (a*b0\n",
    "+ 2. Mas o correto seria fazer da forma do tensoFlow, cque é a forma que está como comentada. O adicional é que tem oparametro de name"
   ]
  },
  {
   "cell_type": "code",
   "execution_count": 7,
   "metadata": {
    "collapsed": true
   },
   "outputs": [],
   "source": [
    "add_op  = a+b  # tf.add(a,b)\n",
    "mult_op = a*b  # tf.multiply(a,b)"
   ]
  },
  {
   "cell_type": "markdown",
   "metadata": {},
   "source": [
    "### Running Sessions  to create Graphs with Feed Dictionaries\n",
    "Vamos executad"
   ]
  },
  {
   "cell_type": "code",
   "execution_count": 14,
   "metadata": {},
   "outputs": [
    {
     "name": "stdout",
     "output_type": "stream",
     "text": [
      "[[ 151.07165527  156.49855042  102.27921295  116.58396149  167.95948792]\n",
      " [ 135.45622253   82.76316071  141.42784119  124.22093201   71.06043243]\n",
      " [ 113.30171204   93.09214783   76.06819153  136.43911743  154.42727661]\n",
      " [  96.7172699    81.83804321  133.83674622  146.38117981  101.10578918]\n",
      " [ 122.72680664  105.98292542   59.04463196   67.98310089   72.89292145]] \n",
      "\n",
      "[[ 5134.64404297  5674.25         283.12432861  1705.47070312\n",
      "   6813.83154297]\n",
      " [ 4341.8125      1598.26696777  4652.73388672  3756.8293457    988.9463501 ]\n",
      " [ 3207.8112793   2038.10290527  1052.77416992  4546.98046875\n",
      "   5588.11572266]\n",
      " [ 1707.37902832   614.02526855  4434.98876953  5356.77734375\n",
      "   2029.85546875]\n",
      " [ 3714.09838867  2806.64379883   262.76763916   747.19854736\n",
      "   1013.29199219]]\n"
     ]
    }
   ],
   "source": [
    "# eh necessario criar a sessao apra executar\n",
    "with tf.Session() as sess:\n",
    "    # vou executar a operçâo 'add_op' sobre o placeholder a que será\n",
    "    # o dado rand_a e sobre b: rand_b\n",
    "    # isso serve se rand_a e ranb fossem so inteiros\n",
    "    add_result = sess.run(add_op, feed_dict = {a: rand_a, b: rand_b})\n",
    "    print(add_result, '\\n')\n",
    "    # O mesmo com a multiplicaçâo\n",
    "    mult_result = sess.run(mult_op, feed_dict = {a: rand_a, b: rand_b})\n",
    "    print(mult_result)"
   ]
  },
  {
   "cell_type": "markdown",
   "metadata": {},
   "source": [
    "# Neural Net PART 2 - Mais real emesmo\n",
    "MAIOR DIFERENÇA: TUDO É SOBRE VETORES, VOCE NAO ESPECIFICA 10 NODES, ESPECIFICA UM NODE COM VETOR DE 10"
   ]
  },
  {
   "cell_type": "markdown",
   "metadata": {},
   "source": [
    "Configuran a NeuralNet"
   ]
  },
  {
   "cell_type": "code",
   "execution_count": 15,
   "metadata": {
    "collapsed": true
   },
   "outputs": [],
   "source": [
    "# 1. Definido caracteristicas da nossa rede\n",
    "n_features = 10      # 10 features\n",
    "n_dense_neurons = 3  # 3 neuronios (1 CAMADA SOEMENTE)"
   ]
  },
  {
   "cell_type": "markdown",
   "metadata": {},
   "source": [
    "palce holder"
   ]
  },
  {
   "cell_type": "code",
   "execution_count": 16,
   "metadata": {
    "collapsed": true
   },
   "outputs": [],
   "source": [
    "# Placeholder for x : o none e porque nao é uma matriz, sera entao o número de featurs\n",
    "# Perceba que é um unico place holder\n",
    "x = tf.placeholder(tf.float32,(None,n_features))"
   ]
  },
  {
   "cell_type": "code",
   "execution_count": 17,
   "metadata": {
    "collapsed": true
   },
   "outputs": [],
   "source": [
    " #Pesos W: \n",
    "W = tf.Variable(tf.random_normal([n_features,n_dense_neurons]))\n",
    "\n",
    "# BIAS\n",
    "b = tf.Variable(tf.zeros([n_dense_neurons]))"
   ]
  },
  {
   "cell_type": "markdown",
   "metadata": {},
   "source": [
    "** Operation Activation Function **"
   ]
  },
  {
   "cell_type": "code",
   "execution_count": 18,
   "metadata": {
    "collapsed": true
   },
   "outputs": [],
   "source": [
    "# Funççoes auxiliares (serao processo necessarios para o que queremos fazer)\n",
    "xW = tf.matmul(x,W)\n",
    "z  = tf.add(xW,b)\n",
    "# Funçâo de ativaçâo\n",
    "a  = tf.sigmoid(z) # tf.nn.relu() or tf.tanh()"
   ]
  },
  {
   "cell_type": "code",
   "execution_count": 19,
   "metadata": {},
   "outputs": [
    {
     "name": "stdout",
     "output_type": "stream",
     "text": [
      "[[ 0.08226703  0.662723    0.17261438]]\n"
     ]
    }
   ],
   "source": [
    "# Esse exemplo nao tme reajuste, vamos fazelo\n",
    "\n",
    "init = tf.global_variables_initializer() # inicializar varaiaveis\n",
    "# iniciar sessao e processar neuralNet\n",
    "with tf.Session() as sess:\n",
    "    sess.run(init) # realizar a inicializaçao\n",
    "    # O que está aconcendo aqui (RECURSAO)\n",
    "    # 1. Executa sigmoide\n",
    "    #  2. Executa soma de ois parametros (xw e b), temos b (Variavel inicializada) mas nao temos xW\n",
    "    #   3. xw é a multiplicação de matrizes x pela varaiveil inicializada W\n",
    "    #      x é o place_holder, que definimos em 'feed_dict' que é np.random.random([1,n_features]\n",
    "    #   4. Com isso volta a recrussao\n",
    "    layer_out = sess.run(a, feed_dict = {x : np.random.random([1,n_features])})\n",
    "# saida de tudo, é printada\n",
    "print(layer_out)"
   ]
  },
  {
   "cell_type": "markdown",
   "metadata": {},
   "source": [
    "### Neural Net com DataDos Falso =  Regressao\n",
    "+ agora, vamos fazer com funçâo de custo de verdade"
   ]
  },
  {
   "cell_type": "code",
   "execution_count": 21,
   "metadata": {},
   "outputs": [
    {
     "name": "stdout",
     "output_type": "stream",
     "text": [
      "[ 0.5420333   1.17575569  0.85241231  2.50514314  4.67005971  4.41685654\n",
      "  6.66701681  6.69180648  7.54731409  9.03483077]\n",
      "[ -0.17289561   2.24387308   3.57001461   3.26783558   4.32780247\n",
      "   5.96742265   6.14049066   6.63051206   7.54219188  10.41297596]\n"
     ]
    }
   ],
   "source": [
    "# dados de entrada\n",
    "x_data = np.linspace(0,10,10) + np.random.uniform(-1.5,1.5,10)\n",
    "print(x_data)\n",
    "# dados de saida\n",
    "y_label = np.linspace(0,10,10) + np.random.uniform(-1.5,1.5,10)\n",
    "print(y_label)\n",
    "# obiamente, nao serao os mesmso, mas sera enter [-1.5,1.5 perto]"
   ]
  },
  {
   "cell_type": "code",
   "execution_count": 22,
   "metadata": {},
   "outputs": [
    {
     "data": {
      "text/plain": [
       "[<matplotlib.lines.Line2D at 0x258cb4a95c0>]"
      ]
     },
     "execution_count": 22,
     "metadata": {},
     "output_type": "execute_result"
    },
    {
     "data": {
      "image/png": "[encoded data removed]",
      "text/plain": [
       "<matplotlib.figure.Figure at 0x258cb184668>"
      ]
     },
     "metadata": {},
     "output_type": "display_data"
    }
   ],
   "source": [
    "import matplotlib.pyplot as plt\n",
    "%matplotlib inline\n",
    "# printando o grafico\n",
    "plt.plot(x_data,y_label,'*')"
   ]
  },
  {
   "cell_type": "markdown",
   "metadata": {},
   "source": [
    "obviamente os dados sao paraceido, pois vem do mesmo lienar_space com algum ruido pelo dandom entre [[-1,5, 1.5]"
   ]
  },
  {
   "cell_type": "code",
   "execution_count": 23,
   "metadata": {
    "collapsed": true
   },
   "outputs": [],
   "source": [
    "# esse valores podem ser aleartorios, mas fixamos como esses\n",
    "# sao memso numeros alaertorios\n",
    "m = tf.Variable(0.44)\n",
    "b = tf.Variable(0.87)"
   ]
  },
  {
   "cell_type": "markdown",
   "metadata": {},
   "source": [
    "#### funçâo de custo\n",
    "Será o erro elevado ao quadrado"
   ]
  },
  {
   "cell_type": "code",
   "execution_count": 24,
   "metadata": {
    "collapsed": true
   },
   "outputs": [],
   "source": [
    "error = 0\n",
    "for x,y in zip(x_data,y_label):\n",
    "    predict_y = (m*x) + b    # Our predicted value\n",
    "    error = error + (y - predict_y) ** 2 \n",
    "    # The cost we want to minimize \n",
    "    # (we'll need to use an optimization function for the minimization!)"
   ]
  },
  {
   "cell_type": "markdown",
   "metadata": {},
   "source": [
    "### Optimizer"
   ]
  },
  {
   "cell_type": "code",
   "execution_count": 25,
   "metadata": {
    "collapsed": true
   },
   "outputs": [],
   "source": [
    "optimizer = tf.train.GradientDescentOptimizer(learning_rate=0.001)\n",
    "train = optimizer.minimize(error)"
   ]
  },
  {
   "cell_type": "markdown",
   "metadata": {},
   "source": [
    "### Initialize Variabels adn Create Session and Run!"
   ]
  },
  {
   "cell_type": "code",
   "execution_count": 26,
   "metadata": {
    "collapsed": true
   },
   "outputs": [],
   "source": [
    "# inicializer variabels\n",
    "init = tf.global_variables_initializer()\n",
    "# criar sessao e geraras as operaçoes\n",
    "with tf.Session() as sess:\n",
    "    sess.run(init) # executa a inicializaçao\n",
    "    epochs = 100 # contar epocas\n",
    "    for i in range(epochs):\n",
    "        sess.run(train)\n",
    "    # Fetch Back Results\n",
    "    final_slope , final_intercept = sess.run([m,b])"
   ]
  },
  {
   "cell_type": "markdown",
   "metadata": {},
   "source": [
    "### Evaluate Results"
   ]
  },
  {
   "cell_type": "code",
   "execution_count": 27,
   "metadata": {},
   "outputs": [
    {
     "data": {
      "text/plain": [
       "[<matplotlib.lines.Line2D at 0x258c9cc1d30>]"
      ]
     },
     "execution_count": 27,
     "metadata": {},
     "output_type": "execute_result"
    },
    {
     "data": {
      "image/png": "[encoded data removed]",
      "text/plain": [
       "<matplotlib.figure.Figure at 0x258c9cc1828>"
      ]
     },
     "metadata": {},
     "output_type": "display_data"
    }
   ],
   "source": [
    "x_test = np.linspace(-1,11,10)\n",
    "y_pred_plot = final_slope*x_test + final_intercept\n",
    "\n",
    "plt.plot(x_test,y_pred_plot,'r')\n",
    "\n",
    "plt.plot(x_data,y_label,'*')"
   ]
  },
  {
   "cell_type": "code",
   "execution_count": null,
   "metadata": {
    "collapsed": true
   },
   "outputs": [],
   "source": []
  }
 ],
 "metadata": {
  "kernelspec": {
   "display_name": "Python 3",
   "language": "python",
   "name": "python3"
  },
  "language_info": {
   "codemirror_mode": {
    "name": "ipython",
    "version": 3
   },
   "file_extension": ".py",
   "mimetype": "text/x-python",
   "name": "python",
   "nbconvert_exporter": "python",
   "pygments_lexer": "ipython3",
   "version": "3.5.4"
  }
 },
 "nbformat": 4,
 "nbformat_minor": 2
}
